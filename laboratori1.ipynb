{
  "nbformat": 4,
  "nbformat_minor": 0,
  "metadata": {
    "colab": {
      "name": "XN-ED Lab00-Intro_Tensors.ipynb",
      "provenance": [],
      "collapsed_sections": [
        "1ng2mpMYgkpu",
        "y62dQH467jbn",
        "3odUxKDa7jbq",
        "ir1URH3v7jbt",
        "De7wobZv7jbv",
        "3p2bHHeHJewn",
        "lpCZhT8U7jbz",
        "SyeN3wTV7jb1",
        "9yGGuawb7jb3",
        "x59Bo0QnEUOU",
        "o-_70bB17jb4",
        "8Xl6U-RoEtY3",
        "6GL-oqVPZUDQ",
        "lLYMuVFOZeUR",
        "IHNfxRiUZi9Z",
        "pMy7A7sNZmlC",
        "rCrkgPdVtPYD",
        "wkWT-1K3tS3g",
        "_CQOQDaNtT-h",
        "RnQ3TtDWtV4H",
        "1xoKCk2LtXCR",
        "wULNmE8YtZvA",
        "g8ZitVihtbIP"
      ]
    },
    "kernelspec": {
      "display_name": "Python 3",
      "language": "python",
      "name": "python3"
    },
    "language_info": {
      "codemirror_mode": {
        "name": "ipython",
        "version": 3
      },
      "file_extension": ".py",
      "mimetype": "text/x-python",
      "name": "python",
      "nbconvert_exporter": "python",
      "pygments_lexer": "ipython3",
      "version": "3.7.9"
    },
    "accelerator": "GPU"
  },
  "cells": [
    {
      "cell_type": "markdown",
      "metadata": {
        "id": "view-in-github"
      },
      "source": [
        "<a href=\"https://colab.research.google.com/github/dkaratzas/XNAP_Profs/blob/main/W01_01_Intro_Tensors.ipynb\" target=\"_parent\"><img src=\"https://colab.research.google.com/assets/colab-badge.svg\" alt=\"Open In Colab\"/></a>"
      ]
    },
    {
      "cell_type": "markdown",
      "metadata": {
        "id": "8IF4i31_7jbg"
      },
      "source": [
        "\n",
        "# What is PyTorch?\n",
        "\n",
        "It’s a Python based scientific computing package targeted at two sets of audiences:\n",
        "\n",
        "-  Tensorial library that uses the power of GPUs\n",
        "-  A deep learning research platform that provides maximum flexibility and speed\n"
      ]
    },
    {
      "cell_type": "markdown",
      "metadata": {
        "id": "1ng2mpMYgkpu"
      },
      "source": [
        "## Import the library"
      ]
    },
    {
      "cell_type": "code",
      "metadata": {
        "id": "FzX92S587jbm"
      },
      "source": [
        "import torch"
      ],
      "execution_count": 49,
      "outputs": []
    },
    {
      "cell_type": "markdown",
      "metadata": {
        "id": "y62dQH467jbn"
      },
      "source": [
        "## Getting help in Jupyter"
      ]
    },
    {
      "cell_type": "code",
      "metadata": {
        "id": "4g-D23eg7jbn",
        "colab": {
          "base_uri": "https://localhost:8080/",
          "height": 167
        },
        "outputId": "f5903844-0ad2-4867-ba01-4f033845e71e"
      },
      "source": [
        "torch.sq  # <Tab>"
      ],
      "execution_count": 50,
      "outputs": [
        {
          "output_type": "error",
          "ename": "AttributeError",
          "evalue": "ignored",
          "traceback": [
            "\u001b[0;31m---------------------------------------------------------------------------\u001b[0m",
            "\u001b[0;31mAttributeError\u001b[0m                            Traceback (most recent call last)",
            "\u001b[0;32m<ipython-input-50-eef6cd7355b7>\u001b[0m in \u001b[0;36m<module>\u001b[0;34m()\u001b[0m\n\u001b[0;32m----> 1\u001b[0;31m \u001b[0mtorch\u001b[0m\u001b[0;34m.\u001b[0m\u001b[0msq\u001b[0m  \u001b[0;31m# <Tab>\u001b[0m\u001b[0;34m\u001b[0m\u001b[0;34m\u001b[0m\u001b[0m\n\u001b[0m",
            "\u001b[0;31mAttributeError\u001b[0m: module 'torch' has no attribute 'sq'"
          ]
        }
      ]
    },
    {
      "cell_type": "code",
      "metadata": {
        "id": "BIqY0-QT7jbo"
      },
      "source": [
        "# What about all `*Tensor`s?\n",
        "# Press <esc> to get out of help\n",
        "torch.*Tensor?"
      ],
      "execution_count": null,
      "outputs": []
    },
    {
      "cell_type": "code",
      "metadata": {
        "id": "ED3Z0RKO7jbo"
      },
      "source": [
        "torch.nn.Module()  # <Shift>+<Tab>"
      ],
      "execution_count": null,
      "outputs": []
    },
    {
      "cell_type": "code",
      "metadata": {
        "id": "vrBufY4q7jbo"
      },
      "source": [
        "# Annotate your functions / classes!\n",
        "torch.nn.Module?"
      ],
      "execution_count": null,
      "outputs": []
    },
    {
      "cell_type": "code",
      "metadata": {
        "id": "k6gVzBNi7jbp"
      },
      "source": [
        "torch.nn.Module??"
      ],
      "execution_count": null,
      "outputs": []
    },
    {
      "cell_type": "markdown",
      "metadata": {
        "id": "3odUxKDa7jbq"
      },
      "source": [
        "## Torch!"
      ]
    },
    {
      "cell_type": "code",
      "metadata": {
        "id": "dxMMJ1tO7jbq",
        "colab": {
          "base_uri": "https://localhost:8080/"
        },
        "outputId": "d57cc64b-d894-433c-f872-cfc4c40a18bc"
      },
      "source": [
        "# Generate a tensor of size 2x3x4\n",
        "t = torch.Tensor(2, 3, 4)\n",
        "type(t)"
      ],
      "execution_count": 51,
      "outputs": [
        {
          "output_type": "execute_result",
          "data": {
            "text/plain": [
              "torch.Tensor"
            ]
          },
          "metadata": {
            "tags": []
          },
          "execution_count": 51
        }
      ]
    },
    {
      "cell_type": "code",
      "metadata": {
        "id": "P3xcTvfc7jbr",
        "colab": {
          "base_uri": "https://localhost:8080/"
        },
        "outputId": "fcdbab61-4e8d-4d70-8a08-28ab297e93fc"
      },
      "source": [
        "# Get the size of the tensor\n",
        "t.size()"
      ],
      "execution_count": 52,
      "outputs": [
        {
          "output_type": "execute_result",
          "data": {
            "text/plain": [
              "torch.Size([2, 3, 4])"
            ]
          },
          "metadata": {
            "tags": []
          },
          "execution_count": 52
        }
      ]
    },
    {
      "cell_type": "code",
      "metadata": {
        "id": "XXAmpH-Z7jbr",
        "colab": {
          "base_uri": "https://localhost:8080/"
        },
        "outputId": "b96901ae-f80c-4dea-8f32-2cd3d36155d6"
      },
      "source": [
        "# prints dimensional space and sub-dimensions\n",
        "print(f'point in a {t.numel()} dimensional space')\n",
        "print(f'organised in {t.dim()} sub-dimensions')"
      ],
      "execution_count": 53,
      "outputs": [
        {
          "output_type": "stream",
          "text": [
            "point in a 24 dimensional space\n",
            "organised in 3 sub-dimensions\n"
          ],
          "name": "stdout"
        }
      ]
    },
    {
      "cell_type": "code",
      "metadata": {
        "id": "uC8XADcV7jbr",
        "colab": {
          "base_uri": "https://localhost:8080/"
        },
        "outputId": "12255b7e-92ad-43ae-d7fa-f4be74ad483d"
      },
      "source": [
        "t"
      ],
      "execution_count": 54,
      "outputs": [
        {
          "output_type": "execute_result",
          "data": {
            "text/plain": [
              "tensor([[[6.5337e-07, 3.0728e-41, 7.0065e-44, 6.8664e-44],\n",
              "         [6.3058e-44, 6.7262e-44, 7.0065e-44, 6.3058e-44],\n",
              "         [7.0065e-44, 7.4269e-44, 1.1771e-43, 6.8664e-44]],\n",
              "\n",
              "        [[7.9874e-44, 8.1275e-44, 7.2868e-44, 7.7071e-44],\n",
              "         [8.1275e-44, 6.7262e-44, 7.4269e-44, 6.4460e-44],\n",
              "         [6.8664e-44, 7.9874e-44, 7.5670e-44, 7.0065e-44]]])"
            ]
          },
          "metadata": {
            "tags": []
          },
          "execution_count": 54
        }
      ]
    },
    {
      "cell_type": "code",
      "metadata": {
        "id": "3ARC3wOQ7jbr",
        "colab": {
          "base_uri": "https://localhost:8080/"
        },
        "outputId": "9fa343f0-48c3-4cbf-b8b5-c8b1aa2d094c"
      },
      "source": [
        "# Mind the underscore!\n",
        "# Any operation that mutates a tensor in-place is post-fixed with an _.\n",
        "# For example: x.copy_(y), x.t_(), x.random_(n) will change x.\n",
        "t.random_(10)"
      ],
      "execution_count": 55,
      "outputs": [
        {
          "output_type": "execute_result",
          "data": {
            "text/plain": [
              "tensor([[[8., 8., 3., 7.],\n",
              "         [0., 8., 1., 0.],\n",
              "         [6., 3., 5., 6.]],\n",
              "\n",
              "        [[6., 7., 5., 0.],\n",
              "         [9., 1., 4., 2.],\n",
              "         [2., 1., 4., 8.]]])"
            ]
          },
          "metadata": {
            "tags": []
          },
          "execution_count": 55
        }
      ]
    },
    {
      "cell_type": "code",
      "metadata": {
        "id": "wL2ajaMg7jbs",
        "colab": {
          "base_uri": "https://localhost:8080/"
        },
        "outputId": "7748d25a-1922-4468-ed77-2f458f97b71b"
      },
      "source": [
        "r = t.view(3, 8)\n",
        "r"
      ],
      "execution_count": 61,
      "outputs": [
        {
          "output_type": "execute_result",
          "data": {
            "text/plain": [
              "tensor([[0., 0., 0., 0., 0., 0., 0., 0.],\n",
              "        [0., 0., 0., 0., 0., 0., 0., 0.],\n",
              "        [0., 0., 0., 0., 0., 0., 0., 0.]])"
            ]
          },
          "metadata": {
            "tags": []
          },
          "execution_count": 61
        }
      ]
    },
    {
      "cell_type": "code",
      "metadata": {
        "id": "ivViPVSG7jbs",
        "colab": {
          "base_uri": "https://localhost:8080/"
        },
        "outputId": "23ad5f94-a430-429b-9eac-23feb4655ba2"
      },
      "source": [
        "# As you can see zero_ would replace r with 0's which was originally filled with integers\n",
        "r.zero_()"
      ],
      "execution_count": 62,
      "outputs": [
        {
          "output_type": "execute_result",
          "data": {
            "text/plain": [
              "tensor([[0., 0., 0., 0., 0., 0., 0., 0.],\n",
              "        [0., 0., 0., 0., 0., 0., 0., 0.],\n",
              "        [0., 0., 0., 0., 0., 0., 0., 0.]])"
            ]
          },
          "metadata": {
            "tags": []
          },
          "execution_count": 62
        }
      ]
    },
    {
      "cell_type": "code",
      "metadata": {
        "id": "-7KuYVw17jbs",
        "colab": {
          "base_uri": "https://localhost:8080/"
        },
        "outputId": "d8248e15-21d3-451f-c247-a8f24b7c2e5c"
      },
      "source": [
        "t"
      ],
      "execution_count": 63,
      "outputs": [
        {
          "output_type": "execute_result",
          "data": {
            "text/plain": [
              "tensor([[[0., 0., 0., 0.],\n",
              "         [0., 0., 0., 0.],\n",
              "         [0., 0., 0., 0.]],\n",
              "\n",
              "        [[0., 0., 0., 0.],\n",
              "         [0., 0., 0., 0.],\n",
              "         [0., 0., 0., 0.]]])"
            ]
          },
          "metadata": {
            "tags": []
          },
          "execution_count": 63
        }
      ]
    },
    {
      "cell_type": "code",
      "metadata": {
        "id": "uIhTq4nIdqx7",
        "colab": {
          "base_uri": "https://localhost:8080/"
        },
        "outputId": "daf18e69-154c-47db-d417-0b8329480d6e"
      },
      "source": [
        "# What are strides. And how are they related to shapes? \n",
        "print(t.stride(), r.stride())\n",
        "print(t.shape, r.shape)"
      ],
      "execution_count": 59,
      "outputs": [
        {
          "output_type": "stream",
          "text": [
            "(12, 4, 1) (8, 1)\n",
            "torch.Size([2, 3, 4]) torch.Size([3, 8])\n"
          ],
          "name": "stdout"
        }
      ]
    },
    {
      "cell_type": "code",
      "metadata": {
        "id": "845ScyEwSL1M"
      },
      "source": [
        "#stride = cuánto me tengo que mover por una dimensión para alcanzar la siguiente fila"
      ],
      "execution_count": 64,
      "outputs": []
    },
    {
      "cell_type": "code",
      "metadata": {
        "id": "Uum4hxYkffli"
      },
      "source": [
        "# Let's try that again without doing the operations in place\n",
        "t.random_(10)"
      ],
      "execution_count": null,
      "outputs": []
    },
    {
      "cell_type": "code",
      "metadata": {
        "id": "bJM4es_M-p2Y"
      },
      "source": [
        "# Not in place\n",
        "r = t.view(3, 8)\n",
        "r = torch.zeros_like(r)   #con la misma forma de (r)\n",
        "r"
      ],
      "execution_count": null,
      "outputs": []
    },
    {
      "cell_type": "code",
      "metadata": {
        "id": "Ivw8wI5U-12D"
      },
      "source": [
        "t   #t no ha cambiado (se crea memoria nueva para r = not in place)"
      ],
      "execution_count": null,
      "outputs": []
    },
    {
      "cell_type": "code",
      "metadata": {
        "id": "dJdGqvwTdiMs"
      },
      "source": [
        "# What are strides?\n",
        "print(t.stride(), r.stride())"
      ],
      "execution_count": null,
      "outputs": []
    },
    {
      "cell_type": "code",
      "metadata": {
        "id": "p6Fcui7u7jbs"
      },
      "source": [
        "# This *is* important\n",
        "s = r.clone()"
      ],
      "execution_count": null,
      "outputs": []
    },
    {
      "cell_type": "code",
      "metadata": {
        "id": "rm9a0zci7jbt"
      },
      "source": [
        "# In-place fill of 1's\n",
        "s.fill_(1)\n",
        "s"
      ],
      "execution_count": null,
      "outputs": []
    },
    {
      "cell_type": "code",
      "metadata": {
        "id": "Q1K3hywm7jbt"
      },
      "source": [
        "# Because we cloned r, even though we did an in-place operation, this doesn't affect r\n",
        "r"
      ],
      "execution_count": null,
      "outputs": []
    },
    {
      "cell_type": "markdown",
      "metadata": {
        "id": "ir1URH3v7jbt"
      },
      "source": [
        "## Vectors (1D Tensors)"
      ]
    },
    {
      "cell_type": "code",
      "metadata": {
        "id": "dRCvA1R17jbt"
      },
      "source": [
        "# Creates a 1D tensor of integers 1 to 4\n",
        "v = torch.tensor([1, 2, 3, 4])\n",
        "v"
      ],
      "execution_count": null,
      "outputs": []
    },
    {
      "cell_type": "code",
      "metadata": {
        "id": "wmkSLrIi7jbt"
      },
      "source": [
        "# Print number of dimensions (1D) and size of tensor\n",
        "print(f'dim: {v.dim()}, size: {v.size()[0]}')"
      ],
      "execution_count": null,
      "outputs": []
    },
    {
      "cell_type": "code",
      "metadata": {
        "id": "K03oi68R7jbu"
      },
      "source": [
        "w = torch.tensor([1, 0, 2, 0])\n",
        "w"
      ],
      "execution_count": null,
      "outputs": []
    },
    {
      "cell_type": "code",
      "metadata": {
        "id": "yGGpVC_b7jbu"
      },
      "source": [
        "# Element-wise multiplication\n",
        "v * w   #multiplicación 1 por 1"
      ],
      "execution_count": null,
      "outputs": []
    },
    {
      "cell_type": "code",
      "metadata": {
        "id": "pq7-Aqs_7jbu"
      },
      "source": [
        "# Scalar product: 1*1 + 2*0 + 3*2 + 4*0\n",
        "v @ w"
      ],
      "execution_count": null,
      "outputs": []
    },
    {
      "cell_type": "code",
      "metadata": {
        "id": "x-oXbFTO7jbu"
      },
      "source": [
        "# In-place replacement of random number from 0 to 10\n",
        "x = torch.Tensor(5).random_(10)\n",
        "x"
      ],
      "execution_count": null,
      "outputs": []
    },
    {
      "cell_type": "code",
      "metadata": {
        "id": "00BUa-L47jbu"
      },
      "source": [
        "print(f'first: {x[0]}, last: {x[-1]}')"
      ],
      "execution_count": null,
      "outputs": []
    },
    {
      "cell_type": "code",
      "metadata": {
        "id": "ZX_Uy_T17jbu"
      },
      "source": [
        "# Extract sub-Tensor [from:to)\n",
        "x[1:2 + 1]"
      ],
      "execution_count": null,
      "outputs": []
    },
    {
      "cell_type": "code",
      "metadata": {
        "id": "ZPNJt5Kt7jbv"
      },
      "source": [
        "# Create a tensor with integers ranging from 1 to 5, excluding 5\n",
        "v = torch.arange(1, 4 + 1)\n",
        "v"
      ],
      "execution_count": null,
      "outputs": []
    },
    {
      "cell_type": "code",
      "metadata": {
        "id": "7_nwZPg-7jbv"
      },
      "source": [
        "# Square all elements in the tensor\n",
        "print(v.pow(2), v)"
      ],
      "execution_count": null,
      "outputs": []
    },
    {
      "cell_type": "markdown",
      "metadata": {
        "id": "De7wobZv7jbv"
      },
      "source": [
        "## Matrices (2D Tensors)"
      ]
    },
    {
      "cell_type": "code",
      "metadata": {
        "id": "JuiyP0MK7jbv"
      },
      "source": [
        "# Create a 2x4 tensor\n",
        "m = torch.Tensor([[2, 5, 3, 7],\n",
        "                  [4, 2, 1, 9]])\n",
        "m"
      ],
      "execution_count": null,
      "outputs": []
    },
    {
      "cell_type": "code",
      "metadata": {
        "id": "xI36U8sv7jbv"
      },
      "source": [
        "m.dim()"
      ],
      "execution_count": null,
      "outputs": []
    },
    {
      "cell_type": "code",
      "metadata": {
        "id": "7f91z4dw7jbw"
      },
      "source": [
        "print(m.size(0), m.size(1), m.size(), sep=' -- ')\n",
        "#m.size(0) = filas; m.size(1) = columnas"
      ],
      "execution_count": null,
      "outputs": []
    },
    {
      "cell_type": "code",
      "metadata": {
        "id": "4vuLnT2z7jbw"
      },
      "source": [
        "# Indexing row 0, column 2 (0-indexed)\n",
        "m[0][2]"
      ],
      "execution_count": null,
      "outputs": []
    },
    {
      "cell_type": "code",
      "metadata": {
        "id": "YLIC7pG97jbw"
      },
      "source": [
        "# Indexing row 0, column 2 (0-indexed)\n",
        "m[0, 2]"
      ],
      "execution_count": null,
      "outputs": []
    },
    {
      "cell_type": "code",
      "metadata": {
        "id": "tsutF_zc7jbw"
      },
      "source": [
        "# Indexing column 1, all rows (returns size 2)\n",
        "m[:, 1]\n",
        "#m[:] = seleccionar todas las filas"
      ],
      "execution_count": null,
      "outputs": []
    },
    {
      "cell_type": "code",
      "metadata": {
        "id": "cLg24cHx7jbw"
      },
      "source": [
        "# Indexing column 1, all rows (returns size 2x2)\n",
        "m[:, [1]]"
      ],
      "execution_count": null,
      "outputs": []
    },
    {
      "cell_type": "code",
      "metadata": {
        "id": "F8nu79EU7jbx"
      },
      "source": [
        "# Indexes row 0, all columns (returns 1x4)\n",
        "m[[0], :]"
      ],
      "execution_count": null,
      "outputs": []
    },
    {
      "cell_type": "code",
      "metadata": {
        "id": "oYVpTC7l7jbx"
      },
      "source": [
        "# Create tensor of numbers from 1 to 5 (excluding 5)\n",
        "v = torch.arange(1., 4 + 1)\n",
        "v"
      ],
      "execution_count": null,
      "outputs": []
    },
    {
      "cell_type": "code",
      "metadata": {
        "id": "0UQd3S3w7jbx"
      },
      "source": [
        "m"
      ],
      "execution_count": null,
      "outputs": []
    },
    {
      "cell_type": "code",
      "metadata": {
        "id": "c10o4XUQ7jbx"
      },
      "source": [
        "# Scalar product\n",
        "m @ v"
      ],
      "execution_count": null,
      "outputs": []
    },
    {
      "cell_type": "code",
      "metadata": {
        "id": "fEkCtsZG7jbx"
      },
      "source": [
        "# Calculated by 1*2 + 2*5 + 3*3 + 4*7\n",
        "m[0, :] @ v"
      ],
      "execution_count": null,
      "outputs": []
    },
    {
      "cell_type": "code",
      "metadata": {
        "id": "HzxKEjus7jby"
      },
      "source": [
        "# Calculated by \n",
        "m[[1], :] @ v"
      ],
      "execution_count": null,
      "outputs": []
    },
    {
      "cell_type": "code",
      "metadata": {
        "id": "mP7c5qI17jby"
      },
      "source": [
        "# Add a random tensor of size 2x4 to m\n",
        "m + torch.rand(2, 4)"
      ],
      "execution_count": null,
      "outputs": []
    },
    {
      "cell_type": "code",
      "metadata": {
        "id": "nli9YIb17jby"
      },
      "source": [
        "# Subtract a random tensor of size 2x4 to m\n",
        "m - torch.rand(2, 4)"
      ],
      "execution_count": null,
      "outputs": []
    },
    {
      "cell_type": "code",
      "metadata": {
        "id": "v0QPbbr87jby"
      },
      "source": [
        "# Multiply a random tensor of size 2x4 to m\n",
        "m * torch.rand(2, 4)"
      ],
      "execution_count": null,
      "outputs": []
    },
    {
      "cell_type": "code",
      "metadata": {
        "id": "wRxwhq3p7jby"
      },
      "source": [
        "# Divide m by a random tensor of size 2x4\n",
        "m / torch.rand(2, 4)"
      ],
      "execution_count": null,
      "outputs": []
    },
    {
      "cell_type": "code",
      "metadata": {
        "id": "MFjUamkg7jby"
      },
      "source": [
        "m.size()"
      ],
      "execution_count": null,
      "outputs": []
    },
    {
      "cell_type": "code",
      "metadata": {
        "id": "88uWT_-N7jbz"
      },
      "source": [
        "# Transpose tensor m, which is essentially 2x4 to 4x2\n",
        "m.t()"
      ],
      "execution_count": null,
      "outputs": []
    },
    {
      "cell_type": "code",
      "metadata": {
        "id": "hfx8uRtl7jbz"
      },
      "source": [
        "# Same as\n",
        "m.transpose(0, 1)"
      ],
      "execution_count": null,
      "outputs": []
    },
    {
      "cell_type": "markdown",
      "metadata": {
        "id": "3p2bHHeHJewn"
      },
      "source": [
        "## Broadcasting\n",
        "\n",
        "Two tensors are “broadcastable” if the following rules hold:\n",
        "\n",
        "*   Each tensor has at least one dimension.\n",
        "*   When iterating over the dimension sizes, starting at the trailing dimension, the dimension sizes must either be equal, one of them is 1, or one of them does not exist.\n"
      ]
    },
    {
      "cell_type": "code",
      "metadata": {
        "id": "pPyg44mxJeHP"
      },
      "source": [
        "#broadcasting = lo que nos permite operar con dos tensores. Repetir los datos de los tensores hasta que se pueda operar \n",
        "#con ellos\n",
        "\n",
        "x=torch.empty(5,7,3)\n",
        "y=torch.empty(5,7,3)\n",
        "# x and y are broadcastable since all dimensions are equal\n",
        "\n",
        "x=torch.empty((0,))\n",
        "y=torch.empty(2,2)\n",
        "# x and y are not broadcastable, because x does not have at least 1 dimension\n",
        "\n",
        "x=torch.empty(5,3,4,1)\n",
        "y=torch.empty(  3,1,1)\n",
        "# x and y are broadcastable.\n",
        "# 1st trailing dimension: both have size 1\n",
        "# 2nd trailing dimension: y has size 1\n",
        "# 3rd trailing dimension: x size == y size\n",
        "# 4th trailing dimension: y dimension doesn't exist\n",
        "\n",
        "# but:\n",
        "x=torch.empty(5,2,4,1)\n",
        "y=torch.empty(  3,1,1)\n",
        "# x and y are not broadcastable, because in the 3rd trailing dimension 2 != 3"
      ],
      "execution_count": null,
      "outputs": []
    },
    {
      "cell_type": "code",
      "metadata": {
        "id": "MpudbDP9MI4U"
      },
      "source": [
        "# How is the output dimension calculated?\n",
        "x=torch.empty(5,1,4,1)\n",
        "y=torch.empty(3,1,1)\n",
        "print((x+y).size())\n",
        "\n",
        "x=torch.empty(1)\n",
        "y=torch.empty(3,1,7)\n",
        "print((x+y).size())\n",
        "\n",
        "#coger las dimensiones máximas de cada tensor para saber cuál será la dimensión del resultado de la suma de tensores"
      ],
      "execution_count": null,
      "outputs": []
    },
    {
      "cell_type": "markdown",
      "metadata": {
        "id": "lpCZhT8U7jbz"
      },
      "source": [
        "## Constructors"
      ]
    },
    {
      "cell_type": "code",
      "metadata": {
        "id": "ZYn7XeYu7jbz"
      },
      "source": [
        "# Create tensor from 3 to 8, with each having a space of 1\n",
        "torch.arange(3., 8 + 1)"
      ],
      "execution_count": null,
      "outputs": []
    },
    {
      "cell_type": "code",
      "metadata": {
        "id": "XH8X7Dts7jbz"
      },
      "source": [
        "# Create tensor from 5.7 to -2.1 with each having a space of -3\n",
        "torch.arange(5.7, -2.1, -3)"
      ],
      "execution_count": null,
      "outputs": []
    },
    {
      "cell_type": "code",
      "metadata": {
        "id": "3B14Dyrn7jbz"
      },
      "source": [
        "# returns a 1D tensor of steps equally spaced points between start=3, end=8 and steps=20\n",
        "torch.linspace(3, 8, 20).view(1, -1)   #view(1, -1) = no hace falta saber la dimensión del resultado"
      ],
      "execution_count": null,
      "outputs": []
    },
    {
      "cell_type": "code",
      "metadata": {
        "id": "pIVr8sEJSL1a"
      },
      "source": [
        "torch.linspace(3, 8, 20)"
      ],
      "execution_count": null,
      "outputs": []
    },
    {
      "cell_type": "code",
      "metadata": {
        "id": "tb4KEmjU7jb0"
      },
      "source": [
        "# Create a tensor filled with 0's\n",
        "torch.zeros(3, 5)"
      ],
      "execution_count": null,
      "outputs": []
    },
    {
      "cell_type": "code",
      "metadata": {
        "id": "TrOxrng27jb0"
      },
      "source": [
        "# Create a tensor filled with 1's\n",
        "torch.ones(3, 2, 5)"
      ],
      "execution_count": null,
      "outputs": []
    },
    {
      "cell_type": "code",
      "metadata": {
        "id": "xt6VUo1A7jb0"
      },
      "source": [
        "# Create a tensor with the diagonal filled with 1\n",
        "torch.eye(3)"
      ],
      "execution_count": null,
      "outputs": []
    },
    {
      "cell_type": "code",
      "metadata": {
        "id": "oDCnuhOf7jb0"
      },
      "source": [
        "from matplotlib import pyplot as plt\n",
        "plt.rcParams[\"figure.figsize\"] = (20,10)"
      ],
      "execution_count": null,
      "outputs": []
    },
    {
      "cell_type": "code",
      "metadata": {
        "id": "81dgFtq67jb0"
      },
      "source": [
        "# Numpy bridge = convertir un tensor en un numpy array\n",
        "plt.hist(torch.randn(1000).numpy(), 100);"
      ],
      "execution_count": null,
      "outputs": []
    },
    {
      "cell_type": "code",
      "metadata": {
        "id": "pBhx09297jb1"
      },
      "source": [
        "plt.hist(torch.randn(10**6).numpy(), 100);"
      ],
      "execution_count": null,
      "outputs": []
    },
    {
      "cell_type": "markdown",
      "metadata": {
        "id": "SyeN3wTV7jb1"
      },
      "source": [
        "## Casting"
      ]
    },
    {
      "cell_type": "code",
      "metadata": {
        "id": "MxMGbcNP7jb1"
      },
      "source": [
        "# Helper to get what kind of tensor types\n",
        "torch.*Tensor?"
      ],
      "execution_count": null,
      "outputs": []
    },
    {
      "cell_type": "code",
      "metadata": {
        "id": "-6pXTH4b7jb1"
      },
      "source": [
        "m = torch.Tensor([[2, 5, 3, 7],\n",
        "                  [4, 2, 1, 9]])\n",
        "m"
      ],
      "execution_count": null,
      "outputs": []
    },
    {
      "cell_type": "code",
      "metadata": {
        "id": "3TAG0hTN7jb2"
      },
      "source": [
        "# This is basically a 64 bit float tensor\n",
        "m_double = m.double()\n",
        "m_double"
      ],
      "execution_count": null,
      "outputs": []
    },
    {
      "cell_type": "code",
      "metadata": {
        "id": "hFe9nMZi7jb2"
      },
      "source": [
        "# This creates a tensor of type int8\n",
        "m_byte = m.byte()\n",
        "m_byte"
      ],
      "execution_count": null,
      "outputs": []
    },
    {
      "cell_type": "code",
      "metadata": {
        "id": "FSVzhX_I7jb2"
      },
      "source": [
        "# Converts tensor to numpy array\n",
        "m_np = m.numpy()\n",
        "m_np"
      ],
      "execution_count": null,
      "outputs": []
    },
    {
      "cell_type": "code",
      "metadata": {
        "id": "BHfSv9BB7jb2"
      },
      "source": [
        "# In-place fill of column 0 and row 0 with value -1\n",
        "m_np[0, 0] = -1\n",
        "m_np"
      ],
      "execution_count": null,
      "outputs": []
    },
    {
      "cell_type": "code",
      "metadata": {
        "id": "ICAeMZLU7jb3"
      },
      "source": [
        "m"
      ],
      "execution_count": null,
      "outputs": []
    },
    {
      "cell_type": "code",
      "metadata": {
        "id": "CStd3ORV7jb3"
      },
      "source": [
        "# Create a tensor of integers ranging from 0 to 4\n",
        "import numpy as np\n",
        "\n",
        "n_np = np.arange(5)\n",
        "n = torch.from_numpy(n_np)\n",
        "print(n_np)\n",
        "print(n)"
      ],
      "execution_count": null,
      "outputs": []
    },
    {
      "cell_type": "code",
      "metadata": {
        "id": "3gGi0E-h7jb3"
      },
      "source": [
        "# In-place multiplication of all elements by 2 for tensor n\n",
        "n.mul_(2)\n",
        "n_np   #n_np comparte memoria con n, por lo que la modificación en x se verá afectada en y"
      ],
      "execution_count": null,
      "outputs": []
    },
    {
      "cell_type": "markdown",
      "metadata": {
        "id": "9yGGuawb7jb3"
      },
      "source": [
        "## Using the GPU"
      ]
    },
    {
      "cell_type": "code",
      "metadata": {
        "id": "0cpHrxhrSL1f"
      },
      "source": [
        "#los tensores se pueden meter en GPU y que la GPU haga operaciones sobre ellos"
      ],
      "execution_count": null,
      "outputs": []
    },
    {
      "cell_type": "code",
      "metadata": {
        "id": "V3cSABmzDda2",
        "colab": {
          "base_uri": "https://localhost:8080/",
          "height": 238
        },
        "outputId": "34966a0d-a9cd-4ee5-dbad-3784cb6e3e73"
      },
      "source": [
        "import torch\n",
        "# If this cell fails you need to change the runtime of your colab notebook to GPU\n",
        "# Go to Runtime -> Change Runtime Type and select GPU\n",
        "assert torch.cuda.is_available(), \"GPU is not enabled\"   #asegurarnos que tenemos GPU\n",
        "\n",
        "# use the first gpu available if possible\n",
        "device = torch.device(\"cuda:0\" if torch.cuda.is_available() else \"cpu\")   #utilizamos la primera CPU (cuda:0) si existe"
      ],
      "execution_count": 2,
      "outputs": [
        {
          "output_type": "error",
          "ename": "AssertionError",
          "evalue": "ignored",
          "traceback": [
            "\u001b[0;31m---------------------------------------------------------------------------\u001b[0m",
            "\u001b[0;31mAssertionError\u001b[0m                            Traceback (most recent call last)",
            "\u001b[0;32m<ipython-input-2-a8c64257f1c2>\u001b[0m in \u001b[0;36m<module>\u001b[0;34m()\u001b[0m\n\u001b[1;32m      2\u001b[0m \u001b[0;31m# If this cell fails you need to change the runtime of your colab notebook to GPU\u001b[0m\u001b[0;34m\u001b[0m\u001b[0;34m\u001b[0m\u001b[0;34m\u001b[0m\u001b[0m\n\u001b[1;32m      3\u001b[0m \u001b[0;31m# Go to Runtime -> Change Runtime Type and select GPU\u001b[0m\u001b[0;34m\u001b[0m\u001b[0;34m\u001b[0m\u001b[0;34m\u001b[0m\u001b[0m\n\u001b[0;32m----> 4\u001b[0;31m \u001b[0;32massert\u001b[0m \u001b[0mtorch\u001b[0m\u001b[0;34m.\u001b[0m\u001b[0mcuda\u001b[0m\u001b[0;34m.\u001b[0m\u001b[0mis_available\u001b[0m\u001b[0;34m(\u001b[0m\u001b[0;34m)\u001b[0m\u001b[0;34m,\u001b[0m \u001b[0;34m\"GPU is not enabled\"\u001b[0m   \u001b[0;31m#asegurarnos que tenemos GPU\u001b[0m\u001b[0;34m\u001b[0m\u001b[0;34m\u001b[0m\u001b[0m\n\u001b[0m\u001b[1;32m      5\u001b[0m \u001b[0;34m\u001b[0m\u001b[0m\n\u001b[1;32m      6\u001b[0m \u001b[0;31m# use the first gpu available if possible\u001b[0m\u001b[0;34m\u001b[0m\u001b[0;34m\u001b[0m\u001b[0;34m\u001b[0m\u001b[0m\n",
            "\u001b[0;31mAssertionError\u001b[0m: GPU is not enabled"
          ]
        }
      ]
    },
    {
      "cell_type": "code",
      "metadata": {
        "id": "2rQvVYDMFIAW",
        "colab": {
          "base_uri": "https://localhost:8080/"
        },
        "outputId": "cf1bb6b5-a324-41dd-a2ff-537aac467fc6"
      },
      "source": [
        "# Tensors can be moved between gpu and cpu memory\n",
        "\n",
        "tensor = torch.randn(5, 5) # create a 5x5 matrix filled with random numbers\n",
        "print(f\"tensor's device: {tensor.device}\") # by default tensors are stored in cpu memory (RAM)\n",
        "\n",
        "# Move your tensor to GPU device 0 if there is one (first GPU in the system)\n",
        "if torch.cuda.is_available():\n",
        "    tensor = tensor.to(device) # tensor.cuda() is an alternative although not recommended\n",
        "print(f\"tensor's device: {tensor.device}\")"
      ],
      "execution_count": 89,
      "outputs": [
        {
          "output_type": "stream",
          "text": [
            "tensor's device: cpu\n",
            "tensor's device: cuda:0\n"
          ],
          "name": "stdout"
        }
      ]
    },
    {
      "cell_type": "code",
      "metadata": {
        "id": "YC5qfsoFTrrK"
      },
      "source": [
        "#tensor.to(device) = mover tensor a GPU"
      ],
      "execution_count": 90,
      "outputs": []
    },
    {
      "cell_type": "code",
      "metadata": {
        "id": "ccZpZ5xzZ8Sy",
        "colab": {
          "base_uri": "https://localhost:8080/",
          "height": 203
        },
        "outputId": "f07228f1-238f-4731-c5ef-8745b30238f9"
      },
      "source": [
        "# A common mistake = no podemos operar con tensores que están en lugares diferentes\n",
        "a = torch.randn(5, 2, device=device)\n",
        "b = torch.randn(1, 2)\n",
        "\n",
        "# This throws an exception, since you can't operate on tensors stored in\n",
        "# different devices, and the error message is pretty clear about that\n",
        "c = a * b"
      ],
      "execution_count": 91,
      "outputs": [
        {
          "output_type": "error",
          "ename": "RuntimeError",
          "evalue": "ignored",
          "traceback": [
            "\u001b[0;31m---------------------------------------------------------------------------\u001b[0m",
            "\u001b[0;31mRuntimeError\u001b[0m                              Traceback (most recent call last)",
            "\u001b[0;32m<ipython-input-91-783eff8691c1>\u001b[0m in \u001b[0;36m<module>\u001b[0;34m()\u001b[0m\n\u001b[1;32m      5\u001b[0m \u001b[0;31m# This throws an exception, since you can't operate on tensors stored in\u001b[0m\u001b[0;34m\u001b[0m\u001b[0;34m\u001b[0m\u001b[0;34m\u001b[0m\u001b[0m\n\u001b[1;32m      6\u001b[0m \u001b[0;31m# different devices, and the error message is pretty clear about that\u001b[0m\u001b[0;34m\u001b[0m\u001b[0;34m\u001b[0m\u001b[0;34m\u001b[0m\u001b[0m\n\u001b[0;32m----> 7\u001b[0;31m \u001b[0mc\u001b[0m \u001b[0;34m=\u001b[0m \u001b[0ma\u001b[0m \u001b[0;34m*\u001b[0m \u001b[0mb\u001b[0m\u001b[0;34m\u001b[0m\u001b[0;34m\u001b[0m\u001b[0m\n\u001b[0m",
            "\u001b[0;31mRuntimeError\u001b[0m: Expected all tensors to be on the same device, but found at least two devices, cuda:0 and cpu!"
          ]
        }
      ]
    },
    {
      "cell_type": "markdown",
      "metadata": {
        "id": "x59Bo0QnEUOU"
      },
      "source": [
        "# Gradient Computation\n",
        "\n"
      ]
    },
    {
      "cell_type": "code",
      "metadata": {
        "id": "H25IsxuRKlry",
        "colab": {
          "base_uri": "https://localhost:8080/"
        },
        "outputId": "81ae606c-43ab-4d1e-ff4a-9a89da755a03"
      },
      "source": [
        "# Tensors also track the operations applied on them in order to differentiate them\n",
        "\n",
        "# setting requires_grad to true tells the autograd engine that we want to compute\n",
        "# gradients for this tensor\n",
        "a = torch.tensor([2., 3.], requires_grad=True)\n",
        "print(a.grad)\n",
        "\n",
        "L = 3*a**3\n",
        "L.sum().backward()\n",
        "print(f\"Gradient of a with respecto to L: {a.grad}\")"
      ],
      "execution_count": null,
      "outputs": [
        {
          "output_type": "stream",
          "text": [
            "None\n",
            "Gradient of a with respecto to L: tensor([36., 81.])\n"
          ],
          "name": "stdout"
        }
      ]
    },
    {
      "cell_type": "markdown",
      "metadata": {
        "id": "_ZWCSfULW17N"
      },
      "source": [
        "![Captura.PNG](data:image/png;base64,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)"
      ]
    },
    {
      "cell_type": "code",
      "metadata": {
        "id": "61qpDwtvU_E8",
        "colab": {
          "base_uri": "https://localhost:8080/"
        },
        "outputId": "54bb14e7-653f-47d0-b16d-a16600acffc7"
      },
      "source": [
        "# Notice that the output tensor of an operation will require gradients even \n",
        "# if only a single input tensor has requires_grad=True.\n",
        "\n",
        "x = torch.rand(5, 5)\n",
        "y = torch.rand(5, 5)\n",
        "z = torch.rand((5, 5), requires_grad=True)\n",
        "\n",
        "a = x + y\n",
        "print(f\"Does a require gradients? : {a.requires_grad}\")\n",
        "b = x + z\n",
        "print(f\"Does b require gradients?: {b.requires_grad}\")"
      ],
      "execution_count": null,
      "outputs": [
        {
          "output_type": "stream",
          "text": [
            "Does a require gradients? : False\n",
            "Does b require gradients?: True\n"
          ],
          "name": "stdout"
        }
      ]
    },
    {
      "cell_type": "markdown",
      "metadata": {
        "id": "o-_70bB17jb4"
      },
      "source": [
        "## Much more\n",
        "\n",
        "There's definitely much more, but this was the basics about `Tensor`s fun.\n",
        "\n",
        "*Torch* full API should be read at least once.\n",
        "Hence, go [here](https://pytorch.org/docs/stable/index.html).\n",
        "You'll find 100+ `Tensor` operations, including transposing, indexing, slicing, mathematical operations, linear algebra, random numbers, etc are described."
      ]
    },
    {
      "cell_type": "markdown",
      "metadata": {
        "id": "8Xl6U-RoEtY3"
      },
      "source": [
        "# Homework\n",
        "\n",
        "A) The code below simulates a tiny neural network, however it throws an exception. As you build neural networks in PyTorch you will see this exception **often**. Look at the error message, explain whats happening and make the necessary changes to the code to get an output from this tiny network\n",
        "\n",
        "B) Once you manage to sucessfully run the code below notice how the shape of the tensors ```fts``` and ```bias``` are drastically different, yet they can be added together. Which internal PyTorch mechanism makes this addition happen?"
      ]
    },
    {
      "cell_type": "code",
      "metadata": {
        "id": "5aGsG2MMGebg",
        "colab": {
          "base_uri": "https://localhost:8080/",
          "height": 238
        },
        "outputId": "cadcc00c-4c1b-4b20-b95c-9ac3ef1a33a7"
      },
      "source": [
        "### Generate some data\n",
        "torch.manual_seed(7) # Set the random seed so things are predictable\n",
        "\n",
        "# Features are 5 random normal variables\n",
        "features = torch.randn((1, 5))\n",
        "# True weights for our data, random normal variables again\n",
        "weights = torch.randn_like(features)\n",
        "# and a true bias term\n",
        "bias = torch.randn((1, 1))\n",
        "fts = torch.mm(features, weights)\n",
        "print(fts + bias)\n",
        "print(fts.shape, bias.shape)"
      ],
      "execution_count": 29,
      "outputs": [
        {
          "output_type": "error",
          "ename": "RuntimeError",
          "evalue": "ignored",
          "traceback": [
            "\u001b[0;31m---------------------------------------------------------------------------\u001b[0m",
            "\u001b[0;31mRuntimeError\u001b[0m                              Traceback (most recent call last)",
            "\u001b[0;32m<ipython-input-29-8fce3ffbb35c>\u001b[0m in \u001b[0;36m<module>\u001b[0;34m()\u001b[0m\n\u001b[1;32m      8\u001b[0m \u001b[0;31m# and a true bias term\u001b[0m\u001b[0;34m\u001b[0m\u001b[0;34m\u001b[0m\u001b[0;34m\u001b[0m\u001b[0m\n\u001b[1;32m      9\u001b[0m \u001b[0mbias\u001b[0m \u001b[0;34m=\u001b[0m \u001b[0mtorch\u001b[0m\u001b[0;34m.\u001b[0m\u001b[0mrandn\u001b[0m\u001b[0;34m(\u001b[0m\u001b[0;34m(\u001b[0m\u001b[0;36m1\u001b[0m\u001b[0;34m,\u001b[0m \u001b[0;36m1\u001b[0m\u001b[0;34m)\u001b[0m\u001b[0;34m)\u001b[0m\u001b[0;34m\u001b[0m\u001b[0;34m\u001b[0m\u001b[0m\n\u001b[0;32m---> 10\u001b[0;31m \u001b[0mfts\u001b[0m \u001b[0;34m=\u001b[0m \u001b[0mtorch\u001b[0m\u001b[0;34m.\u001b[0m\u001b[0mmm\u001b[0m\u001b[0;34m(\u001b[0m\u001b[0mfeatures\u001b[0m\u001b[0;34m,\u001b[0m \u001b[0mweights\u001b[0m\u001b[0;34m)\u001b[0m\u001b[0;34m\u001b[0m\u001b[0;34m\u001b[0m\u001b[0m\n\u001b[0m\u001b[1;32m     11\u001b[0m \u001b[0mprint\u001b[0m\u001b[0;34m(\u001b[0m\u001b[0mfts\u001b[0m \u001b[0;34m+\u001b[0m \u001b[0mbias\u001b[0m\u001b[0;34m)\u001b[0m\u001b[0;34m\u001b[0m\u001b[0;34m\u001b[0m\u001b[0m\n\u001b[1;32m     12\u001b[0m \u001b[0mprint\u001b[0m\u001b[0;34m(\u001b[0m\u001b[0mfts\u001b[0m\u001b[0;34m.\u001b[0m\u001b[0mshape\u001b[0m\u001b[0;34m,\u001b[0m \u001b[0mbias\u001b[0m\u001b[0;34m.\u001b[0m\u001b[0mshape\u001b[0m\u001b[0;34m)\u001b[0m\u001b[0;34m\u001b[0m\u001b[0;34m\u001b[0m\u001b[0m\n",
            "\u001b[0;31mRuntimeError\u001b[0m: mat1 and mat2 shapes cannot be multiplied (1x5 and 1x5)"
          ]
        }
      ]
    },
    {
      "cell_type": "markdown",
      "metadata": {
        "id": "R8N-hhzmQZaA"
      },
      "source": [
        "# More Homework\n",
        "\n",
        "C) Answer the following questions about the cell below\n",
        "\n",
        "1. Does the value of ```t``` change? Why?\n",
        "2. Does the shape of ```t``` change? Why?\n",
        "3. Explain, in your own words. What is the stride of a tensor, why is it convenient to have them?\n",
        "4.  Pick a mathematical operation like cosine or square root (not those though 🙂). Can you find the correspoding function in the [torch library](https://pytorch.org/docs/stable/torch.html#pointwise-ops). \n",
        "5. Apply the function element-wise to ```a```. Does it return an error? Why? How can it be fixed?\n",
        "6. Is there a version of the function that operates in place?\n",
        "7. Run the same funcion on the GPU. Do you notice any difference in runtime? If not, why do you think that is?"
      ]
    },
    {
      "cell_type": "code",
      "metadata": {
        "id": "__SC70eiXYn1",
        "colab": {
          "base_uri": "https://localhost:8080/"
        },
        "outputId": "ddb64c58-438f-47d3-8c4b-ca99ebeca905"
      },
      "source": [
        "t = torch.tensor(list(range(9)))\n",
        "\n",
        "a = t.view(3, 3)\n",
        "a.mul_(2)"
      ],
      "execution_count": null,
      "outputs": [
        {
          "output_type": "execute_result",
          "data": {
            "text/plain": [
              "tensor([[ 0,  2,  4],\n",
              "        [ 6,  8, 10],\n",
              "        [12, 14, 16]])"
            ]
          },
          "metadata": {
            "tags": []
          },
          "execution_count": 17
        }
      ]
    },
    {
      "cell_type": "markdown",
      "metadata": {
        "id": "6GL-oqVPZUDQ"
      },
      "source": [
        "# Homework solution"
      ]
    },
    {
      "cell_type": "markdown",
      "metadata": {
        "id": "lLYMuVFOZeUR"
      },
      "source": [
        "# A)"
      ]
    },
    {
      "cell_type": "code",
      "metadata": {
        "colab": {
          "base_uri": "https://localhost:8080/",
          "height": 238
        },
        "id": "ugB98jucmrv5",
        "outputId": "2f60d483-8797-41f7-e846-4c8bd98e220d"
      },
      "source": [
        "### Generate some data\r\n",
        "torch.manual_seed(7) # Set the random seed so things are predictable\r\n",
        "\r\n",
        "# Features are 5 random normal variables\r\n",
        "features = torch.randn((1, 5))\r\n",
        "# True weights for our data, random normal variables again\r\n",
        "weights = torch.randn_like(features)\r\n",
        "# and a true bias term\r\n",
        "bias = torch.randn((1, 1))\r\n",
        "fts = torch.mm(features, weights)\r\n",
        "print(fts + bias)\r\n",
        "print(fts.shape, bias.shape)"
      ],
      "execution_count": 23,
      "outputs": [
        {
          "output_type": "error",
          "ename": "RuntimeError",
          "evalue": "ignored",
          "traceback": [
            "\u001b[0;31m---------------------------------------------------------------------------\u001b[0m",
            "\u001b[0;31mRuntimeError\u001b[0m                              Traceback (most recent call last)",
            "\u001b[0;32m<ipython-input-23-8fce3ffbb35c>\u001b[0m in \u001b[0;36m<module>\u001b[0;34m()\u001b[0m\n\u001b[1;32m      8\u001b[0m \u001b[0;31m# and a true bias term\u001b[0m\u001b[0;34m\u001b[0m\u001b[0;34m\u001b[0m\u001b[0;34m\u001b[0m\u001b[0m\n\u001b[1;32m      9\u001b[0m \u001b[0mbias\u001b[0m \u001b[0;34m=\u001b[0m \u001b[0mtorch\u001b[0m\u001b[0;34m.\u001b[0m\u001b[0mrandn\u001b[0m\u001b[0;34m(\u001b[0m\u001b[0;34m(\u001b[0m\u001b[0;36m1\u001b[0m\u001b[0;34m,\u001b[0m \u001b[0;36m1\u001b[0m\u001b[0;34m)\u001b[0m\u001b[0;34m)\u001b[0m\u001b[0;34m\u001b[0m\u001b[0;34m\u001b[0m\u001b[0m\n\u001b[0;32m---> 10\u001b[0;31m \u001b[0mfts\u001b[0m \u001b[0;34m=\u001b[0m \u001b[0mtorch\u001b[0m\u001b[0;34m.\u001b[0m\u001b[0mmm\u001b[0m\u001b[0;34m(\u001b[0m\u001b[0mfeatures\u001b[0m\u001b[0;34m,\u001b[0m \u001b[0mweights\u001b[0m\u001b[0;34m)\u001b[0m\u001b[0;34m\u001b[0m\u001b[0;34m\u001b[0m\u001b[0m\n\u001b[0m\u001b[1;32m     11\u001b[0m \u001b[0mprint\u001b[0m\u001b[0;34m(\u001b[0m\u001b[0mfts\u001b[0m \u001b[0;34m+\u001b[0m \u001b[0mbias\u001b[0m\u001b[0;34m)\u001b[0m\u001b[0;34m\u001b[0m\u001b[0;34m\u001b[0m\u001b[0m\n\u001b[1;32m     12\u001b[0m \u001b[0mprint\u001b[0m\u001b[0;34m(\u001b[0m\u001b[0mfts\u001b[0m\u001b[0;34m.\u001b[0m\u001b[0mshape\u001b[0m\u001b[0;34m,\u001b[0m \u001b[0mbias\u001b[0m\u001b[0;34m.\u001b[0m\u001b[0mshape\u001b[0m\u001b[0;34m)\u001b[0m\u001b[0;34m\u001b[0m\u001b[0;34m\u001b[0m\u001b[0m\n",
            "\u001b[0;31mRuntimeError\u001b[0m: mat1 and mat2 shapes cannot be multiplied (1x5 and 1x5)"
          ]
        }
      ]
    },
    {
      "cell_type": "markdown",
      "metadata": {
        "id": "8e09QdGLjDvh"
      },
      "source": [
        "Por lo visto el error ocurre en la línea fts = torch.mm(features, weights).\r\n",
        "Es decir, cuando intentamos calcular la multiplicación de las matrices features y weights. Esto se debe a que los tamaños de las matrices no se pueden multiplicar, ya que features no tiene las mismas columnas que weights filas."
      ]
    },
    {
      "cell_type": "code",
      "metadata": {
        "colab": {
          "base_uri": "https://localhost:8080/"
        },
        "id": "wj5RkdtimPut",
        "outputId": "727b1fba-0109-4a90-d2e6-0f81e1140b1d"
      },
      "source": [
        "print(features)\r\n",
        "print(weights)"
      ],
      "execution_count": 24,
      "outputs": [
        {
          "output_type": "stream",
          "text": [
            "tensor([[-0.1468,  0.7861,  0.9468, -1.1143,  1.6908]])\n",
            "tensor([[-0.8948, -0.3556,  1.2324,  0.1382, -1.6822]])\n"
          ],
          "name": "stdout"
        }
      ]
    },
    {
      "cell_type": "markdown",
      "metadata": {
        "id": "wyuCR9FFnKov"
      },
      "source": [
        "Así que vamos a transponer la matriz features para poder multiplicarlas."
      ]
    },
    {
      "cell_type": "code",
      "metadata": {
        "colab": {
          "base_uri": "https://localhost:8080/"
        },
        "id": "J_uS_wx9mz79",
        "outputId": "1ba28e20-093b-4e3a-e012-488f7c2a6c08"
      },
      "source": [
        "features = torch.transpose(features, 0, 1)\r\n",
        "print(features)"
      ],
      "execution_count": 25,
      "outputs": [
        {
          "output_type": "stream",
          "text": [
            "tensor([[-0.1468],\n",
            "        [ 0.7861],\n",
            "        [ 0.9468],\n",
            "        [-1.1143],\n",
            "        [ 1.6908]])\n"
          ],
          "name": "stdout"
        }
      ]
    },
    {
      "cell_type": "markdown",
      "metadata": {
        "id": "Qqb7Q89gneOx"
      },
      "source": [
        "Seguidamente vemos que ya obtenemos un output de esta network."
      ]
    },
    {
      "cell_type": "code",
      "metadata": {
        "colab": {
          "base_uri": "https://localhost:8080/"
        },
        "id": "21R2_-QsnOwD",
        "outputId": "95241313-d490-4779-fea6-bdaf3e78c5a3"
      },
      "source": [
        "# and a true bias term\r\n",
        "bias = torch.randn((1, 1))\r\n",
        "fts = torch.mm(features, weights)\r\n",
        "print(fts + bias)\r\n",
        "print(fts.shape, bias.shape)"
      ],
      "execution_count": 27,
      "outputs": [
        {
          "output_type": "stream",
          "text": [
            "tensor([[ 0.2687,  0.1895, -0.0436,  0.1170,  0.3843],\n",
            "        [-0.5661, -0.1422,  1.1062,  0.2459, -1.1851],\n",
            "        [-0.7099, -0.1994,  1.3042,  0.2681, -1.4554],\n",
            "        [ 1.1345,  0.5336, -1.2360, -0.0166,  2.0119],\n",
            "        [-1.3756, -0.4640,  2.2210,  0.3709, -2.7069]])\n",
            "torch.Size([5, 5]) torch.Size([1, 1])\n"
          ],
          "name": "stdout"
        }
      ]
    },
    {
      "cell_type": "markdown",
      "metadata": {
        "id": "IHNfxRiUZi9Z"
      },
      "source": [
        "# B)"
      ]
    },
    {
      "cell_type": "code",
      "metadata": {
        "id": "buQ_RBdjZkeC",
        "colab": {
          "base_uri": "https://localhost:8080/"
        },
        "outputId": "efe8e0eb-7eae-4559-b15d-c300ae869f35"
      },
      "source": [
        "print(fts.shape)\r\n",
        "print(bias.shape)"
      ],
      "execution_count": 31,
      "outputs": [
        {
          "output_type": "stream",
          "text": [
            "torch.Size([5, 5])\n",
            "torch.Size([1, 1])\n"
          ],
          "name": "stdout"
        }
      ]
    },
    {
      "cell_type": "code",
      "metadata": {
        "colab": {
          "base_uri": "https://localhost:8080/"
        },
        "id": "dGh1-J3jpVBs",
        "outputId": "101f66ca-b8a9-4575-e38a-589a80c960d2"
      },
      "source": [
        "print(fts)\r\n",
        "print(bias)\r\n",
        "print(fts + bias)"
      ],
      "execution_count": 36,
      "outputs": [
        {
          "output_type": "stream",
          "text": [
            "tensor([[ 0.1314,  0.0522, -0.1809, -0.0203,  0.2469],\n",
            "        [-0.7035, -0.2796,  0.9688,  0.1086, -1.3224],\n",
            "        [-0.8472, -0.3367,  1.1668,  0.1308, -1.5927],\n",
            "        [ 0.9971,  0.3963, -1.3733, -0.1540,  1.8745],\n",
            "        [-1.5130, -0.6013,  2.0837,  0.2336, -2.8442]])\n",
            "tensor([[0.3177]])\n",
            "tensor([[ 0.4490,  0.3699,  0.1368,  0.2974,  0.5646],\n",
            "        [-0.3858,  0.0381,  1.2865,  0.4263, -1.0048],\n",
            "        [-0.5296, -0.0190,  1.4845,  0.4485, -1.2751],\n",
            "        [ 1.3148,  0.7140, -1.0556,  0.1637,  2.1922],\n",
            "        [-1.1953, -0.2836,  2.4014,  0.5513, -2.5266]])\n"
          ],
          "name": "stdout"
        }
      ]
    },
    {
      "cell_type": "markdown",
      "metadata": {
        "id": "_OMCEzkurDKq"
      },
      "source": [
        "Vemos que lo que está pasando es que la matriz bias, al tener un solo elemento (1 fila y 1 columna) se está considerando como un solo número, no como un elemento de una matriz. Si se considerase como una matriz nos saltaría un error de las shapes."
      ]
    },
    {
      "cell_type": "markdown",
      "metadata": {
        "id": "pMy7A7sNZmlC"
      },
      "source": [
        "# C)"
      ]
    },
    {
      "cell_type": "markdown",
      "metadata": {
        "id": "rCrkgPdVtPYD"
      },
      "source": [
        "# 1."
      ]
    },
    {
      "cell_type": "code",
      "metadata": {
        "colab": {
          "base_uri": "https://localhost:8080/"
        },
        "id": "Iuwcwwe6tkjd",
        "outputId": "c480d2eb-6770-4b43-99ae-f97f3ecaa4a8"
      },
      "source": [
        "t = torch.tensor(list(range(9)))\r\n",
        "print(t)\r\n",
        "\r\n",
        "a = t.view(3, 3)\r\n",
        "print(a, t)\r\n",
        "a.mul_(2)\r\n",
        "print(a, t)"
      ],
      "execution_count": 69,
      "outputs": [
        {
          "output_type": "stream",
          "text": [
            "tensor([0, 1, 2, 3, 4, 5, 6, 7, 8])\n",
            "tensor([[0, 1, 2],\n",
            "        [3, 4, 5],\n",
            "        [6, 7, 8]]) tensor([0, 1, 2, 3, 4, 5, 6, 7, 8])\n",
            "tensor([[ 0,  2,  4],\n",
            "        [ 6,  8, 10],\n",
            "        [12, 14, 16]]) tensor([ 0,  2,  4,  6,  8, 10, 12, 14, 16])\n"
          ],
          "name": "stdout"
        }
      ]
    },
    {
      "cell_type": "markdown",
      "metadata": {
        "id": "Z2xD6ng_ugvq"
      },
      "source": [
        "El valor de t cambia, ya que la operación de multiplicar se realiza \"in-place\". Esto significa que el contenido del tensor t es modificado sin la necesidad de haber hecho ninguna copia antes."
      ]
    },
    {
      "cell_type": "markdown",
      "metadata": {
        "id": "wkWT-1K3tS3g"
      },
      "source": [
        "# 2."
      ]
    },
    {
      "cell_type": "markdown",
      "metadata": {
        "id": "BdWVyZRrvsHw"
      },
      "source": [
        "La shape del Tensor t no cambia. Esto se debe a que la multiplicación es la única operación que se hace \"in-place\", por lo que la shape de t no debería verse afectada."
      ]
    },
    {
      "cell_type": "markdown",
      "metadata": {
        "id": "_CQOQDaNtT-h"
      },
      "source": [
        "# 3."
      ]
    },
    {
      "cell_type": "markdown",
      "metadata": {
        "id": "LYTHNWSpxfQG"
      },
      "source": [
        "El stride indica cuánto me tengo que mover por una dimensión para alcanzar la siguiente fila.\r\n",
        "Es útil porque por ejemplo, si quisiéramos hacer un view de un tensor (ver tensor en otras dimensiones), se tendría que hacer la copia del tensor.\r\n",
        "Así, cambiando el stride, no cambiamos la posición de los números en memoria, solo cambiamos la forma en la que los vamos a buscar."
      ]
    },
    {
      "cell_type": "markdown",
      "metadata": {
        "id": "RnQ3TtDWtV4H"
      },
      "source": [
        "# 4."
      ]
    },
    {
      "cell_type": "markdown",
      "metadata": {
        "id": "t9q4Jx1_0Gk5"
      },
      "source": [
        "Escojo el logaritmo en base 10.\r\n",
        "En la libraría torch, podemos hacer el logaritmo en base 10 de un input de la siguiente forma:"
      ]
    },
    {
      "cell_type": "code",
      "metadata": {
        "colab": {
          "base_uri": "https://localhost:8080/"
        },
        "id": "N1jG-Bvq0d_F",
        "outputId": "5b07d42f-8a6f-47af-e7bd-4cbe62f97d4f"
      },
      "source": [
        "sol4 = torch.rand(5)\r\n",
        "print(sol4)\r\n",
        "\r\n",
        "print(torch.log10(sol4))\r\n",
        "print(sol4)"
      ],
      "execution_count": 85,
      "outputs": [
        {
          "output_type": "stream",
          "text": [
            "tensor([0.4731, 0.0444, 0.1539, 0.1956, 0.8861])\n",
            "tensor([-0.3250, -1.3531, -0.8127, -0.7086, -0.0525])\n",
            "tensor([0.4731, 0.0444, 0.1539, 0.1956, 0.8861])\n"
          ],
          "name": "stdout"
        }
      ]
    },
    {
      "cell_type": "markdown",
      "metadata": {
        "id": "1xoKCk2LtXCR"
      },
      "source": [
        "# 5."
      ]
    },
    {
      "cell_type": "markdown",
      "metadata": {
        "id": "7yrF5j6e2ziC"
      },
      "source": [
        "No entiendo cuál es el segundo tensor con el que debo realizar la función \"element-wise\", así que lo haré con el mismo a."
      ]
    },
    {
      "cell_type": "code",
      "metadata": {
        "colab": {
          "base_uri": "https://localhost:8080/"
        },
        "id": "DEr6jExf3iiq",
        "outputId": "2fdef586-12f1-4788-a3ec-a0a2ac37564b"
      },
      "source": [
        "torch.multiply(a, a)"
      ],
      "execution_count": 79,
      "outputs": [
        {
          "output_type": "execute_result",
          "data": {
            "text/plain": [
              "tensor([[  0,   4,  16],\n",
              "        [ 36,  64, 100],\n",
              "        [144, 196, 256]])"
            ]
          },
          "metadata": {
            "tags": []
          },
          "execution_count": 79
        }
      ]
    },
    {
      "cell_type": "markdown",
      "metadata": {
        "id": "oPUO6JYJ3AqI"
      },
      "source": [
        "No salta ningún error, ya que los tipos de variable son los mismos (= tensor). Pero por ejemplo, no podríamos aplicar el \"element-wise\" a un int y un tensor. Tampoco podríamos en caso de que las columnas de la primera matriz no fueran las mismas filas de la segunda."
      ]
    },
    {
      "cell_type": "markdown",
      "metadata": {
        "id": "wULNmE8YtZvA"
      },
      "source": [
        "# 6."
      ]
    },
    {
      "cell_type": "markdown",
      "metadata": {
        "id": "jdrAi1JE00gL"
      },
      "source": [
        "Sí que existe el logaritmo de 10 \"in-place\"."
      ]
    },
    {
      "cell_type": "code",
      "metadata": {
        "colab": {
          "base_uri": "https://localhost:8080/"
        },
        "id": "b3eXF7fn5Ofp",
        "outputId": "c6a78489-e0dd-44ca-eb1e-457192d41740"
      },
      "source": [
        "sol4 = torch.rand(5)\r\n",
        "print(sol4)\r\n",
        "\r\n",
        "print(torch.log10_(sol4))\r\n",
        "print(sol4)"
      ],
      "execution_count": 84,
      "outputs": [
        {
          "output_type": "stream",
          "text": [
            "tensor([0.5278, 0.9356, 0.1470, 0.2019, 0.7259])\n",
            "tensor([-0.2775, -0.0289, -0.8328, -0.6950, -0.1391])\n",
            "tensor([-0.2775, -0.0289, -0.8328, -0.6950, -0.1391])\n"
          ],
          "name": "stdout"
        }
      ]
    },
    {
      "cell_type": "markdown",
      "metadata": {
        "id": "g8ZitVihtbIP"
      },
      "source": [
        "# 7."
      ]
    },
    {
      "cell_type": "code",
      "metadata": {
        "colab": {
          "base_uri": "https://localhost:8080/"
        },
        "id": "b3L03rgW5z81",
        "outputId": "d5858a96-fb36-4acd-b445-862cc03725f5"
      },
      "source": [
        "from time import time\r\n",
        "\r\n",
        "#CUDA (GPU)\r\n",
        "t_i1 = time()\r\n",
        "y1 = torch.randn(10000,10000, device=device)\r\n",
        "torch.log10(y1)\r\n",
        "t_f1 = time()\r\n",
        "t_ej1 = t_f1 - t_i1\r\n",
        "print(t_ej1)\r\n",
        "\r\n",
        "#CPU\r\n",
        "t_i2 = time()\r\n",
        "y2 =  torch.randn(10000,10000)\r\n",
        "torch.log10(y2)\r\n",
        "t_f2 = time()\r\n",
        "t_ej2 = t_f2 - t_i2\r\n",
        "print(t_ej2)"
      ],
      "execution_count": 110,
      "outputs": [
        {
          "output_type": "stream",
          "text": [
            "0.0050203800201416016\n",
            "2.6247737407684326\n"
          ],
          "name": "stdout"
        }
      ]
    },
    {
      "cell_type": "markdown",
      "metadata": {
        "id": "7Js5cdP9717y"
      },
      "source": [
        "Como podemos ver en mi ejemplo, es más rápido ejecutar la función en la GPU.\r\n",
        "Debemos tener en cuenta que las dimensiones de las matrices son muy grandes, es por eso también que se nota tanto la diferencia de tiempo."
      ]
    }
  ]
}