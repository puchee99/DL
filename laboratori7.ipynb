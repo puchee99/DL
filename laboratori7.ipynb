{
  "nbformat": 4,
  "nbformat_minor": 0,
  "metadata": {
    "colab": {
      "name": "CNN_Localization_Intro.ipynb",
      "provenance": [],
      "collapsed_sections": []
    },
    "kernelspec": {
      "display_name": "Python 3",
      "language": "python",
      "name": "python3"
    },
    "language_info": {
      "codemirror_mode": {
        "name": "ipython",
        "version": 3
      },
      "file_extension": ".py",
      "mimetype": "text/x-python",
      "name": "python",
      "nbconvert_exporter": "python",
      "pygments_lexer": "ipython3",
      "version": "3.6.9"
    },
    "accelerator": "GPU",
    "widgets": {
      "application/vnd.jupyter.widget-state+json": {
        "d31dcaa6551c4ca1a13b36969471c87c": {
          "model_module": "@jupyter-widgets/controls",
          "model_name": "HBoxModel",
          "state": {
            "_view_name": "HBoxView",
            "_dom_classes": [],
            "_model_name": "HBoxModel",
            "_view_module": "@jupyter-widgets/controls",
            "_model_module_version": "1.5.0",
            "_view_count": null,
            "_view_module_version": "1.5.0",
            "box_style": "",
            "layout": "IPY_MODEL_c9f19955910045bcab93dafbed767532",
            "_model_module": "@jupyter-widgets/controls",
            "children": [
              "IPY_MODEL_84172d38185e4b9082462b9da5a329e0",
              "IPY_MODEL_08c8b5559caa40689fac440ce3c5e516"
            ]
          }
        },
        "c9f19955910045bcab93dafbed767532": {
          "model_module": "@jupyter-widgets/base",
          "model_name": "LayoutModel",
          "state": {
            "_view_name": "LayoutView",
            "grid_template_rows": null,
            "right": null,
            "justify_content": null,
            "_view_module": "@jupyter-widgets/base",
            "overflow": null,
            "_model_module_version": "1.2.0",
            "_view_count": null,
            "flex_flow": null,
            "width": null,
            "min_width": null,
            "border": null,
            "align_items": null,
            "bottom": null,
            "_model_module": "@jupyter-widgets/base",
            "top": null,
            "grid_column": null,
            "overflow_y": null,
            "overflow_x": null,
            "grid_auto_flow": null,
            "grid_area": null,
            "grid_template_columns": null,
            "flex": null,
            "_model_name": "LayoutModel",
            "justify_items": null,
            "grid_row": null,
            "max_height": null,
            "align_content": null,
            "visibility": null,
            "align_self": null,
            "height": null,
            "min_height": null,
            "padding": null,
            "grid_auto_rows": null,
            "grid_gap": null,
            "max_width": null,
            "order": null,
            "_view_module_version": "1.2.0",
            "grid_template_areas": null,
            "object_position": null,
            "object_fit": null,
            "grid_auto_columns": null,
            "margin": null,
            "display": null,
            "left": null
          }
        },
        "84172d38185e4b9082462b9da5a329e0": {
          "model_module": "@jupyter-widgets/controls",
          "model_name": "FloatProgressModel",
          "state": {
            "_view_name": "ProgressView",
            "style": "IPY_MODEL_660a50437a42461e97c2d8c019ac314c",
            "_dom_classes": [],
            "description": "",
            "_model_name": "FloatProgressModel",
            "bar_style": "success",
            "max": 26421880,
            "_view_module": "@jupyter-widgets/controls",
            "_model_module_version": "1.5.0",
            "value": 26421880,
            "_view_count": null,
            "_view_module_version": "1.5.0",
            "orientation": "horizontal",
            "min": 0,
            "description_tooltip": null,
            "_model_module": "@jupyter-widgets/controls",
            "layout": "IPY_MODEL_5ea43f8fa93648c8b08f136c31670314"
          }
        },
        "08c8b5559caa40689fac440ce3c5e516": {
          "model_module": "@jupyter-widgets/controls",
          "model_name": "HTMLModel",
          "state": {
            "_view_name": "HTMLView",
            "style": "IPY_MODEL_b1c008d6200841adbacc30320100712c",
            "_dom_classes": [],
            "description": "",
            "_model_name": "HTMLModel",
            "placeholder": "​",
            "_view_module": "@jupyter-widgets/controls",
            "_model_module_version": "1.5.0",
            "value": " 26422272/? [01:26&lt;00:00, 305154.01it/s]",
            "_view_count": null,
            "_view_module_version": "1.5.0",
            "description_tooltip": null,
            "_model_module": "@jupyter-widgets/controls",
            "layout": "IPY_MODEL_744b0b70ee8946d4aca62874c8b25423"
          }
        },
        "660a50437a42461e97c2d8c019ac314c": {
          "model_module": "@jupyter-widgets/controls",
          "model_name": "ProgressStyleModel",
          "state": {
            "_view_name": "StyleView",
            "_model_name": "ProgressStyleModel",
            "description_width": "initial",
            "_view_module": "@jupyter-widgets/base",
            "_model_module_version": "1.5.0",
            "_view_count": null,
            "_view_module_version": "1.2.0",
            "bar_color": null,
            "_model_module": "@jupyter-widgets/controls"
          }
        },
        "5ea43f8fa93648c8b08f136c31670314": {
          "model_module": "@jupyter-widgets/base",
          "model_name": "LayoutModel",
          "state": {
            "_view_name": "LayoutView",
            "grid_template_rows": null,
            "right": null,
            "justify_content": null,
            "_view_module": "@jupyter-widgets/base",
            "overflow": null,
            "_model_module_version": "1.2.0",
            "_view_count": null,
            "flex_flow": null,
            "width": null,
            "min_width": null,
            "border": null,
            "align_items": null,
            "bottom": null,
            "_model_module": "@jupyter-widgets/base",
            "top": null,
            "grid_column": null,
            "overflow_y": null,
            "overflow_x": null,
            "grid_auto_flow": null,
            "grid_area": null,
            "grid_template_columns": null,
            "flex": null,
            "_model_name": "LayoutModel",
            "justify_items": null,
            "grid_row": null,
            "max_height": null,
            "align_content": null,
            "visibility": null,
            "align_self": null,
            "height": null,
            "min_height": null,
            "padding": null,
            "grid_auto_rows": null,
            "grid_gap": null,
            "max_width": null,
            "order": null,
            "_view_module_version": "1.2.0",
            "grid_template_areas": null,
            "object_position": null,
            "object_fit": null,
            "grid_auto_columns": null,
            "margin": null,
            "display": null,
            "left": null
          }
        },
        "b1c008d6200841adbacc30320100712c": {
          "model_module": "@jupyter-widgets/controls",
          "model_name": "DescriptionStyleModel",
          "state": {
            "_view_name": "StyleView",
            "_model_name": "DescriptionStyleModel",
            "description_width": "",
            "_view_module": "@jupyter-widgets/base",
            "_model_module_version": "1.5.0",
            "_view_count": null,
            "_view_module_version": "1.2.0",
            "_model_module": "@jupyter-widgets/controls"
          }
        },
        "744b0b70ee8946d4aca62874c8b25423": {
          "model_module": "@jupyter-widgets/base",
          "model_name": "LayoutModel",
          "state": {
            "_view_name": "LayoutView",
            "grid_template_rows": null,
            "right": null,
            "justify_content": null,
            "_view_module": "@jupyter-widgets/base",
            "overflow": null,
            "_model_module_version": "1.2.0",
            "_view_count": null,
            "flex_flow": null,
            "width": null,
            "min_width": null,
            "border": null,
            "align_items": null,
            "bottom": null,
            "_model_module": "@jupyter-widgets/base",
            "top": null,
            "grid_column": null,
            "overflow_y": null,
            "overflow_x": null,
            "grid_auto_flow": null,
            "grid_area": null,
            "grid_template_columns": null,
            "flex": null,
            "_model_name": "LayoutModel",
            "justify_items": null,
            "grid_row": null,
            "max_height": null,
            "align_content": null,
            "visibility": null,
            "align_self": null,
            "height": null,
            "min_height": null,
            "padding": null,
            "grid_auto_rows": null,
            "grid_gap": null,
            "max_width": null,
            "order": null,
            "_view_module_version": "1.2.0",
            "grid_template_areas": null,
            "object_position": null,
            "object_fit": null,
            "grid_auto_columns": null,
            "margin": null,
            "display": null,
            "left": null
          }
        },
        "706f74280d7a4ad9bc75a4f58397b679": {
          "model_module": "@jupyter-widgets/controls",
          "model_name": "HBoxModel",
          "state": {
            "_view_name": "HBoxView",
            "_dom_classes": [],
            "_model_name": "HBoxModel",
            "_view_module": "@jupyter-widgets/controls",
            "_model_module_version": "1.5.0",
            "_view_count": null,
            "_view_module_version": "1.5.0",
            "box_style": "",
            "layout": "IPY_MODEL_b5d5502a2e284e20972289a6d2d63b57",
            "_model_module": "@jupyter-widgets/controls",
            "children": [
              "IPY_MODEL_8a2c58c5f5ab4cd68b8c11a1aeb8ea83",
              "IPY_MODEL_0b2251e4c5db4db98c5244d606923c20"
            ]
          }
        },
        "b5d5502a2e284e20972289a6d2d63b57": {
          "model_module": "@jupyter-widgets/base",
          "model_name": "LayoutModel",
          "state": {
            "_view_name": "LayoutView",
            "grid_template_rows": null,
            "right": null,
            "justify_content": null,
            "_view_module": "@jupyter-widgets/base",
            "overflow": null,
            "_model_module_version": "1.2.0",
            "_view_count": null,
            "flex_flow": null,
            "width": null,
            "min_width": null,
            "border": null,
            "align_items": null,
            "bottom": null,
            "_model_module": "@jupyter-widgets/base",
            "top": null,
            "grid_column": null,
            "overflow_y": null,
            "overflow_x": null,
            "grid_auto_flow": null,
            "grid_area": null,
            "grid_template_columns": null,
            "flex": null,
            "_model_name": "LayoutModel",
            "justify_items": null,
            "grid_row": null,
            "max_height": null,
            "align_content": null,
            "visibility": null,
            "align_self": null,
            "height": null,
            "min_height": null,
            "padding": null,
            "grid_auto_rows": null,
            "grid_gap": null,
            "max_width": null,
            "order": null,
            "_view_module_version": "1.2.0",
            "grid_template_areas": null,
            "object_position": null,
            "object_fit": null,
            "grid_auto_columns": null,
            "margin": null,
            "display": null,
            "left": null
          }
        },
        "8a2c58c5f5ab4cd68b8c11a1aeb8ea83": {
          "model_module": "@jupyter-widgets/controls",
          "model_name": "FloatProgressModel",
          "state": {
            "_view_name": "ProgressView",
            "style": "IPY_MODEL_5b4be5eca93c48b199fc369be6c66bd3",
            "_dom_classes": [],
            "description": "",
            "_model_name": "FloatProgressModel",
            "bar_style": "success",
            "max": 29515,
            "_view_module": "@jupyter-widgets/controls",
            "_model_module_version": "1.5.0",
            "value": 29515,
            "_view_count": null,
            "_view_module_version": "1.5.0",
            "orientation": "horizontal",
            "min": 0,
            "description_tooltip": null,
            "_model_module": "@jupyter-widgets/controls",
            "layout": "IPY_MODEL_41735dbf2fdf4878844a105aa6e09bdb"
          }
        },
        "0b2251e4c5db4db98c5244d606923c20": {
          "model_module": "@jupyter-widgets/controls",
          "model_name": "HTMLModel",
          "state": {
            "_view_name": "HTMLView",
            "style": "IPY_MODEL_0d70ca050da449f99eb9dc9273392cf7",
            "_dom_classes": [],
            "description": "",
            "_model_name": "HTMLModel",
            "placeholder": "​",
            "_view_module": "@jupyter-widgets/controls",
            "_model_module_version": "1.5.0",
            "value": " 29696/? [00:04&lt;00:00, 6327.14it/s]",
            "_view_count": null,
            "_view_module_version": "1.5.0",
            "description_tooltip": null,
            "_model_module": "@jupyter-widgets/controls",
            "layout": "IPY_MODEL_9dfaf784f43c402183cdf753eb7d1660"
          }
        },
        "5b4be5eca93c48b199fc369be6c66bd3": {
          "model_module": "@jupyter-widgets/controls",
          "model_name": "ProgressStyleModel",
          "state": {
            "_view_name": "StyleView",
            "_model_name": "ProgressStyleModel",
            "description_width": "initial",
            "_view_module": "@jupyter-widgets/base",
            "_model_module_version": "1.5.0",
            "_view_count": null,
            "_view_module_version": "1.2.0",
            "bar_color": null,
            "_model_module": "@jupyter-widgets/controls"
          }
        },
        "41735dbf2fdf4878844a105aa6e09bdb": {
          "model_module": "@jupyter-widgets/base",
          "model_name": "LayoutModel",
          "state": {
            "_view_name": "LayoutView",
            "grid_template_rows": null,
            "right": null,
            "justify_content": null,
            "_view_module": "@jupyter-widgets/base",
            "overflow": null,
            "_model_module_version": "1.2.0",
            "_view_count": null,
            "flex_flow": null,
            "width": null,
            "min_width": null,
            "border": null,
            "align_items": null,
            "bottom": null,
            "_model_module": "@jupyter-widgets/base",
            "top": null,
            "grid_column": null,
            "overflow_y": null,
            "overflow_x": null,
            "grid_auto_flow": null,
            "grid_area": null,
            "grid_template_columns": null,
            "flex": null,
            "_model_name": "LayoutModel",
            "justify_items": null,
            "grid_row": null,
            "max_height": null,
            "align_content": null,
            "visibility": null,
            "align_self": null,
            "height": null,
            "min_height": null,
            "padding": null,
            "grid_auto_rows": null,
            "grid_gap": null,
            "max_width": null,
            "order": null,
            "_view_module_version": "1.2.0",
            "grid_template_areas": null,
            "object_position": null,
            "object_fit": null,
            "grid_auto_columns": null,
            "margin": null,
            "display": null,
            "left": null
          }
        },
        "0d70ca050da449f99eb9dc9273392cf7": {
          "model_module": "@jupyter-widgets/controls",
          "model_name": "DescriptionStyleModel",
          "state": {
            "_view_name": "StyleView",
            "_model_name": "DescriptionStyleModel",
            "description_width": "",
            "_view_module": "@jupyter-widgets/base",
            "_model_module_version": "1.5.0",
            "_view_count": null,
            "_view_module_version": "1.2.0",
            "_model_module": "@jupyter-widgets/controls"
          }
        },
        "9dfaf784f43c402183cdf753eb7d1660": {
          "model_module": "@jupyter-widgets/base",
          "model_name": "LayoutModel",
          "state": {
            "_view_name": "LayoutView",
            "grid_template_rows": null,
            "right": null,
            "justify_content": null,
            "_view_module": "@jupyter-widgets/base",
            "overflow": null,
            "_model_module_version": "1.2.0",
            "_view_count": null,
            "flex_flow": null,
            "width": null,
            "min_width": null,
            "border": null,
            "align_items": null,
            "bottom": null,
            "_model_module": "@jupyter-widgets/base",
            "top": null,
            "grid_column": null,
            "overflow_y": null,
            "overflow_x": null,
            "grid_auto_flow": null,
            "grid_area": null,
            "grid_template_columns": null,
            "flex": null,
            "_model_name": "LayoutModel",
            "justify_items": null,
            "grid_row": null,
            "max_height": null,
            "align_content": null,
            "visibility": null,
            "align_self": null,
            "height": null,
            "min_height": null,
            "padding": null,
            "grid_auto_rows": null,
            "grid_gap": null,
            "max_width": null,
            "order": null,
            "_view_module_version": "1.2.0",
            "grid_template_areas": null,
            "object_position": null,
            "object_fit": null,
            "grid_auto_columns": null,
            "margin": null,
            "display": null,
            "left": null
          }
        },
        "1f48d97aa36d4ae494ac5b8a469290ca": {
          "model_module": "@jupyter-widgets/controls",
          "model_name": "HBoxModel",
          "state": {
            "_view_name": "HBoxView",
            "_dom_classes": [],
            "_model_name": "HBoxModel",
            "_view_module": "@jupyter-widgets/controls",
            "_model_module_version": "1.5.0",
            "_view_count": null,
            "_view_module_version": "1.5.0",
            "box_style": "",
            "layout": "IPY_MODEL_1bc58cafd2f640949c8fbda108a62281",
            "_model_module": "@jupyter-widgets/controls",
            "children": [
              "IPY_MODEL_25a540d394484fa49fbb5f499f4a3fa2",
              "IPY_MODEL_3278b1707db54d54a05d23c777e68e3f"
            ]
          }
        },
        "1bc58cafd2f640949c8fbda108a62281": {
          "model_module": "@jupyter-widgets/base",
          "model_name": "LayoutModel",
          "state": {
            "_view_name": "LayoutView",
            "grid_template_rows": null,
            "right": null,
            "justify_content": null,
            "_view_module": "@jupyter-widgets/base",
            "overflow": null,
            "_model_module_version": "1.2.0",
            "_view_count": null,
            "flex_flow": null,
            "width": null,
            "min_width": null,
            "border": null,
            "align_items": null,
            "bottom": null,
            "_model_module": "@jupyter-widgets/base",
            "top": null,
            "grid_column": null,
            "overflow_y": null,
            "overflow_x": null,
            "grid_auto_flow": null,
            "grid_area": null,
            "grid_template_columns": null,
            "flex": null,
            "_model_name": "LayoutModel",
            "justify_items": null,
            "grid_row": null,
            "max_height": null,
            "align_content": null,
            "visibility": null,
            "align_self": null,
            "height": null,
            "min_height": null,
            "padding": null,
            "grid_auto_rows": null,
            "grid_gap": null,
            "max_width": null,
            "order": null,
            "_view_module_version": "1.2.0",
            "grid_template_areas": null,
            "object_position": null,
            "object_fit": null,
            "grid_auto_columns": null,
            "margin": null,
            "display": null,
            "left": null
          }
        },
        "25a540d394484fa49fbb5f499f4a3fa2": {
          "model_module": "@jupyter-widgets/controls",
          "model_name": "FloatProgressModel",
          "state": {
            "_view_name": "ProgressView",
            "style": "IPY_MODEL_439008b575c344d5991d6244d50f297c",
            "_dom_classes": [],
            "description": "",
            "_model_name": "FloatProgressModel",
            "bar_style": "success",
            "max": 4422102,
            "_view_module": "@jupyter-widgets/controls",
            "_model_module_version": "1.5.0",
            "value": 4422102,
            "_view_count": null,
            "_view_module_version": "1.5.0",
            "orientation": "horizontal",
            "min": 0,
            "description_tooltip": null,
            "_model_module": "@jupyter-widgets/controls",
            "layout": "IPY_MODEL_9c064552416044b49904ddaf1ee76d08"
          }
        },
        "3278b1707db54d54a05d23c777e68e3f": {
          "model_module": "@jupyter-widgets/controls",
          "model_name": "HTMLModel",
          "state": {
            "_view_name": "HTMLView",
            "style": "IPY_MODEL_5a3ad250ceb742a1a9eb00409cbf45cb",
            "_dom_classes": [],
            "description": "",
            "_model_name": "HTMLModel",
            "placeholder": "​",
            "_view_module": "@jupyter-widgets/controls",
            "_model_module_version": "1.5.0",
            "value": " 4422656/? [00:03&lt;00:00, 1332713.44it/s]",
            "_view_count": null,
            "_view_module_version": "1.5.0",
            "description_tooltip": null,
            "_model_module": "@jupyter-widgets/controls",
            "layout": "IPY_MODEL_7fd03bd19c884cf5a5c824b9a7118cbd"
          }
        },
        "439008b575c344d5991d6244d50f297c": {
          "model_module": "@jupyter-widgets/controls",
          "model_name": "ProgressStyleModel",
          "state": {
            "_view_name": "StyleView",
            "_model_name": "ProgressStyleModel",
            "description_width": "initial",
            "_view_module": "@jupyter-widgets/base",
            "_model_module_version": "1.5.0",
            "_view_count": null,
            "_view_module_version": "1.2.0",
            "bar_color": null,
            "_model_module": "@jupyter-widgets/controls"
          }
        },
        "9c064552416044b49904ddaf1ee76d08": {
          "model_module": "@jupyter-widgets/base",
          "model_name": "LayoutModel",
          "state": {
            "_view_name": "LayoutView",
            "grid_template_rows": null,
            "right": null,
            "justify_content": null,
            "_view_module": "@jupyter-widgets/base",
            "overflow": null,
            "_model_module_version": "1.2.0",
            "_view_count": null,
            "flex_flow": null,
            "width": null,
            "min_width": null,
            "border": null,
            "align_items": null,
            "bottom": null,
            "_model_module": "@jupyter-widgets/base",
            "top": null,
            "grid_column": null,
            "overflow_y": null,
            "overflow_x": null,
            "grid_auto_flow": null,
            "grid_area": null,
            "grid_template_columns": null,
            "flex": null,
            "_model_name": "LayoutModel",
            "justify_items": null,
            "grid_row": null,
            "max_height": null,
            "align_content": null,
            "visibility": null,
            "align_self": null,
            "height": null,
            "min_height": null,
            "padding": null,
            "grid_auto_rows": null,
            "grid_gap": null,
            "max_width": null,
            "order": null,
            "_view_module_version": "1.2.0",
            "grid_template_areas": null,
            "object_position": null,
            "object_fit": null,
            "grid_auto_columns": null,
            "margin": null,
            "display": null,
            "left": null
          }
        },
        "5a3ad250ceb742a1a9eb00409cbf45cb": {
          "model_module": "@jupyter-widgets/controls",
          "model_name": "DescriptionStyleModel",
          "state": {
            "_view_name": "StyleView",
            "_model_name": "DescriptionStyleModel",
            "description_width": "",
            "_view_module": "@jupyter-widgets/base",
            "_model_module_version": "1.5.0",
            "_view_count": null,
            "_view_module_version": "1.2.0",
            "_model_module": "@jupyter-widgets/controls"
          }
        },
        "7fd03bd19c884cf5a5c824b9a7118cbd": {
          "model_module": "@jupyter-widgets/base",
          "model_name": "LayoutModel",
          "state": {
            "_view_name": "LayoutView",
            "grid_template_rows": null,
            "right": null,
            "justify_content": null,
            "_view_module": "@jupyter-widgets/base",
            "overflow": null,
            "_model_module_version": "1.2.0",
            "_view_count": null,
            "flex_flow": null,
            "width": null,
            "min_width": null,
            "border": null,
            "align_items": null,
            "bottom": null,
            "_model_module": "@jupyter-widgets/base",
            "top": null,
            "grid_column": null,
            "overflow_y": null,
            "overflow_x": null,
            "grid_auto_flow": null,
            "grid_area": null,
            "grid_template_columns": null,
            "flex": null,
            "_model_name": "LayoutModel",
            "justify_items": null,
            "grid_row": null,
            "max_height": null,
            "align_content": null,
            "visibility": null,
            "align_self": null,
            "height": null,
            "min_height": null,
            "padding": null,
            "grid_auto_rows": null,
            "grid_gap": null,
            "max_width": null,
            "order": null,
            "_view_module_version": "1.2.0",
            "grid_template_areas": null,
            "object_position": null,
            "object_fit": null,
            "grid_auto_columns": null,
            "margin": null,
            "display": null,
            "left": null
          }
        },
        "4d927d8b878f4326b42d13beb7505b77": {
          "model_module": "@jupyter-widgets/controls",
          "model_name": "HBoxModel",
          "state": {
            "_view_name": "HBoxView",
            "_dom_classes": [],
            "_model_name": "HBoxModel",
            "_view_module": "@jupyter-widgets/controls",
            "_model_module_version": "1.5.0",
            "_view_count": null,
            "_view_module_version": "1.5.0",
            "box_style": "",
            "layout": "IPY_MODEL_3ebc25486fe047e0bf207f7715aed70c",
            "_model_module": "@jupyter-widgets/controls",
            "children": [
              "IPY_MODEL_287cf331298745febde7b5ae39425f09",
              "IPY_MODEL_478c96c6b7bd4abea0e426bdefe96cd8"
            ]
          }
        },
        "3ebc25486fe047e0bf207f7715aed70c": {
          "model_module": "@jupyter-widgets/base",
          "model_name": "LayoutModel",
          "state": {
            "_view_name": "LayoutView",
            "grid_template_rows": null,
            "right": null,
            "justify_content": null,
            "_view_module": "@jupyter-widgets/base",
            "overflow": null,
            "_model_module_version": "1.2.0",
            "_view_count": null,
            "flex_flow": null,
            "width": null,
            "min_width": null,
            "border": null,
            "align_items": null,
            "bottom": null,
            "_model_module": "@jupyter-widgets/base",
            "top": null,
            "grid_column": null,
            "overflow_y": null,
            "overflow_x": null,
            "grid_auto_flow": null,
            "grid_area": null,
            "grid_template_columns": null,
            "flex": null,
            "_model_name": "LayoutModel",
            "justify_items": null,
            "grid_row": null,
            "max_height": null,
            "align_content": null,
            "visibility": null,
            "align_self": null,
            "height": null,
            "min_height": null,
            "padding": null,
            "grid_auto_rows": null,
            "grid_gap": null,
            "max_width": null,
            "order": null,
            "_view_module_version": "1.2.0",
            "grid_template_areas": null,
            "object_position": null,
            "object_fit": null,
            "grid_auto_columns": null,
            "margin": null,
            "display": null,
            "left": null
          }
        },
        "287cf331298745febde7b5ae39425f09": {
          "model_module": "@jupyter-widgets/controls",
          "model_name": "FloatProgressModel",
          "state": {
            "_view_name": "ProgressView",
            "style": "IPY_MODEL_9e6662eab024442787fb1de5f356a03d",
            "_dom_classes": [],
            "description": "",
            "_model_name": "FloatProgressModel",
            "bar_style": "success",
            "max": 5148,
            "_view_module": "@jupyter-widgets/controls",
            "_model_module_version": "1.5.0",
            "value": 5148,
            "_view_count": null,
            "_view_module_version": "1.5.0",
            "orientation": "horizontal",
            "min": 0,
            "description_tooltip": null,
            "_model_module": "@jupyter-widgets/controls",
            "layout": "IPY_MODEL_9d1be32180c841029754e1380bbddc4a"
          }
        },
        "478c96c6b7bd4abea0e426bdefe96cd8": {
          "model_module": "@jupyter-widgets/controls",
          "model_name": "HTMLModel",
          "state": {
            "_view_name": "HTMLView",
            "style": "IPY_MODEL_ecc28486b6e945edbca97a7d11d66e19",
            "_dom_classes": [],
            "description": "",
            "_model_name": "HTMLModel",
            "placeholder": "​",
            "_view_module": "@jupyter-widgets/controls",
            "_model_module_version": "1.5.0",
            "value": " 6144/? [01:05&lt;00:00, 93.86it/s]",
            "_view_count": null,
            "_view_module_version": "1.5.0",
            "description_tooltip": null,
            "_model_module": "@jupyter-widgets/controls",
            "layout": "IPY_MODEL_697bb382f916403aaf022cc5a9261af2"
          }
        },
        "9e6662eab024442787fb1de5f356a03d": {
          "model_module": "@jupyter-widgets/controls",
          "model_name": "ProgressStyleModel",
          "state": {
            "_view_name": "StyleView",
            "_model_name": "ProgressStyleModel",
            "description_width": "initial",
            "_view_module": "@jupyter-widgets/base",
            "_model_module_version": "1.5.0",
            "_view_count": null,
            "_view_module_version": "1.2.0",
            "bar_color": null,
            "_model_module": "@jupyter-widgets/controls"
          }
        },
        "9d1be32180c841029754e1380bbddc4a": {
          "model_module": "@jupyter-widgets/base",
          "model_name": "LayoutModel",
          "state": {
            "_view_name": "LayoutView",
            "grid_template_rows": null,
            "right": null,
            "justify_content": null,
            "_view_module": "@jupyter-widgets/base",
            "overflow": null,
            "_model_module_version": "1.2.0",
            "_view_count": null,
            "flex_flow": null,
            "width": null,
            "min_width": null,
            "border": null,
            "align_items": null,
            "bottom": null,
            "_model_module": "@jupyter-widgets/base",
            "top": null,
            "grid_column": null,
            "overflow_y": null,
            "overflow_x": null,
            "grid_auto_flow": null,
            "grid_area": null,
            "grid_template_columns": null,
            "flex": null,
            "_model_name": "LayoutModel",
            "justify_items": null,
            "grid_row": null,
            "max_height": null,
            "align_content": null,
            "visibility": null,
            "align_self": null,
            "height": null,
            "min_height": null,
            "padding": null,
            "grid_auto_rows": null,
            "grid_gap": null,
            "max_width": null,
            "order": null,
            "_view_module_version": "1.2.0",
            "grid_template_areas": null,
            "object_position": null,
            "object_fit": null,
            "grid_auto_columns": null,
            "margin": null,
            "display": null,
            "left": null
          }
        },
        "ecc28486b6e945edbca97a7d11d66e19": {
          "model_module": "@jupyter-widgets/controls",
          "model_name": "DescriptionStyleModel",
          "state": {
            "_view_name": "StyleView",
            "_model_name": "DescriptionStyleModel",
            "description_width": "",
            "_view_module": "@jupyter-widgets/base",
            "_model_module_version": "1.5.0",
            "_view_count": null,
            "_view_module_version": "1.2.0",
            "_model_module": "@jupyter-widgets/controls"
          }
        },
        "697bb382f916403aaf022cc5a9261af2": {
          "model_module": "@jupyter-widgets/base",
          "model_name": "LayoutModel",
          "state": {
            "_view_name": "LayoutView",
            "grid_template_rows": null,
            "right": null,
            "justify_content": null,
            "_view_module": "@jupyter-widgets/base",
            "overflow": null,
            "_model_module_version": "1.2.0",
            "_view_count": null,
            "flex_flow": null,
            "width": null,
            "min_width": null,
            "border": null,
            "align_items": null,
            "bottom": null,
            "_model_module": "@jupyter-widgets/base",
            "top": null,
            "grid_column": null,
            "overflow_y": null,
            "overflow_x": null,
            "grid_auto_flow": null,
            "grid_area": null,
            "grid_template_columns": null,
            "flex": null,
            "_model_name": "LayoutModel",
            "justify_items": null,
            "grid_row": null,
            "max_height": null,
            "align_content": null,
            "visibility": null,
            "align_self": null,
            "height": null,
            "min_height": null,
            "padding": null,
            "grid_auto_rows": null,
            "grid_gap": null,
            "max_width": null,
            "order": null,
            "_view_module_version": "1.2.0",
            "grid_template_areas": null,
            "object_position": null,
            "object_fit": null,
            "grid_auto_columns": null,
            "margin": null,
            "display": null,
            "left": null
          }
        }
      }
    }
  },
  "cells": [
    {
      "cell_type": "markdown",
      "metadata": {
        "id": "tktvdabC18-s"
      },
      "source": [
        "\n",
        "# Convolutional Neural Networks for Object Localization"
      ]
    },
    {
      "cell_type": "markdown",
      "metadata": {
        "id": "niJxVteL18-y"
      },
      "source": [
        "In this notebook we will learn how to implement a convolutional neural network (CNN) regressor to localize objects of the FashionMNIST dataset. We will use the Pytorch library for the implementation, compilation and training of the model.\n",
        "\n",
        "The input to our model is a $64 \\times 64$ image with a FashionMNIST object at any location, and the output of the model are four real numbers that define a bounding box (x, y, width, and height) around the object."
      ]
    },
    {
      "cell_type": "markdown",
      "metadata": {
        "id": "LrQBz7vs6wtY"
      },
      "source": [
        "*   Object detection = tienes que decir dónde está y qué es la cosa. \n",
        "*   Object localization = tienes que decir dónde está y qué es la cosa. Sabemos cuántos objectos hay por imagen (más fácil).\n",
        "\n",
        "\n"
      ]
    },
    {
      "cell_type": "markdown",
      "metadata": {
        "id": "MzOESkSSOONP"
      },
      "source": [
        "![localization_task.png](data:image/png;base64,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)"
      ]
    },
    {
      "cell_type": "markdown",
      "metadata": {
        "id": "mFLTv4idOONR"
      },
      "source": [
        "### Import necessary modules"
      ]
    },
    {
      "cell_type": "code",
      "metadata": {
        "id": "Z__gn53GOONT",
        "colab": {
          "base_uri": "https://localhost:8080/"
        },
        "outputId": "dead950c-dcb5-4559-c2c7-c8cc71021013"
      },
      "source": [
        "import torch\n",
        "import torch.nn as nn\n",
        "import torch.nn.functional as F\n",
        "import torch.optim as optim\n",
        "from torch.utils.data import Dataset, DataLoader\n",
        "from torchvision import datasets, transforms\n",
        "from torch.optim.lr_scheduler import StepLR\n",
        "\n",
        "import numpy as np\n",
        "import matplotlib.pyplot as plt\n",
        "from skimage.transform import resize\n",
        "\n",
        "from torchsummary import summary\n",
        "\n",
        "print('Check GPU runtime type... ')\n",
        "use_cuda = torch.cuda.is_available()\n",
        "if not use_cuda:\n",
        "  device = \"cpu\"\n",
        "  print('Change Runtype Type in top menu for GPU acceleration')\n",
        "else:\n",
        "  device = \"cuda\"\n",
        "  print('OK!')"
      ],
      "execution_count": 10,
      "outputs": [
        {
          "output_type": "stream",
          "text": [
            "Check GPU runtime type... \n",
            "OK!\n"
          ],
          "name": "stdout"
        }
      ]
    },
    {
      "cell_type": "markdown",
      "metadata": {
        "id": "xJG-7PGF18-0"
      },
      "source": [
        "## Create a custom dataset"
      ]
    },
    {
      "cell_type": "markdown",
      "metadata": {
        "id": "1xicFSzH18-1"
      },
      "source": [
        "First of all we need a custom dataset class to create our training/test samples. This class creates synthetic images by placing FashionMNIST objects (wich have a size $28 \\times 28$) at random locations of a black $64 \\times 64$ canvas image."
      ]
    },
    {
      "cell_type": "code",
      "metadata": {
        "id": "RhvETBzY18-2"
      },
      "source": [
        "class FashionMNISTlocalizationDataset(Dataset):\n",
        "    \"\"\"MNIST localization toy dataset.\"\"\"\n",
        "\n",
        "    def __init__(self, imgsize=(64,64), train=True, transform=None):\n",
        "        \"\"\"\n",
        "        Args:\n",
        "            imgsize (tuple (int,int), optional) - the size of generated images,\n",
        "                both width and height must be > 48\n",
        "            train (bool, optional) – If True, creates dataset from MNIST training\n",
        "                samples, otherwise from test\n",
        "            transform (callable, optional): Optional transform to be applied\n",
        "                on a sample.\n",
        "        \"\"\"\n",
        "        assert len(imgsize)==2 and imgsize[0] > 48 and imgsize[1] > 48\n",
        "        self.imgsize = imgsize\n",
        "        self.transform = transform\n",
        "        self.fashionMnist = datasets.FashionMNIST('../data', train=train, download=True)\n",
        "\n",
        "    def __len__(self): #número de muestras que tiene nuestro dataset\n",
        "        return self.fashionMnist.data.shape[0]\n",
        "\n",
        "    def __getitem__(self, idx): #define el comportamiento de devolver una muestra de nuestro dataset\n",
        "        if torch.is_tensor(idx):\n",
        "            idx = idx.tolist()\n",
        "        # create a black image\n",
        "        image = torch.zeros(self.imgsize) #crear imagen negra de 64x64\n",
        "        image_width, image_height = self.imgsize\n",
        "                \n",
        "        # Get one Fashion-MNIST object, resize it randomly, and copy it into\n",
        "        # a random location of the black image\n",
        "        object_img = self.fashionMnist.data[idx,:,:] #seleccionar objeto que toque dado el índice\n",
        "\n",
        "        object_width  = object_height = np.random.randint(19,47)\n",
        "\n",
        "        object_img = resize(object_img, (object_height, object_width))\n",
        "\n",
        "        x_offset = np.random.randint(0,image_width-object_width)\n",
        "        y_offset = np.random.randint(0,image_height-object_height)\n",
        "\n",
        "        image[y_offset:y_offset+object_height, x_offset:x_offset+object_width] += object_img\n",
        "        \n",
        "        image = image.reshape((1,)+self.imgsize) # must be a tensor image of size (C, H, W)\n",
        "        \n",
        "        if self.transform: #convertir imagen en tensor\n",
        "            image = self.transform(image)\n",
        "\n",
        "        # normalize the target values (bounding box coordinates) so they are real numbers from 0. to 1.\n",
        "        bbox = np.array([x_offset / image_width, y_offset / image_height, \n",
        "                         object_width / image_width, object_height / image_height], dtype=np.float32)\n",
        "            \n",
        "        sample = {'image': image, 'bbox': bbox}\n",
        "\n",
        "        return sample"
      ],
      "execution_count": 11,
      "outputs": []
    },
    {
      "cell_type": "markdown",
      "metadata": {
        "id": "vWKcFZeSOONa"
      },
      "source": [
        "Now we can create the necessary Dataset and DataLoader objects as follows."
      ]
    },
    {
      "cell_type": "code",
      "metadata": {
        "id": "uFW3wayxOONb"
      },
      "source": [
        "transform=transforms.Compose([\n",
        "        transforms.Normalize((0.1307,), (0.3081,))\n",
        "        ])\n",
        "\n",
        "dataset1 = FashionMNISTlocalizationDataset(train=True, transform=transform) #train\n",
        "dataset2 = FashionMNISTlocalizationDataset(train=False, transform=transform) #validation\n",
        "\n",
        "train_kwargs = {'batch_size': 64}\n",
        "test_kwargs  = {'batch_size': 1000}\n",
        "\n",
        "if use_cuda:\n",
        "    cuda_kwargs = {'num_workers': 1,\n",
        "                   'pin_memory': True,\n",
        "                   'shuffle': True}\n",
        "    train_kwargs.update(cuda_kwargs)\n",
        "    test_kwargs.update(cuda_kwargs)\n",
        "\n",
        "train_loader = DataLoader(dataset1, **train_kwargs)\n",
        "test_loader = DataLoader(dataset2, **test_kwargs)"
      ],
      "execution_count": 12,
      "outputs": []
    },
    {
      "cell_type": "markdown",
      "metadata": {
        "id": "mS-cmCLP18-2"
      },
      "source": [
        "### Visualize some generated samples"
      ]
    },
    {
      "cell_type": "code",
      "metadata": {
        "id": "4aAtRuL-18-2",
        "colab": {
          "base_uri": "https://localhost:8080/",
          "height": 193
        },
        "outputId": "fbc4279a-024e-43e3-ff14-9a10df22a3da"
      },
      "source": [
        "def show_bbox(image, bbox, pred=None):\n",
        "    \"\"\"Show image with bbox\"\"\"\n",
        "    image = image.squeeze()\n",
        "    plt.imshow(image, cmap='gray')\n",
        "\n",
        "    # plot the ground truth bounding box\n",
        "    imgsize = image.shape\n",
        "    bbox *= [imgsize[1],imgsize[0],imgsize[0],imgsize[1]]\n",
        "    plt.plot([bbox[0],bbox[0]+bbox[2],bbox[0]+bbox[2],bbox[0],bbox[0]],\n",
        "             [bbox[1],bbox[1],bbox[1]+bbox[3],bbox[1]+bbox[3],bbox[1]], c='r')\n",
        "\n",
        "    if pred is not None: \n",
        "        # plot the predicted bounding box (if provided)\n",
        "        pred *= [imgsize[1],imgsize[0],imgsize[0],imgsize[1]]\n",
        "        plt.plot([pred[0],pred[0]+pred[2],pred[0]+pred[2],pred[0],pred[0]],\n",
        "                 [pred[1],pred[1],pred[1]+pred[3],pred[1]+pred[3],pred[1]], c='b')\n",
        "    \n",
        "    \n",
        " \n",
        "fig = plt.figure()\n",
        "for i in range(len(dataset1)):\n",
        "    sample = dataset1[i]\n",
        "    print(i, sample['image'].shape, sample['bbox'].shape)\n",
        "    ax = plt.subplot(1, 4, i + 1)\n",
        "    plt.tight_layout()\n",
        "    ax.set_title('Sample #{}'.format(i))\n",
        "    ax.axis('off')\n",
        "    show_bbox(**sample)\n",
        "\n",
        "    if i == 3:\n",
        "        plt.show()\n",
        "        break"
      ],
      "execution_count": 13,
      "outputs": [
        {
          "output_type": "stream",
          "text": [
            "0 torch.Size([1, 64, 64]) (4,)\n",
            "1 torch.Size([1, 64, 64]) (4,)\n",
            "2 torch.Size([1, 64, 64]) (4,)\n",
            "3 torch.Size([1, 64, 64]) (4,)\n"
          ],
          "name": "stdout"
        },
        {
          "output_type": "display_data",
          "data": {
            "image/png": "[encoded data removed]",
            "text/plain": [
              "<Figure size 432x288 with 4 Axes>"
            ]
          },
          "metadata": {
            "tags": [],
            "needs_background": "light"
          }
        }
      ]
    },
    {
      "cell_type": "code",
      "metadata": {
        "id": "aszWIV0m18-5",
        "colab": {
          "base_uri": "https://localhost:8080/"
        },
        "outputId": "e2de6e02-700d-4bcd-a461-000da6771fb9"
      },
      "source": [
        "# check the size of the dataset\n",
        "print(\"Size of training data: {}\".format(len(dataset1)))\n",
        "print(\"Size of test data: {}\".format(len(dataset2)))"
      ],
      "execution_count": 14,
      "outputs": [
        {
          "output_type": "stream",
          "text": [
            "Size of training data: 60000\n",
            "Size of test data: 10000\n"
          ],
          "name": "stdout"
        }
      ]
    },
    {
      "cell_type": "markdown",
      "metadata": {
        "id": "gmOpSBhE18-3"
      },
      "source": [
        "We have 60,000 images for training and 10,000 for testing. The image size is $64 \\times 64$ pixels and they have only one channel (greyscale images)."
      ]
    },
    {
      "cell_type": "markdown",
      "metadata": {
        "id": "DyLPtyuE18-7"
      },
      "source": [
        "## Create the CNN regression model\n",
        "\n",
        "We will use a simple CNN model with four convolutional layers, one pooling layer, and two fully connected layers. \n",
        "\n",
        "Notice that the output layer has four neurons with a `sigmoid` activation, so our model produces at its outputs four real numbers (x, y, width, and height)."
      ]
    },
    {
      "cell_type": "code",
      "metadata": {
        "id": "ind1Flc-18-7",
        "colab": {
          "base_uri": "https://localhost:8080/"
        },
        "outputId": "301156b3-cc61-4d42-fa26-a50f2bd1ee2b"
      },
      "source": [
        "class Net(nn.Module):\n",
        "    def __init__(self):\n",
        "        super(Net, self).__init__()\n",
        "        self.backbone = nn.Sequential(\n",
        "          nn.Conv2d( 1, 8, 5, padding=2,stride=2), nn.ReLU(), #14\n",
        "          nn.Conv2d( 8,16, 3, padding=1,stride=2), nn.ReLU(), # 7\n",
        "          nn.Conv2d(16,32, 3, padding=1,stride=2), nn.ReLU(), # 4\n",
        "          nn.Conv2d(32,32, 3, padding=1,stride=2), nn.ReLU(), # 2\n",
        "          nn.AdaptiveAvgPool2d(1), #quedarnos solo con los channels (cargarnos las dimensiones espaciales)\n",
        "          nn.Flatten(),\n",
        "          )\n",
        "        \n",
        "        self.bbox = nn.Sequential(nn.Linear(32,4), nn.Sigmoid()) #nuestro regresor tendrá 32 features y 4 coordenadas (x, y, width, height)\n",
        "        #la Sigmoide sirve para facilitar el training (ya que las coordenadas del bb están normalizadas)\n",
        "        \n",
        "    def forward(self, x):\n",
        "        features = self.backbone(x)\n",
        "        bbox = self.bbox(features)\n",
        "        return bbox\n",
        "\n",
        "summary(Net(),(1,64,64),device=\"cpu\")"
      ],
      "execution_count": 15,
      "outputs": [
        {
          "output_type": "stream",
          "text": [
            "----------------------------------------------------------------\n",
            "        Layer (type)               Output Shape         Param #\n",
            "================================================================\n",
            "            Conv2d-1            [-1, 8, 32, 32]             208\n",
            "              ReLU-2            [-1, 8, 32, 32]               0\n",
            "            Conv2d-3           [-1, 16, 16, 16]           1,168\n",
            "              ReLU-4           [-1, 16, 16, 16]               0\n",
            "            Conv2d-5             [-1, 32, 8, 8]           4,640\n",
            "              ReLU-6             [-1, 32, 8, 8]               0\n",
            "            Conv2d-7             [-1, 32, 4, 4]           9,248\n",
            "              ReLU-8             [-1, 32, 4, 4]               0\n",
            " AdaptiveAvgPool2d-9             [-1, 32, 1, 1]               0\n",
            "          Flatten-10                   [-1, 32]               0\n",
            "           Linear-11                    [-1, 4]             132\n",
            "          Sigmoid-12                    [-1, 4]               0\n",
            "================================================================\n",
            "Total params: 15,396\n",
            "Trainable params: 15,396\n",
            "Non-trainable params: 0\n",
            "----------------------------------------------------------------\n",
            "Input size (MB): 0.02\n",
            "Forward/backward pass size (MB): 0.23\n",
            "Params size (MB): 0.06\n",
            "Estimated Total Size (MB): 0.30\n",
            "----------------------------------------------------------------\n"
          ],
          "name": "stdout"
        }
      ]
    },
    {
      "cell_type": "markdown",
      "metadata": {
        "id": "ndYgcQkW18-8"
      },
      "source": [
        "### Define the training method\n",
        "\n",
        "For training our CNN regression model we will use the L1 loss, which takes the mean element-wise absolute value difference.\n",
        "\n",
        "See <a href=\"https://pytorch.org/docs/stable/generated/torch.nn.L1Loss.html#torch.nn.L1Loss\">`torch.nn.L1Loss`</a> for details."
      ]
    },
    {
      "cell_type": "code",
      "metadata": {
        "id": "u2LLkt5218-8"
      },
      "source": [
        "def train(model, device, train_loader, optimizer, epoch, scheduler=None):\n",
        "    model.train()\n",
        "    loss_values = []\n",
        "    for batch_idx, sample_batched in enumerate(train_loader):\n",
        "        data = sample_batched['image'] \n",
        "        target = sample_batched['bbox']\n",
        "        data, target = data.to(device), target.to(device)\n",
        "        optimizer.zero_grad()\n",
        "        output = model(data)\n",
        "        loss = F.l1_loss(output, target) \n",
        "        loss_values.append(loss)\n",
        "        loss.backward()\n",
        "        optimizer.step()\n",
        "        if batch_idx % log_interval == 0:\n",
        "            print('Train Epoch: {} [{}/{} ({:.0f}%)]\\tLoss: {:.6f}'.format(\n",
        "                epoch, batch_idx * len(data), len(train_loader.dataset),\n",
        "                100. * batch_idx / len(train_loader), loss.item()))\n",
        "        if scheduler is not None: #siempre después del omtimizer.step()\n",
        "            scheduler.step()\n",
        "    return loss_values"
      ],
      "execution_count": 16,
      "outputs": []
    },
    {
      "cell_type": "markdown",
      "metadata": {
        "id": "oOvIRgNG18-8"
      },
      "source": [
        "### Train the model\n",
        "\n",
        "We will train the model with the [`Adam`](https://pytorch.org/docs/stable/optim.html?highlight=adam#torch.optim.Adam) and the [`OneCycleLR`](https://pytorch.org/docs/stable/optim.html?highlight=onecyclelr#torch.optim.lr_scheduler.OneCycleLR) learning rate scheduler."
      ]
    },
    {
      "cell_type": "code",
      "metadata": {
        "id": "7yGqDf0w18-9",
        "colab": {
          "base_uri": "https://localhost:8080/"
        },
        "outputId": "fe194052-dcb8-4ea1-8379-f05b386ad355"
      },
      "source": [
        "model = Net().to(device)\n",
        "\n",
        "lr = 1e-2\n",
        "optimizer = optim.Adam(model.parameters(), lr=lr)\n",
        "\n",
        "epochs = 5\n",
        "scheduler = optim.lr_scheduler.OneCycleLR(optimizer, lr, epochs=epochs, steps_per_epoch=len(train_loader)) #modifica el learning rate a lo largo del training de una forma u otra\n",
        "\n",
        "log_interval = 100 # how many batches to wait before logging training status\n",
        "\n",
        "loss_history = []\n",
        "for epoch in range(1, epochs + 1):\n",
        "    loss_values = train(model, device, train_loader, optimizer, epoch, scheduler)\n",
        "    loss_history += loss_values"
      ],
      "execution_count": 17,
      "outputs": [
        {
          "output_type": "stream",
          "text": [
            "Train Epoch: 1 [0/60000 (0%)]\tLoss: 0.188221\n",
            "Train Epoch: 1 [6400/60000 (11%)]\tLoss: 0.106205\n",
            "Train Epoch: 1 [12800/60000 (21%)]\tLoss: 0.096817\n",
            "Train Epoch: 1 [19200/60000 (32%)]\tLoss: 0.073709\n",
            "Train Epoch: 1 [25600/60000 (43%)]\tLoss: 0.070295\n",
            "Train Epoch: 1 [32000/60000 (53%)]\tLoss: 0.050708\n",
            "Train Epoch: 1 [38400/60000 (64%)]\tLoss: 0.051893\n",
            "Train Epoch: 1 [44800/60000 (75%)]\tLoss: 0.040591\n",
            "Train Epoch: 1 [51200/60000 (85%)]\tLoss: 0.039919\n",
            "Train Epoch: 1 [57600/60000 (96%)]\tLoss: 0.041472\n",
            "Train Epoch: 2 [0/60000 (0%)]\tLoss: 0.036230\n",
            "Train Epoch: 2 [6400/60000 (11%)]\tLoss: 0.030269\n",
            "Train Epoch: 2 [12800/60000 (21%)]\tLoss: 0.034742\n",
            "Train Epoch: 2 [19200/60000 (32%)]\tLoss: 0.029751\n",
            "Train Epoch: 2 [25600/60000 (43%)]\tLoss: 0.029851\n",
            "Train Epoch: 2 [32000/60000 (53%)]\tLoss: 0.026735\n",
            "Train Epoch: 2 [38400/60000 (64%)]\tLoss: 0.021540\n",
            "Train Epoch: 2 [44800/60000 (75%)]\tLoss: 0.023879\n",
            "Train Epoch: 2 [51200/60000 (85%)]\tLoss: 0.025499\n",
            "Train Epoch: 2 [57600/60000 (96%)]\tLoss: 0.021067\n",
            "Train Epoch: 3 [0/60000 (0%)]\tLoss: 0.025239\n",
            "Train Epoch: 3 [6400/60000 (11%)]\tLoss: 0.022770\n",
            "Train Epoch: 3 [12800/60000 (21%)]\tLoss: 0.023413\n",
            "Train Epoch: 3 [19200/60000 (32%)]\tLoss: 0.020410\n",
            "Train Epoch: 3 [25600/60000 (43%)]\tLoss: 0.017662\n",
            "Train Epoch: 3 [32000/60000 (53%)]\tLoss: 0.018809\n",
            "Train Epoch: 3 [38400/60000 (64%)]\tLoss: 0.017419\n",
            "Train Epoch: 3 [44800/60000 (75%)]\tLoss: 0.016788\n",
            "Train Epoch: 3 [51200/60000 (85%)]\tLoss: 0.019382\n",
            "Train Epoch: 3 [57600/60000 (96%)]\tLoss: 0.020014\n",
            "Train Epoch: 4 [0/60000 (0%)]\tLoss: 0.015364\n",
            "Train Epoch: 4 [6400/60000 (11%)]\tLoss: 0.018226\n",
            "Train Epoch: 4 [12800/60000 (21%)]\tLoss: 0.014652\n",
            "Train Epoch: 4 [19200/60000 (32%)]\tLoss: 0.015473\n",
            "Train Epoch: 4 [25600/60000 (43%)]\tLoss: 0.018995\n",
            "Train Epoch: 4 [32000/60000 (53%)]\tLoss: 0.014214\n",
            "Train Epoch: 4 [38400/60000 (64%)]\tLoss: 0.014074\n",
            "Train Epoch: 4 [44800/60000 (75%)]\tLoss: 0.013477\n",
            "Train Epoch: 4 [51200/60000 (85%)]\tLoss: 0.014099\n",
            "Train Epoch: 4 [57600/60000 (96%)]\tLoss: 0.013982\n",
            "Train Epoch: 5 [0/60000 (0%)]\tLoss: 0.015966\n",
            "Train Epoch: 5 [6400/60000 (11%)]\tLoss: 0.015263\n",
            "Train Epoch: 5 [12800/60000 (21%)]\tLoss: 0.013064\n",
            "Train Epoch: 5 [19200/60000 (32%)]\tLoss: 0.012377\n",
            "Train Epoch: 5 [25600/60000 (43%)]\tLoss: 0.013441\n",
            "Train Epoch: 5 [32000/60000 (53%)]\tLoss: 0.015283\n",
            "Train Epoch: 5 [38400/60000 (64%)]\tLoss: 0.012578\n",
            "Train Epoch: 5 [44800/60000 (75%)]\tLoss: 0.011345\n",
            "Train Epoch: 5 [51200/60000 (85%)]\tLoss: 0.011774\n",
            "Train Epoch: 5 [57600/60000 (96%)]\tLoss: 0.013600\n"
          ],
          "name": "stdout"
        }
      ]
    },
    {
      "cell_type": "markdown",
      "metadata": {
        "id": "mIMOMKRh18--"
      },
      "source": [
        "### Plot the loss over time"
      ]
    },
    {
      "cell_type": "code",
      "metadata": {
        "id": "Jb2ocuvo18--",
        "colab": {
          "base_uri": "https://localhost:8080/",
          "height": 281
        },
        "outputId": "d540bd8f-5c75-4e90-95f5-875d0bd82478"
      },
      "source": [
        "plt.plot(np.arange(len(loss_history)), loss_history)\n",
        "plt.title('L1 training loss')\n",
        "plt.show()"
      ],
      "execution_count": 18,
      "outputs": [
        {
          "output_type": "display_data",
          "data": {
            "image/png": "[encoded data removed]",
            "text/plain": [
              "<Figure size 432x288 with 1 Axes>"
            ]
          },
          "metadata": {
            "tags": [],
            "needs_background": "light"
          }
        }
      ]
    },
    {
      "cell_type": "markdown",
      "metadata": {
        "id": "5tWPmXhk18--"
      },
      "source": [
        "## Evaluate the model\n",
        "\n",
        "Finally, we can use the trained model to predict a bounding box for any given image. Let's see how to make predictions for the first four images of the test set."
      ]
    },
    {
      "cell_type": "code",
      "metadata": {
        "id": "JMecAtU618--",
        "colab": {
          "base_uri": "https://localhost:8080/",
          "height": 122
        },
        "outputId": "f77b5752-5b0d-4eae-d236-69189af128af"
      },
      "source": [
        "model.eval()\n",
        "\n",
        "fig = plt.figure()\n",
        "for i in range(len(dataset2)):\n",
        "    sample = dataset2[i]\n",
        "    ax = plt.subplot(1, 4, i + 1)\n",
        "    plt.tight_layout()\n",
        "    ax.set_title('Sample #{}'.format(i))\n",
        "    ax.axis('off')\n",
        "    \n",
        "    # predict the bounding box for a given image\n",
        "    data = sample['image']\n",
        "    data = data.reshape((1,)+data.shape) # shape must be (b,c,h,w)\n",
        "    data = data.to(device)\n",
        "    with torch.no_grad():\n",
        "        output = model(data)\n",
        "        \n",
        "    sample['pred'] = output[0].cpu().numpy()\n",
        "    show_bbox(**sample)\n",
        "\n",
        "    if i == 3:\n",
        "        plt.show()\n",
        "        break"
      ],
      "execution_count": null,
      "outputs": [
        {
          "output_type": "display_data",
          "data": {
            "image/png": "[encoded data removed]",
            "text/plain": [
              "<Figure size 432x288 with 4 Axes>"
            ]
          },
          "metadata": {
            "tags": [],
            "needs_background": "light"
          }
        }
      ]
    },
    {
      "cell_type": "markdown",
      "metadata": {
        "id": "aLdoYXd6OONt"
      },
      "source": [
        "We appreciate that the predicted bounding boxes (blue) are usually good aproximations of the ground truth (red).\n",
        "\n",
        "In order to measure whether the results are correct or not in the entire test set we need to implement a performance measure based on the Intersection over Union (IoU) of the ground truth and predicted bounding boxes.\n",
        "\n",
        "<table>\n",
        "<tr>\n",
        "<td><img src=\"https://www.pyimagesearch.com/wp-content/uploads/2016/09/iou_stop_sign.jpg\" width=50%></td>\n",
        "<td><img src=\"https://www.pyimagesearch.com/wp-content/uploads/2016/09/iou_equation.png\" width=50%></td>\n",
        "</tr>\n",
        "<tr>\n",
        "<td colspan=2><div style=\"font-size:3\">Images from: https://www.pyimagesearch.com/2016/11/07/intersection-over-union-iou-for-object-detection/</div></td>\n",
        "</tr>\n",
        "</table>\n"
      ]
    },
    {
      "cell_type": "code",
      "metadata": {
        "id": "QHAsXDCuOONt"
      },
      "source": [
        "def IoU(pred, target, iou_threshold = 0.7): #si la detección es mayor que un 70%, la damos por buena\n",
        "    # determine the coordinates of the intersection rectangle\n",
        "    x_left = np.maximum(pred[:,0], target[:,0])\n",
        "    y_top = np.maximum(pred[:,1], target[:,1])\n",
        "    x_right = np.minimum(pred[:,0]+pred[:,2], target[:,0]+target[:,2])\n",
        "    y_bottom = np.minimum(pred[:,1]+pred[:,3], target[:,1]+target[:,3])\n",
        "    \n",
        "    intersection_area = (x_right - x_left) * (y_bottom - y_top)\n",
        "    \n",
        "    # compute the areas of the union\n",
        "    pred_area = pred[:,2] * pred[:,3]\n",
        "    target_area =  target[:,2] *  target[:,3]\n",
        "    \n",
        "    union_area = pred_area + target_area - intersection_area\n",
        "    \n",
        "    iou = intersection_area / union_area\n",
        "    \n",
        "    return iou>iou_threshold"
      ],
      "execution_count": null,
      "outputs": []
    },
    {
      "cell_type": "markdown",
      "metadata": {
        "id": "gSdUIu0SOONu"
      },
      "source": [
        "### Define the test method"
      ]
    },
    {
      "cell_type": "code",
      "metadata": {
        "id": "8oKnoZ3-OONu",
        "colab": {
          "base_uri": "https://localhost:8080/"
        },
        "outputId": "c577e2be-8db2-4fa9-f3ae-22ffcdfdac29"
      },
      "source": [
        "def test(model, device, test_loader):\n",
        "    model.eval()\n",
        "    test_loss = 0\n",
        "    correct = 0\n",
        "    with torch.no_grad():\n",
        "        for batch_idx, sample_batched in enumerate(test_loader):\n",
        "            data = sample_batched['image']\n",
        "            target = sample_batched['bbox']\n",
        "            data, target = data.to(device), target.to(device)\n",
        "            output = model(data)\n",
        "            test_loss += F.l1_loss(output, target).item()\n",
        "            \n",
        "            # count the number of prediction with an IoU above a certain threshold\n",
        "            correct += np.sum(IoU(output.cpu().numpy(), target.cpu().numpy(), iou_threshold = 0.7))\n",
        "\n",
        "    test_loss /= (len(test_loader.dataset)/test_loader.batch_size)\n",
        "\n",
        "    print('\\nTest set: Average loss: {:.4f}, Accuracy: {}/{} ({:.0f}%)\\n'.format(\n",
        "        test_loss, correct, len(test_loader.dataset),\n",
        "        100. * correct / len(test_loader.dataset)))\n",
        "    \n",
        "\n",
        "# call the test method\n",
        "test(model, device, test_loader)"
      ],
      "execution_count": null,
      "outputs": [
        {
          "output_type": "stream",
          "text": [
            "\n",
            "Test set: Average loss: 0.0139, Accuracy: 9829/10000 (98%)\n",
            "\n"
          ],
          "name": "stdout"
        }
      ]
    },
    {
      "cell_type": "markdown",
      "metadata": {
        "id": "-rhTVz2SO1JK"
      },
      "source": [
        "It usually a good idea to manually inspect the errors of the model in order to figure out when it is not working well."
      ]
    },
    {
      "cell_type": "code",
      "metadata": {
        "scrolled": true,
        "id": "V1oTY9JwOONv",
        "colab": {
          "base_uri": "https://localhost:8080/",
          "height": 106
        },
        "outputId": "73d0d805-f657-4ac8-883e-6f874c0a0a88"
      },
      "source": [
        "# Find wrong prediction and display it\n",
        "\n",
        "model.eval()\n",
        "\n",
        "count = 0\n",
        "\n",
        "for i in range(len(dataset2)):\n",
        "    sample = dataset2[i]\n",
        "    \n",
        "    # predict the bounding box for a given image\n",
        "    data = sample['image']\n",
        "    data = data.reshape((1,)+data.shape) # shape must be (b,c,h,w)\n",
        "    data = data.to(device)\n",
        "    with torch.no_grad():\n",
        "        output = model(data)\n",
        "    \n",
        "    target = sample['bbox'].reshape((1,4))\n",
        "    iou= IoU(output.cpu().numpy(), target, iou_threshold = 0.7)\n",
        "    \n",
        "    if not iou:\n",
        "        #print(output.cpu().numpy(), target,iou)\n",
        "        ax = plt.subplot(1, 4, count + 1)\n",
        "        plt.tight_layout()\n",
        "        ax.axis('off')\n",
        "        sample['pred'] = output[0].cpu().numpy()\n",
        "        show_bbox(**sample)\n",
        "        count += 1\n",
        "           \n",
        "    if count == 4:\n",
        "        plt.show()\n",
        "        break"
      ],
      "execution_count": null,
      "outputs": [
        {
          "output_type": "display_data",
          "data": {
            "image/png": "[encoded data removed]",
            "text/plain": [
              "<Figure size 432x288 with 4 Axes>"
            ]
          },
          "metadata": {
            "tags": [],
            "needs_background": "light"
          }
        }
      ]
    },
    {
      "cell_type": "markdown",
      "metadata": {
        "id": "ZQw7XqlU1Nqz"
      },
      "source": [
        "# Exercise 1\n",
        "Create a CNN model for classification and train it on our synthetic dataset for 5 epochs. For this you must create a new Dataset class that produces the ground truth class labels for classification instead of the bounding box annotations as we did in the `FashionMNISTlocalizationDataset` class."
      ]
    },
    {
      "cell_type": "code",
      "metadata": {
        "id": "Gps5SSTGWLn5"
      },
      "source": [
        "class FashionMNISTlocalizationDataset(Dataset):\n",
        "    \"\"\"MNIST localization toy dataset.\"\"\"\n",
        "\n",
        "    def __init__(self, imgsize=(64,64), train=True, transform=None):\n",
        "        \"\"\"\n",
        "        Args:\n",
        "            imgsize (tuple (int,int), optional) - the size of generated images,\n",
        "                both width and height must be > 48\n",
        "            train (bool, optional) – If True, creates dataset from MNIST training\n",
        "                samples, otherwise from test\n",
        "            transform (callable, optional): Optional transform to be applied\n",
        "                on a sample.\n",
        "        \"\"\"\n",
        "        assert len(imgsize)==2 and imgsize[0] > 48 and imgsize[1] > 48\n",
        "        self.imgsize = imgsize\n",
        "        self.transform = transform\n",
        "        self.fashionMnist = datasets.FashionMNIST('../data', train=train, download=True)\n",
        "\n",
        "    def __len__(self): #número de muestras que tiene nuestro dataset\n",
        "        return self.fashionMnist.data.shape[0]\n",
        "\n",
        "    def __getitem__(self, idx): #define el comportamiento de devolver una muestra de nuestro dataset\n",
        "        if torch.is_tensor(idx):\n",
        "            idx = idx.tolist()\n",
        "        # create a black image\n",
        "        image = torch.zeros(self.imgsize) #crear imagen negra de 64x64\n",
        "        image_width, image_height = self.imgsize\n",
        "                \n",
        "        # Get one Fashion-MNIST object, resize it randomly, and copy it into\n",
        "        # a random location of the black image\n",
        "        object_img = self.fashionMnist.data[idx,:,:] #seleccionar objeto que toque dado el índice\n",
        "\n",
        "        object_width  = object_height = np.random.randint(19,47)\n",
        "\n",
        "        object_img = resize(object_img, (object_height, object_width))\n",
        "\n",
        "        x_offset = np.random.randint(0,image_width-object_width)\n",
        "        y_offset = np.random.randint(0,image_height-object_height)\n",
        "\n",
        "        image[y_offset:y_offset+object_height, x_offset:x_offset+object_width] += object_img\n",
        "        \n",
        "        image = image.reshape((1,)+self.imgsize) # must be a tensor image of size (C, H, W)\n",
        "        \n",
        "        if self.transform: #convertir imagen en tensor\n",
        "            image = self.transform(image)\n",
        "\n",
        "        # normalize the target values (bounding box coordinates) so they are real numbers from 0. to 1.\n",
        "        #bbox = np.array([x_offset / image_width, y_offset / image_height, \n",
        "                         #object_width / image_width, object_height / image_height], dtype=np.float32)\n",
        "        \n",
        "        label = self.fashionMnist.targets[idx] #línea añadida\n",
        "        sample = {'image': image, 'label': label} #línea añadida\n",
        "\n",
        "        return sample"
      ],
      "execution_count": 2,
      "outputs": []
    },
    {
      "cell_type": "code",
      "metadata": {
        "id": "sUpFLvC_IAau",
        "colab": {
          "base_uri": "https://localhost:8080/",
          "height": 592,
          "referenced_widgets": [
            "d31dcaa6551c4ca1a13b36969471c87c",
            "c9f19955910045bcab93dafbed767532",
            "84172d38185e4b9082462b9da5a329e0",
            "08c8b5559caa40689fac440ce3c5e516",
            "660a50437a42461e97c2d8c019ac314c",
            "5ea43f8fa93648c8b08f136c31670314",
            "b1c008d6200841adbacc30320100712c",
            "744b0b70ee8946d4aca62874c8b25423",
            "706f74280d7a4ad9bc75a4f58397b679",
            "b5d5502a2e284e20972289a6d2d63b57",
            "8a2c58c5f5ab4cd68b8c11a1aeb8ea83",
            "0b2251e4c5db4db98c5244d606923c20",
            "5b4be5eca93c48b199fc369be6c66bd3",
            "41735dbf2fdf4878844a105aa6e09bdb",
            "0d70ca050da449f99eb9dc9273392cf7",
            "9dfaf784f43c402183cdf753eb7d1660",
            "1f48d97aa36d4ae494ac5b8a469290ca",
            "1bc58cafd2f640949c8fbda108a62281",
            "25a540d394484fa49fbb5f499f4a3fa2",
            "3278b1707db54d54a05d23c777e68e3f",
            "439008b575c344d5991d6244d50f297c",
            "9c064552416044b49904ddaf1ee76d08",
            "5a3ad250ceb742a1a9eb00409cbf45cb",
            "7fd03bd19c884cf5a5c824b9a7118cbd",
            "4d927d8b878f4326b42d13beb7505b77",
            "3ebc25486fe047e0bf207f7715aed70c",
            "287cf331298745febde7b5ae39425f09",
            "478c96c6b7bd4abea0e426bdefe96cd8",
            "9e6662eab024442787fb1de5f356a03d",
            "9d1be32180c841029754e1380bbddc4a",
            "ecc28486b6e945edbca97a7d11d66e19",
            "697bb382f916403aaf022cc5a9261af2"
          ]
        },
        "outputId": "e2d6b134-2fc7-448a-9a8a-2fb6a9e85101"
      },
      "source": [
        "transform=transforms.Compose([\n",
        "        transforms.Normalize((0.1307,), (0.3081,))\n",
        "        ])\n",
        "\n",
        "dataset1 = FashionMNISTlocalizationDataset(train=True, transform=transform) #train\n",
        "dataset2 = FashionMNISTlocalizationDataset(train=False, transform=transform) #validation\n",
        "\n",
        "train_kwargs = {'batch_size': 64}\n",
        "test_kwargs  = {'batch_size': 1000}\n",
        "\n",
        "if use_cuda:\n",
        "    cuda_kwargs = {'num_workers': 1,\n",
        "                   'pin_memory': True,\n",
        "                   'shuffle': True}\n",
        "    train_kwargs.update(cuda_kwargs)\n",
        "    test_kwargs.update(cuda_kwargs)\n",
        "\n",
        "train_loader = DataLoader(dataset1, **train_kwargs)\n",
        "test_loader = DataLoader(dataset2, **test_kwargs)"
      ],
      "execution_count": 3,
      "outputs": [
        {
          "output_type": "stream",
          "text": [
            "Downloading http://fashion-mnist.s3-website.eu-central-1.amazonaws.com/train-images-idx3-ubyte.gz\n",
            "Downloading http://fashion-mnist.s3-website.eu-central-1.amazonaws.com/train-images-idx3-ubyte.gz to ../data/FashionMNIST/raw/train-images-idx3-ubyte.gz\n"
          ],
          "name": "stdout"
        },
        {
          "output_type": "display_data",
          "data": {
            "application/vnd.jupyter.widget-view+json": {
              "model_id": "d31dcaa6551c4ca1a13b36969471c87c",
              "version_minor": 0,
              "version_major": 2
            },
            "text/plain": [
              "HBox(children=(FloatProgress(value=0.0, max=26421880.0), HTML(value='')))"
            ]
          },
          "metadata": {
            "tags": []
          }
        },
        {
          "output_type": "stream",
          "text": [
            "\n",
            "Extracting ../data/FashionMNIST/raw/train-images-idx3-ubyte.gz to ../data/FashionMNIST/raw\n",
            "\n",
            "Downloading http://fashion-mnist.s3-website.eu-central-1.amazonaws.com/train-labels-idx1-ubyte.gz\n",
            "Downloading http://fashion-mnist.s3-website.eu-central-1.amazonaws.com/train-labels-idx1-ubyte.gz to ../data/FashionMNIST/raw/train-labels-idx1-ubyte.gz\n"
          ],
          "name": "stdout"
        },
        {
          "output_type": "display_data",
          "data": {
            "application/vnd.jupyter.widget-view+json": {
              "model_id": "706f74280d7a4ad9bc75a4f58397b679",
              "version_minor": 0,
              "version_major": 2
            },
            "text/plain": [
              "HBox(children=(FloatProgress(value=0.0, max=29515.0), HTML(value='')))"
            ]
          },
          "metadata": {
            "tags": []
          }
        },
        {
          "output_type": "stream",
          "text": [
            "\n",
            "Extracting ../data/FashionMNIST/raw/train-labels-idx1-ubyte.gz to ../data/FashionMNIST/raw\n",
            "\n",
            "Downloading http://fashion-mnist.s3-website.eu-central-1.amazonaws.com/t10k-images-idx3-ubyte.gz\n",
            "Downloading http://fashion-mnist.s3-website.eu-central-1.amazonaws.com/t10k-images-idx3-ubyte.gz to ../data/FashionMNIST/raw/t10k-images-idx3-ubyte.gz\n"
          ],
          "name": "stdout"
        },
        {
          "output_type": "display_data",
          "data": {
            "application/vnd.jupyter.widget-view+json": {
              "model_id": "1f48d97aa36d4ae494ac5b8a469290ca",
              "version_minor": 0,
              "version_major": 2
            },
            "text/plain": [
              "HBox(children=(FloatProgress(value=0.0, max=4422102.0), HTML(value='')))"
            ]
          },
          "metadata": {
            "tags": []
          }
        },
        {
          "output_type": "stream",
          "text": [
            "\n",
            "Extracting ../data/FashionMNIST/raw/t10k-images-idx3-ubyte.gz to ../data/FashionMNIST/raw\n",
            "\n",
            "Downloading http://fashion-mnist.s3-website.eu-central-1.amazonaws.com/t10k-labels-idx1-ubyte.gz\n",
            "Downloading http://fashion-mnist.s3-website.eu-central-1.amazonaws.com/t10k-labels-idx1-ubyte.gz to ../data/FashionMNIST/raw/t10k-labels-idx1-ubyte.gz\n"
          ],
          "name": "stdout"
        },
        {
          "output_type": "display_data",
          "data": {
            "application/vnd.jupyter.widget-view+json": {
              "model_id": "4d927d8b878f4326b42d13beb7505b77",
              "version_minor": 0,
              "version_major": 2
            },
            "text/plain": [
              "HBox(children=(FloatProgress(value=0.0, max=5148.0), HTML(value='')))"
            ]
          },
          "metadata": {
            "tags": []
          }
        },
        {
          "output_type": "stream",
          "text": [
            "\n",
            "Extracting ../data/FashionMNIST/raw/t10k-labels-idx1-ubyte.gz to ../data/FashionMNIST/raw\n",
            "\n",
            "Processing...\n",
            "Done!\n"
          ],
          "name": "stdout"
        },
        {
          "output_type": "stream",
          "text": [
            "/usr/local/lib/python3.7/dist-packages/torchvision/datasets/mnist.py:502: UserWarning: The given NumPy array is not writeable, and PyTorch does not support non-writeable tensors. This means you can write to the underlying (supposedly non-writeable) NumPy array using the tensor. You may want to copy the array to protect its data or make it writeable before converting it to a tensor. This type of warning will be suppressed for the rest of this program. (Triggered internally at  /pytorch/torch/csrc/utils/tensor_numpy.cpp:143.)\n",
            "  return torch.from_numpy(parsed.astype(m[2], copy=False)).view(*s)\n"
          ],
          "name": "stderr"
        }
      ]
    },
    {
      "cell_type": "code",
      "metadata": {
        "colab": {
          "base_uri": "https://localhost:8080/"
        },
        "id": "3gZeMlyYIMDi",
        "outputId": "122a62d4-d448-4824-bf8e-f59dc5eb9164"
      },
      "source": [
        "class Net(nn.Module):\n",
        "    def __init__(self):\n",
        "        super(Net, self).__init__()\n",
        "        self.backbone = nn.Sequential(\n",
        "          nn.Conv2d( 1, 8, 5, padding=2,stride=2), nn.ReLU(), #14\n",
        "          nn.Conv2d( 8,16, 3, padding=1,stride=2), nn.ReLU(), # 7\n",
        "          nn.Conv2d(16,32, 3, padding=1,stride=2), nn.ReLU(), # 4\n",
        "          nn.Conv2d(32,32, 3, padding=1,stride=2), nn.ReLU(), # 2\n",
        "          nn.AdaptiveAvgPool2d(1), #quedarnos solo con los channels (cargarnos las dimensiones espaciales)\n",
        "          nn.Flatten(),\n",
        "          )\n",
        "        \n",
        "        self.classifier = nn.Linear(32,10) #línea añadida\n",
        "        \n",
        "    def forward(self, x):\n",
        "        features = self.backbone(x)\n",
        "        out = self.classifier(features) #línea añadida\n",
        "        return out #línea añadida\n",
        "\n",
        "summary(Net(),(1,64,64),device=\"cpu\")"
      ],
      "execution_count": 4,
      "outputs": [
        {
          "output_type": "stream",
          "text": [
            "----------------------------------------------------------------\n",
            "        Layer (type)               Output Shape         Param #\n",
            "================================================================\n",
            "            Conv2d-1            [-1, 8, 32, 32]             208\n",
            "              ReLU-2            [-1, 8, 32, 32]               0\n",
            "            Conv2d-3           [-1, 16, 16, 16]           1,168\n",
            "              ReLU-4           [-1, 16, 16, 16]               0\n",
            "            Conv2d-5             [-1, 32, 8, 8]           4,640\n",
            "              ReLU-6             [-1, 32, 8, 8]               0\n",
            "            Conv2d-7             [-1, 32, 4, 4]           9,248\n",
            "              ReLU-8             [-1, 32, 4, 4]               0\n",
            " AdaptiveAvgPool2d-9             [-1, 32, 1, 1]               0\n",
            "          Flatten-10                   [-1, 32]               0\n",
            "           Linear-11                   [-1, 10]             330\n",
            "================================================================\n",
            "Total params: 15,594\n",
            "Trainable params: 15,594\n",
            "Non-trainable params: 0\n",
            "----------------------------------------------------------------\n",
            "Input size (MB): 0.02\n",
            "Forward/backward pass size (MB): 0.23\n",
            "Params size (MB): 0.06\n",
            "Estimated Total Size (MB): 0.30\n",
            "----------------------------------------------------------------\n"
          ],
          "name": "stdout"
        }
      ]
    },
    {
      "cell_type": "code",
      "metadata": {
        "id": "YTH0pkO-Iaej"
      },
      "source": [
        "def train(model, device, train_loader, optimizer, epoch, scheduler=None):\n",
        "    model.train()\n",
        "    loss_values = []\n",
        "    for batch_idx, sample_batched in enumerate(train_loader):\n",
        "        data = sample_batched['image'] \n",
        "        target = sample_batched['label'] #línea añadida\n",
        "        data, target = data.to(device), target.to(device)\n",
        "        optimizer.zero_grad()\n",
        "        output = model(data)\n",
        "        loss = F.cross_entropy(output, target) #línea añadida\n",
        "        loss_values.append(loss)\n",
        "        loss.backward()\n",
        "        optimizer.step()\n",
        "        if batch_idx % log_interval == 0:\n",
        "            print('Train Epoch: {} [{}/{} ({:.0f}%)]\\tLoss: {:.6f}'.format(\n",
        "                epoch, batch_idx * len(data), len(train_loader.dataset),\n",
        "                100. * batch_idx / len(train_loader), loss.item()))\n",
        "        if scheduler is not None: #siempre después del omtimizer.step()\n",
        "            scheduler.step()\n",
        "    return loss_values"
      ],
      "execution_count": 5,
      "outputs": []
    },
    {
      "cell_type": "code",
      "metadata": {
        "colab": {
          "base_uri": "https://localhost:8080/"
        },
        "id": "VFvH2OiOIiCY",
        "outputId": "ed24bd10-178d-45bc-c81b-90b85fffacb0"
      },
      "source": [
        "model = Net().to(device)\n",
        "\n",
        "lr = 1e-2\n",
        "optimizer = optim.Adam(model.parameters(), lr=lr)\n",
        "\n",
        "epochs = 5\n",
        "scheduler = optim.lr_scheduler.OneCycleLR(optimizer, lr, epochs=epochs, steps_per_epoch=len(train_loader)) #modifica el learning rate a lo largo del training de una forma u otra\n",
        "\n",
        "log_interval = 100 # how many batches to wait before logging training status\n",
        "\n",
        "classification_loss_history = [] #línea añadida\n",
        "for epoch in range(1, epochs + 1):\n",
        "    loss_values = train(model, device, train_loader, optimizer, epoch, scheduler)\n",
        "    classification_loss_history += loss_values #línea añadida"
      ],
      "execution_count": 6,
      "outputs": [
        {
          "output_type": "stream",
          "text": [
            "Train Epoch: 1 [0/60000 (0%)]\tLoss: 2.317518\n",
            "Train Epoch: 1 [6400/60000 (11%)]\tLoss: 2.275693\n",
            "Train Epoch: 1 [12800/60000 (21%)]\tLoss: 2.010767\n",
            "Train Epoch: 1 [19200/60000 (32%)]\tLoss: 1.634559\n",
            "Train Epoch: 1 [25600/60000 (43%)]\tLoss: 1.259858\n",
            "Train Epoch: 1 [32000/60000 (53%)]\tLoss: 1.094792\n",
            "Train Epoch: 1 [38400/60000 (64%)]\tLoss: 1.128453\n",
            "Train Epoch: 1 [44800/60000 (75%)]\tLoss: 0.840999\n",
            "Train Epoch: 1 [51200/60000 (85%)]\tLoss: 1.027605\n",
            "Train Epoch: 1 [57600/60000 (96%)]\tLoss: 1.005924\n",
            "Train Epoch: 2 [0/60000 (0%)]\tLoss: 0.820128\n",
            "Train Epoch: 2 [6400/60000 (11%)]\tLoss: 0.757297\n",
            "Train Epoch: 2 [12800/60000 (21%)]\tLoss: 0.680589\n",
            "Train Epoch: 2 [19200/60000 (32%)]\tLoss: 0.823565\n",
            "Train Epoch: 2 [25600/60000 (43%)]\tLoss: 0.813578\n",
            "Train Epoch: 2 [32000/60000 (53%)]\tLoss: 0.698050\n",
            "Train Epoch: 2 [38400/60000 (64%)]\tLoss: 0.977672\n",
            "Train Epoch: 2 [44800/60000 (75%)]\tLoss: 0.897382\n",
            "Train Epoch: 2 [51200/60000 (85%)]\tLoss: 0.568781\n",
            "Train Epoch: 2 [57600/60000 (96%)]\tLoss: 0.697230\n",
            "Train Epoch: 3 [0/60000 (0%)]\tLoss: 0.826773\n",
            "Train Epoch: 3 [6400/60000 (11%)]\tLoss: 0.474567\n",
            "Train Epoch: 3 [12800/60000 (21%)]\tLoss: 0.630904\n",
            "Train Epoch: 3 [19200/60000 (32%)]\tLoss: 0.692037\n",
            "Train Epoch: 3 [25600/60000 (43%)]\tLoss: 0.641662\n",
            "Train Epoch: 3 [32000/60000 (53%)]\tLoss: 0.933667\n",
            "Train Epoch: 3 [38400/60000 (64%)]\tLoss: 0.602840\n",
            "Train Epoch: 3 [44800/60000 (75%)]\tLoss: 0.844944\n",
            "Train Epoch: 3 [51200/60000 (85%)]\tLoss: 0.583149\n",
            "Train Epoch: 3 [57600/60000 (96%)]\tLoss: 0.692340\n",
            "Train Epoch: 4 [0/60000 (0%)]\tLoss: 0.304759\n",
            "Train Epoch: 4 [6400/60000 (11%)]\tLoss: 0.488827\n",
            "Train Epoch: 4 [12800/60000 (21%)]\tLoss: 0.476375\n",
            "Train Epoch: 4 [19200/60000 (32%)]\tLoss: 0.504188\n",
            "Train Epoch: 4 [25600/60000 (43%)]\tLoss: 0.727035\n",
            "Train Epoch: 4 [32000/60000 (53%)]\tLoss: 0.438923\n",
            "Train Epoch: 4 [38400/60000 (64%)]\tLoss: 0.522385\n",
            "Train Epoch: 4 [44800/60000 (75%)]\tLoss: 0.600444\n",
            "Train Epoch: 4 [51200/60000 (85%)]\tLoss: 0.598730\n",
            "Train Epoch: 4 [57600/60000 (96%)]\tLoss: 0.606544\n",
            "Train Epoch: 5 [0/60000 (0%)]\tLoss: 0.473182\n",
            "Train Epoch: 5 [6400/60000 (11%)]\tLoss: 0.437747\n",
            "Train Epoch: 5 [12800/60000 (21%)]\tLoss: 0.631424\n",
            "Train Epoch: 5 [19200/60000 (32%)]\tLoss: 0.623992\n",
            "Train Epoch: 5 [25600/60000 (43%)]\tLoss: 0.531479\n",
            "Train Epoch: 5 [32000/60000 (53%)]\tLoss: 0.425962\n",
            "Train Epoch: 5 [38400/60000 (64%)]\tLoss: 0.363558\n",
            "Train Epoch: 5 [44800/60000 (75%)]\tLoss: 0.360066\n",
            "Train Epoch: 5 [51200/60000 (85%)]\tLoss: 0.475369\n",
            "Train Epoch: 5 [57600/60000 (96%)]\tLoss: 0.425035\n"
          ],
          "name": "stdout"
        }
      ]
    },
    {
      "cell_type": "markdown",
      "metadata": {
        "id": "GRqm9oDM1TYl"
      },
      "source": [
        "# Exercise 2\n",
        "\n",
        "Plot the training loss curves of the regression model and the classification model in **the same figure**. We want to compare the two loss curves, so it is important to plot them in the same figure and to set up a legend for the plot. This figure is very important because it will give you a hint for the next exercise. "
      ]
    },
    {
      "cell_type": "code",
      "metadata": {
        "id": "87vOZaMkSCrs",
        "colab": {
          "base_uri": "https://localhost:8080/",
          "height": 265
        },
        "outputId": "49b81354-0835-4cb1-edee-e400ad044319"
      },
      "source": [
        "plt.plot(loss_history, label=\"L1 Loss\")\n",
        "plt.plot(classification_loss_history, label=\"Classification Loss\")\n",
        "plt.legend()\n",
        "plt.show()"
      ],
      "execution_count": 19,
      "outputs": [
        {
          "output_type": "display_data",
          "data": {
            "image/png": "[encoded data removed]",
            "text/plain": [
              "<Figure size 432x288 with 1 Axes>"
            ]
          },
          "metadata": {
            "tags": [],
            "needs_background": "light"
          }
        }
      ]
    },
    {
      "cell_type": "markdown",
      "metadata": {
        "id": "xuzop7NV18--"
      },
      "source": [
        "\n",
        "## HOMEWORK"
      ]
    },
    {
      "cell_type": "markdown",
      "metadata": {
        "id": "iGojc_20RiGL"
      },
      "source": [
        "**A)** With respect to exercise 2. Explain what u observe\n",
        "\n",
        "- Are both losses equally stable? \n",
        "- Which task is harder? Why?"
      ]
    },
    {
      "cell_type": "markdown",
      "metadata": {
        "id": "zk_2_8XYVAaD"
      },
      "source": [
        "Si una loss es más alta que otra, no significa que la tarea con la loss más alta sea más difícil. En este caso, una loss es cross entropy y otra loss es L1, por lo que son dos problemas distintos. La magnitud de la loss cambia con la fórmula con la que se calcule, por lo que no quiere decir que en este caso Classification sea más difícil."
      ]
    },
    {
      "cell_type": "markdown",
      "metadata": {
        "id": "9N-zhanZRdsE"
      },
      "source": [
        "**B)** Modify the regression model adding a classification output, so that it can jointly predict the bounding box of the object and also its class label. This implies you will need to modify: the model (it must have two separate outputs), the Dataset class (to produce the ground truth class label AND the bounding box coordinates), and your training method by adding a new loss that combines a regression loss and a classification loss. Think about how to combine these two losses in a single cost function to be optimized. \n",
        "\n",
        "- Hint: look at the figure of exercise (2). \n",
        "- Hint: You should make both losses equally important. \n",
        "- Hint: You will need to modify the evaluation function to take into account both correct classification and IoU."
      ]
    },
    {
      "cell_type": "code",
      "metadata": {
        "id": "WH7fuL3_4xEz"
      },
      "source": [
        "class FashionMNISTlocalizationDataset(Dataset):\n",
        "    \"\"\"MNIST localization toy dataset.\"\"\"\n",
        "\n",
        "    def __init__(self, imgsize=(64,64), train=True, transform=None):\n",
        "        \"\"\"\n",
        "        Args:\n",
        "            imgsize (tuple (int,int), optional) - the size of generated images,\n",
        "                both width and height must be > 48\n",
        "            train (bool, optional) – If True, creates dataset from MNIST training\n",
        "                samples, otherwise from test\n",
        "            transform (callable, optional): Optional transform to be applied\n",
        "                on a sample.\n",
        "        \"\"\"\n",
        "        assert len(imgsize)==2 and imgsize[0] > 48 and imgsize[1] > 48\n",
        "        self.imgsize = imgsize\n",
        "        self.transform = transform\n",
        "        self.fashionMnist = datasets.FashionMNIST('../data', train=train, download=True)\n",
        "\n",
        "    def __len__(self): #número de muestras que tiene nuestro dataset\n",
        "        return self.fashionMnist.data.shape[0]\n",
        "\n",
        "    def __getitem__(self, idx): #define el comportamiento de devolver una muestra de nuestro dataset\n",
        "        if torch.is_tensor(idx):\n",
        "            idx = idx.tolist()\n",
        "        # create a black image\n",
        "        image = torch.zeros(self.imgsize) #crear imagen negra de 64x64\n",
        "        image_width, image_height = self.imgsize\n",
        "                \n",
        "        # Get one Fashion-MNIST object, resize it randomly, and copy it into\n",
        "        # a random location of the black image\n",
        "        object_img = self.fashionMnist.data[idx,:,:] #seleccionar objeto que toque dado el índice\n",
        "\n",
        "        object_width  = object_height = np.random.randint(19,47)\n",
        "\n",
        "        object_img = resize(object_img, (object_height, object_width))\n",
        "\n",
        "        x_offset = np.random.randint(0,image_width-object_width)\n",
        "        y_offset = np.random.randint(0,image_height-object_height)\n",
        "\n",
        "        image[y_offset:y_offset+object_height, x_offset:x_offset+object_width] += object_img\n",
        "        \n",
        "        image = image.reshape((1,)+self.imgsize) # must be a tensor image of size (C, H, W)\n",
        "        \n",
        "        if self.transform: #convertir imagen en tensor\n",
        "            image = self.transform(image)\n",
        "\n",
        "        # normalize the target values (bounding box coordinates) so they are real numbers from 0. to 1.\n",
        "        bbox = np.array([x_offset / image_width, y_offset / image_height, \n",
        "                         object_width / image_width, object_height / image_height], dtype=np.float32)\n",
        "        label = self.fashionMnist.targets[idx] #línea añadida\n",
        "\n",
        "        sample = {'image': image, 'label': label, 'bbox':bbox} #línea añadida\n",
        "\n",
        "        return sample"
      ],
      "execution_count": 21,
      "outputs": []
    },
    {
      "cell_type": "code",
      "metadata": {
        "id": "4Wnb3mJ84ztf"
      },
      "source": [
        "transform=transforms.Compose([\n",
        "        transforms.Normalize((0.1307,), (0.3081,))\n",
        "        ])\n",
        "\n",
        "dataset1 = FashionMNISTlocalizationDataset(train=True, transform=transform) #train\n",
        "dataset2 = FashionMNISTlocalizationDataset(train=False, transform=transform) #validation\n",
        "\n",
        "train_kwargs = {'batch_size': 64}\n",
        "test_kwargs  = {'batch_size': 1000}\n",
        "\n",
        "if use_cuda:\n",
        "    cuda_kwargs = {'num_workers': 1,\n",
        "                   'pin_memory': True,\n",
        "                   'shuffle': True}\n",
        "    train_kwargs.update(cuda_kwargs)\n",
        "    test_kwargs.update(cuda_kwargs)\n",
        "\n",
        "train_loader = DataLoader(dataset1, **train_kwargs)\n",
        "test_loader = DataLoader(dataset2, **test_kwargs)"
      ],
      "execution_count": 22,
      "outputs": []
    },
    {
      "cell_type": "code",
      "metadata": {
        "colab": {
          "base_uri": "https://localhost:8080/"
        },
        "id": "CMIzSeHy41y-",
        "outputId": "113314d0-c583-499a-a28c-13dc9037288e"
      },
      "source": [
        "class Net(nn.Module):\n",
        "    def __init__(self):\n",
        "        super(Net, self).__init__()\n",
        "        self.backbone = nn.Sequential(\n",
        "          nn.Conv2d( 1, 8, 5, padding=2,stride=2), nn.ReLU(), #14\n",
        "          nn.Conv2d( 8,16, 3, padding=1,stride=2), nn.ReLU(), # 7\n",
        "          nn.Conv2d(16,32, 3, padding=1,stride=2), nn.ReLU(), # 4\n",
        "          nn.Conv2d(32,32, 3, padding=1,stride=2), nn.ReLU(), # 2\n",
        "          nn.AdaptiveAvgPool2d(1), #quedarnos solo con los channels (cargarnos las dimensiones espaciales)\n",
        "          nn.Flatten(),\n",
        "          )\n",
        "        \n",
        "        self.bbox = nn.Sequential(nn.Linear(32,4), nn.Sigmoid()) #línea añadida\n",
        "        self.classifier = nn.Linear(32,10) #línea añadida\n",
        "        \n",
        "    def forward(self, x):\n",
        "        features = self.backbone(x)\n",
        "        bbox = self.bbox(features) #línea añadida\n",
        "        out = self.classifier(features) #línea añadida\n",
        "        return out, bbox #línea añadida\n",
        "\n",
        "summary(Net(),(1,64,64),device=\"cpu\")"
      ],
      "execution_count": 23,
      "outputs": [
        {
          "output_type": "stream",
          "text": [
            "----------------------------------------------------------------\n",
            "        Layer (type)               Output Shape         Param #\n",
            "================================================================\n",
            "            Conv2d-1            [-1, 8, 32, 32]             208\n",
            "              ReLU-2            [-1, 8, 32, 32]               0\n",
            "            Conv2d-3           [-1, 16, 16, 16]           1,168\n",
            "              ReLU-4           [-1, 16, 16, 16]               0\n",
            "            Conv2d-5             [-1, 32, 8, 8]           4,640\n",
            "              ReLU-6             [-1, 32, 8, 8]               0\n",
            "            Conv2d-7             [-1, 32, 4, 4]           9,248\n",
            "              ReLU-8             [-1, 32, 4, 4]               0\n",
            " AdaptiveAvgPool2d-9             [-1, 32, 1, 1]               0\n",
            "          Flatten-10                   [-1, 32]               0\n",
            "           Linear-11                    [-1, 4]             132\n",
            "          Sigmoid-12                    [-1, 4]               0\n",
            "           Linear-13                   [-1, 10]             330\n",
            "================================================================\n",
            "Total params: 15,726\n",
            "Trainable params: 15,726\n",
            "Non-trainable params: 0\n",
            "----------------------------------------------------------------\n",
            "Input size (MB): 0.02\n",
            "Forward/backward pass size (MB): 0.23\n",
            "Params size (MB): 0.06\n",
            "Estimated Total Size (MB): 0.30\n",
            "----------------------------------------------------------------\n"
          ],
          "name": "stdout"
        }
      ]
    },
    {
      "cell_type": "code",
      "metadata": {
        "id": "TZdQMyZ8443m"
      },
      "source": [
        "def train(model, device, train_loader, optimizer, epoch, scheduler=None):\n",
        "    model.train()\n",
        "    loss_values = []\n",
        "    for batch_idx, sample_batched in enumerate(train_loader):\n",
        "        data = sample_batched['image'] \n",
        "        target1 = sample_batched['label'] #línea añadida\n",
        "        target2 = sample_batched['bbox'] #línea añadida\n",
        "        data, target1, target2 = data.to(device), target1.to(device), target2.to(device)\n",
        "        optimizer.zero_grad()\n",
        "        output1, output2 = model(data)\n",
        "        loss1 = F.cross_entropy(output1, target1) #línea añadida\n",
        "        loss2 = F.l1_loss(output2, target2) #línea añadida\n",
        "        loss = loss1*0.25 + loss2 #le doy solo un 25% de peso a la loss1 (classification)\n",
        "        loss_values.append(loss)\n",
        "        loss.backward()\n",
        "        optimizer.step()\n",
        "        if batch_idx % log_interval == 0:\n",
        "            print('Train Epoch: {} [{}/{} ({:.0f}%)]\\tLoss: {:.6f}'.format(\n",
        "                epoch, batch_idx * len(data), len(train_loader.dataset),\n",
        "                100. * batch_idx / len(train_loader), loss.item()))\n",
        "        if scheduler is not None: #siempre después del omtimizer.step()\n",
        "            scheduler.step()\n",
        "    return loss_values"
      ],
      "execution_count": 24,
      "outputs": []
    },
    {
      "cell_type": "code",
      "metadata": {
        "colab": {
          "base_uri": "https://localhost:8080/"
        },
        "id": "nBLKKqCm47Zc",
        "outputId": "f62fe1aa-74ae-45db-8b8d-44e9097a836a"
      },
      "source": [
        "model = Net().to(device)\n",
        "\n",
        "lr = 1e-2\n",
        "optimizer = optim.Adam(model.parameters(), lr=lr)\n",
        "\n",
        "epochs = 5\n",
        "scheduler = optim.lr_scheduler.OneCycleLR(optimizer, lr, epochs=epochs, steps_per_epoch=len(train_loader)) #modifica el learning rate a lo largo del training de una forma u otra\n",
        "\n",
        "log_interval = 100 # how many batches to wait before logging training status\n",
        "\n",
        "loss_history_both = [] #línea añadida\n",
        "\n",
        "for epoch in range(1, epochs + 1):\n",
        "    loss_values = train(model, device, train_loader, optimizer, epoch, scheduler)\n",
        "    loss_history_both += loss_values #línea añadida"
      ],
      "execution_count": 25,
      "outputs": [
        {
          "output_type": "stream",
          "text": [
            "Train Epoch: 1 [0/60000 (0%)]\tLoss: 0.758611\n",
            "Train Epoch: 1 [6400/60000 (11%)]\tLoss: 0.658845\n",
            "Train Epoch: 1 [12800/60000 (21%)]\tLoss: 0.655160\n",
            "Train Epoch: 1 [19200/60000 (32%)]\tLoss: 0.510657\n",
            "Train Epoch: 1 [25600/60000 (43%)]\tLoss: 0.457537\n",
            "Train Epoch: 1 [32000/60000 (53%)]\tLoss: 0.374432\n",
            "Train Epoch: 1 [38400/60000 (64%)]\tLoss: 0.381482\n",
            "Train Epoch: 1 [44800/60000 (75%)]\tLoss: 0.337527\n",
            "Train Epoch: 1 [51200/60000 (85%)]\tLoss: 0.241333\n",
            "Train Epoch: 1 [57600/60000 (96%)]\tLoss: 0.320213\n",
            "Train Epoch: 2 [0/60000 (0%)]\tLoss: 0.333306\n",
            "Train Epoch: 2 [6400/60000 (11%)]\tLoss: 0.266940\n",
            "Train Epoch: 2 [12800/60000 (21%)]\tLoss: 0.240160\n",
            "Train Epoch: 2 [19200/60000 (32%)]\tLoss: 0.256804\n",
            "Train Epoch: 2 [25600/60000 (43%)]\tLoss: 0.314778\n",
            "Train Epoch: 2 [32000/60000 (53%)]\tLoss: 0.291420\n",
            "Train Epoch: 2 [38400/60000 (64%)]\tLoss: 0.258256\n",
            "Train Epoch: 2 [44800/60000 (75%)]\tLoss: 0.239561\n",
            "Train Epoch: 2 [51200/60000 (85%)]\tLoss: 0.229442\n",
            "Train Epoch: 2 [57600/60000 (96%)]\tLoss: 0.262705\n",
            "Train Epoch: 3 [0/60000 (0%)]\tLoss: 0.194364\n",
            "Train Epoch: 3 [6400/60000 (11%)]\tLoss: 0.144382\n",
            "Train Epoch: 3 [12800/60000 (21%)]\tLoss: 0.251886\n",
            "Train Epoch: 3 [19200/60000 (32%)]\tLoss: 0.206855\n",
            "Train Epoch: 3 [25600/60000 (43%)]\tLoss: 0.186934\n",
            "Train Epoch: 3 [32000/60000 (53%)]\tLoss: 0.217258\n",
            "Train Epoch: 3 [38400/60000 (64%)]\tLoss: 0.188781\n",
            "Train Epoch: 3 [44800/60000 (75%)]\tLoss: 0.189739\n",
            "Train Epoch: 3 [51200/60000 (85%)]\tLoss: 0.152674\n",
            "Train Epoch: 3 [57600/60000 (96%)]\tLoss: 0.145099\n",
            "Train Epoch: 4 [0/60000 (0%)]\tLoss: 0.200218\n",
            "Train Epoch: 4 [6400/60000 (11%)]\tLoss: 0.227588\n",
            "Train Epoch: 4 [12800/60000 (21%)]\tLoss: 0.197419\n",
            "Train Epoch: 4 [19200/60000 (32%)]\tLoss: 0.250715\n",
            "Train Epoch: 4 [25600/60000 (43%)]\tLoss: 0.171643\n",
            "Train Epoch: 4 [32000/60000 (53%)]\tLoss: 0.153048\n",
            "Train Epoch: 4 [38400/60000 (64%)]\tLoss: 0.158069\n",
            "Train Epoch: 4 [44800/60000 (75%)]\tLoss: 0.146043\n",
            "Train Epoch: 4 [51200/60000 (85%)]\tLoss: 0.122572\n",
            "Train Epoch: 4 [57600/60000 (96%)]\tLoss: 0.145011\n",
            "Train Epoch: 5 [0/60000 (0%)]\tLoss: 0.137362\n",
            "Train Epoch: 5 [6400/60000 (11%)]\tLoss: 0.171306\n",
            "Train Epoch: 5 [12800/60000 (21%)]\tLoss: 0.159808\n",
            "Train Epoch: 5 [19200/60000 (32%)]\tLoss: 0.132090\n",
            "Train Epoch: 5 [25600/60000 (43%)]\tLoss: 0.165017\n",
            "Train Epoch: 5 [32000/60000 (53%)]\tLoss: 0.133952\n",
            "Train Epoch: 5 [38400/60000 (64%)]\tLoss: 0.147469\n",
            "Train Epoch: 5 [44800/60000 (75%)]\tLoss: 0.190839\n",
            "Train Epoch: 5 [51200/60000 (85%)]\tLoss: 0.103648\n",
            "Train Epoch: 5 [57600/60000 (96%)]\tLoss: 0.174803\n"
          ],
          "name": "stdout"
        }
      ]
    },
    {
      "cell_type": "code",
      "metadata": {
        "colab": {
          "base_uri": "https://localhost:8080/",
          "height": 265
        },
        "id": "hS8sv9h8_ain",
        "outputId": "3c81f305-b49d-405f-f32b-4469cf9fee54"
      },
      "source": [
        "plt.plot(loss_history, label=\"L1 Loss\")\n",
        "plt.plot(classification_loss_history, label=\"Classification Loss\")\n",
        "plt.plot(loss_history_both, label=\"Mixed Loss\")\n",
        "\n",
        "plt.legend()\n",
        "plt.show()"
      ],
      "execution_count": 26,
      "outputs": [
        {
          "output_type": "display_data",
          "data": {
            "image/png": "[encoded data removed]",
            "text/plain": [
              "<Figure size 432x288 with 1 Axes>"
            ]
          },
          "metadata": {
            "tags": [],
            "needs_background": "light"
          }
        }
      ]
    },
    {
      "cell_type": "markdown",
      "metadata": {
        "id": "UzTbQjW0ifgy"
      },
      "source": [
        "**C)** Evaluate the trained model for the joint classification and localization task. You must modify the test method to count a given prediction as correct if it correctly localizes the object AND predicts the correct label. Show some mistakes that the model makes and comment on them."
      ]
    },
    {
      "cell_type": "code",
      "metadata": {
        "id": "Ma0cBDAKihOz",
        "colab": {
          "base_uri": "https://localhost:8080/",
          "height": 327
        },
        "outputId": "7ed39fa3-5b20-4584-cd7c-660799b84469"
      },
      "source": [
        "def test(model, device, test_loader):\n",
        "    model.eval()\n",
        "    test_loss_gen = 0\n",
        "    test_loss1 = 0\n",
        "    test_loss2 = 0\n",
        "    correct = 0\n",
        "    with torch.no_grad():\n",
        "        for batch_idx, sample_batched in enumerate(test_loader):\n",
        "            data = sample_batched['image']\n",
        "            target1 = sample_batched['label']\n",
        "            target2 = sample_batched['bbox']\n",
        "            data, target1, target2 = data.to(device), target1.to(device), target2.to(device)\n",
        "            output1, output2 = model(data)\n",
        "            test_loss1 += F.cross_entropy(output1, target1).item()\n",
        "            test_loss2 += F.l1_loss(output2, target2).item()\n",
        "\n",
        "            test_loss_gen += (test_loss1*0,25 + test_loss2)\n",
        "          \n",
        "            # count the number of prediction with an IoU above a certain threshold\n",
        "            correct += np.sum(IoU(output.cpu().numpy(), target.cpu().numpy(), iou_threshold = 0.7))\n",
        "\n",
        "    test_loss_gen /= (len(test_loader.dataset)/test_loader.batch_size)\n",
        "\n",
        "    print('\\nTest set: Average loss: {:.4f}, Accuracy: {}/{} ({:.0f}%)\\n'.format(\n",
        "        test_loss_gen, correct, len(test_loader.dataset),\n",
        "        100. * correct / len(test_loader.dataset)))\n",
        "    \n",
        "\n",
        "# call the test method\n",
        "test(model, device, test_loader)"
      ],
      "execution_count": 32,
      "outputs": [
        {
          "output_type": "error",
          "ename": "TypeError",
          "evalue": "ignored",
          "traceback": [
            "\u001b[0;31m---------------------------------------------------------------------------\u001b[0m",
            "\u001b[0;31mTypeError\u001b[0m                                 Traceback (most recent call last)",
            "\u001b[0;32m<ipython-input-32-09e3a6ea5d1d>\u001b[0m in \u001b[0;36m<module>\u001b[0;34m()\u001b[0m\n\u001b[1;32m     28\u001b[0m \u001b[0;34m\u001b[0m\u001b[0m\n\u001b[1;32m     29\u001b[0m \u001b[0;31m# call the test method\u001b[0m\u001b[0;34m\u001b[0m\u001b[0;34m\u001b[0m\u001b[0;34m\u001b[0m\u001b[0m\n\u001b[0;32m---> 30\u001b[0;31m \u001b[0mtest\u001b[0m\u001b[0;34m(\u001b[0m\u001b[0mmodel\u001b[0m\u001b[0;34m,\u001b[0m \u001b[0mdevice\u001b[0m\u001b[0;34m,\u001b[0m \u001b[0mtest_loader\u001b[0m\u001b[0;34m)\u001b[0m\u001b[0;34m\u001b[0m\u001b[0;34m\u001b[0m\u001b[0m\n\u001b[0m",
            "\u001b[0;32m<ipython-input-32-09e3a6ea5d1d>\u001b[0m in \u001b[0;36mtest\u001b[0;34m(model, device, test_loader)\u001b[0m\n\u001b[1;32m     15\u001b[0m             \u001b[0mtest_loss2\u001b[0m \u001b[0;34m+=\u001b[0m \u001b[0mF\u001b[0m\u001b[0;34m.\u001b[0m\u001b[0ml1_loss\u001b[0m\u001b[0;34m(\u001b[0m\u001b[0moutput2\u001b[0m\u001b[0;34m,\u001b[0m \u001b[0mtarget2\u001b[0m\u001b[0;34m)\u001b[0m\u001b[0;34m.\u001b[0m\u001b[0mitem\u001b[0m\u001b[0;34m(\u001b[0m\u001b[0;34m)\u001b[0m\u001b[0;34m\u001b[0m\u001b[0;34m\u001b[0m\u001b[0m\n\u001b[1;32m     16\u001b[0m \u001b[0;34m\u001b[0m\u001b[0m\n\u001b[0;32m---> 17\u001b[0;31m             \u001b[0mtest_loss_gen\u001b[0m \u001b[0;34m+=\u001b[0m \u001b[0;34m(\u001b[0m\u001b[0mtest_loss1\u001b[0m\u001b[0;34m*\u001b[0m\u001b[0;36m0\u001b[0m\u001b[0;34m,\u001b[0m\u001b[0;36m25\u001b[0m \u001b[0;34m+\u001b[0m \u001b[0mtest_loss2\u001b[0m\u001b[0;34m)\u001b[0m\u001b[0;34m\u001b[0m\u001b[0;34m\u001b[0m\u001b[0m\n\u001b[0m\u001b[1;32m     18\u001b[0m \u001b[0;34m\u001b[0m\u001b[0m\n\u001b[1;32m     19\u001b[0m             \u001b[0;31m# count the number of prediction with an IoU above a certain threshold\u001b[0m\u001b[0;34m\u001b[0m\u001b[0;34m\u001b[0m\u001b[0;34m\u001b[0m\u001b[0m\n",
            "\u001b[0;31mTypeError\u001b[0m: unsupported operand type(s) for +=: 'int' and 'tuple'"
          ]
        }
      ]
    },
    {
      "cell_type": "markdown",
      "metadata": {
        "id": "lWI7d8VsRs-e"
      },
      "source": [
        "**D)** Modify the model so it can also detect if an input image does not contain any object, show some qualitative results and comment on them. \n",
        "\n",
        "- Hint:You will need to modify the dataset class to generate images without objects and its corresponding label (0). This implies shifting all labels by 1.\n",
        "- Hint: You will need to modify the architecture since we now have 11 outputs (10 classes and a no-object class)\n",
        "- Hint: You will need to modify the training function to set to regression loss to 0 if the GT class is a no-object class\n",
        "- Hint: You will need to modify the evaluation function to skip the IoU check if the the predicted class is a no-object class"
      ]
    },
    {
      "cell_type": "code",
      "metadata": {
        "id": "kvhj73UX18--"
      },
      "source": [
        "# Add your code here"
      ],
      "execution_count": null,
      "outputs": []
    }
  ]
}