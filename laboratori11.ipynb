{
  "nbformat": 4,
  "nbformat_minor": 0,
  "metadata": {
    "kernelspec": {
      "display_name": "Python 3",
      "language": "python",
      "name": "python3"
    },
    "language_info": {
      "codemirror_mode": {
        "name": "ipython",
        "version": 3
      },
      "file_extension": ".py",
      "mimetype": "text/x-python",
      "name": "python",
      "nbconvert_exporter": "python",
      "pygments_lexer": "ipython3",
      "version": "3.6.12"
    },
    "colab": {
      "name": "laboratori11",
      "provenance": [],
      "collapsed_sections": []
    }
  },
  "cells": [
    {
      "cell_type": "code",
      "metadata": {
        "id": "HIqNcYqkUBTB"
      },
      "source": [
        "%matplotlib inline"
      ],
      "execution_count": null,
      "outputs": []
    },
    {
      "cell_type": "markdown",
      "metadata": {
        "id": "d5yfF2MJUBTH"
      },
      "source": [
        "\n",
        "NLP From Scratch: Translation with a Sequence to Sequence Network and Attention\n",
        "*******************************************************************************\n",
        "**Author**: `Sean Robertson <https://github.com/spro/practical-pytorch>`_\n",
        "\n",
        "In this project we will be teaching a neural network to translate from\n",
        "French to English.\n",
        "\n",
        "This is made possible by the simple but powerful idea of the `sequence\n",
        "to sequence network <https://arxiv.org/abs/1409.3215>`__, in which two\n",
        "recurrent neural networks work together to transform one sequence to\n",
        "another. An encoder network condenses an input sequence into a vector,\n",
        "and a decoder network unfolds that vector into a new sequence.\n",
        "\n",
        "![image.png](data:image/png;base64,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)\n",
        "\n",
        "To improve upon this model we'll use an `attention\n",
        "mechanism <https://arxiv.org/abs/1409.0473>`__, which lets the decoder\n",
        "learn to focus over a specific range of the input sequence.\n",
        "\n"
      ]
    },
    {
      "cell_type": "code",
      "metadata": {
        "id": "QJeKlbqsUBTI"
      },
      "source": [
        "from __future__ import unicode_literals, print_function, division\n",
        "from io import open\n",
        "import unicodedata\n",
        "import string\n",
        "import re\n",
        "import random\n",
        "\n",
        "import torch\n",
        "import torch.nn as nn\n",
        "from torch import optim\n",
        "import torch.nn.functional as F\n",
        "\n",
        "device = torch.device(\"cuda\" if torch.cuda.is_available() else \"cpu\")"
      ],
      "execution_count": null,
      "outputs": []
    },
    {
      "cell_type": "markdown",
      "metadata": {
        "id": "mPBnJcLtUBTJ"
      },
      "source": [
        "Loading data files\n",
        "==================\n",
        "\n",
        "The data for this project is a set of many thousands of English to\n",
        "French translation pairs.\n",
        "\n",
        "\n",
        "The file is a tab separated list of translation pairs:\n",
        "\n",
        "    I am cold.    J'ai froid.\n",
        "\n"
      ]
    },
    {
      "cell_type": "code",
      "metadata": {
        "id": "YROiTYe0UUbU",
        "colab": {
          "base_uri": "https://localhost:8080/"
        },
        "outputId": "dd6388ca-8429-487a-841d-b5aec4b5c734"
      },
      "source": [
        "!wget \"https://download.pytorch.org/tutorial/data.zip\"\n",
        "!unzip \"data.zip\""
      ],
      "execution_count": null,
      "outputs": [
        {
          "output_type": "stream",
          "text": [
            "--2021-05-25 13:48:10--  https://download.pytorch.org/tutorial/data.zip\n",
            "Resolving download.pytorch.org (download.pytorch.org)... 13.226.50.77, 13.226.50.98, 13.226.50.63, ...\n",
            "Connecting to download.pytorch.org (download.pytorch.org)|13.226.50.77|:443... connected.\n",
            "HTTP request sent, awaiting response... 200 OK\n",
            "Length: 2882130 (2.7M) [application/zip]\n",
            "Saving to: ‘data.zip’\n",
            "\n",
            "data.zip            100%[===================>]   2.75M  12.9MB/s    in 0.2s    \n",
            "\n",
            "2021-05-25 13:48:11 (12.9 MB/s) - ‘data.zip’ saved [2882130/2882130]\n",
            "\n",
            "Archive:  data.zip\n",
            "   creating: data/\n",
            "  inflating: data/eng-fra.txt        \n",
            "   creating: data/names/\n",
            "  inflating: data/names/Arabic.txt   \n",
            "  inflating: data/names/Chinese.txt  \n",
            "  inflating: data/names/Czech.txt    \n",
            "  inflating: data/names/Dutch.txt    \n",
            "  inflating: data/names/English.txt  \n",
            "  inflating: data/names/French.txt   \n",
            "  inflating: data/names/German.txt   \n",
            "  inflating: data/names/Greek.txt    \n",
            "  inflating: data/names/Irish.txt    \n",
            "  inflating: data/names/Italian.txt  \n",
            "  inflating: data/names/Japanese.txt  \n",
            "  inflating: data/names/Korean.txt   \n",
            "  inflating: data/names/Polish.txt   \n",
            "  inflating: data/names/Portuguese.txt  \n",
            "  inflating: data/names/Russian.txt  \n",
            "  inflating: data/names/Scottish.txt  \n",
            "  inflating: data/names/Spanish.txt  \n",
            "  inflating: data/names/Vietnamese.txt  \n"
          ],
          "name": "stdout"
        }
      ]
    },
    {
      "cell_type": "markdown",
      "metadata": {
        "id": "QmMJqeJIUBTK"
      },
      "source": [
        "We'll need a unique index per word to use as the inputs and targets of\n",
        "the networks later. To keep track of all this we will use a helper class\n",
        "called ``Lang`` which has word → index (``word2index``) and index → word\n",
        "(``index2word``) dictionaries, as well as a count of each word\n",
        "``word2count`` to use to later replace rare words.\n",
        "\n",
        "\n"
      ]
    },
    {
      "cell_type": "code",
      "metadata": {
        "id": "0EFsByVxUBTK"
      },
      "source": [
        "SOS_token = 0\n",
        "EOS_token = 1\n",
        "\n",
        "\n",
        "class Lang: #2 dictionaries and a count of each word\n",
        "    def __init__(self, name):\n",
        "        self.name = name\n",
        "        self.word2index = {}\n",
        "        self.word2count = {}\n",
        "        self.index2word = {0: \"SOS\", 1: \"EOS\"}\n",
        "        self.n_words = 2  # Count SOS and EOS\n",
        "\n",
        "    def addSentence(self, sentence):\n",
        "        for word in sentence.split(' '):\n",
        "            self.addWord(word)\n",
        "\n",
        "    def addWord(self, word):\n",
        "        if word not in self.word2index:\n",
        "            self.word2index[word] = self.n_words\n",
        "            self.word2count[word] = 1\n",
        "            self.index2word[self.n_words] = word\n",
        "            self.n_words += 1\n",
        "        else:\n",
        "            self.word2count[word] += 1"
      ],
      "execution_count": null,
      "outputs": []
    },
    {
      "cell_type": "markdown",
      "metadata": {
        "id": "50VUcn6BUBTL"
      },
      "source": [
        "The files are all in Unicode, to simplify we will turn Unicode\n",
        "characters to ASCII, make everything lowercase, and trim most\n",
        "punctuation.\n",
        "\n",
        "\n"
      ]
    },
    {
      "cell_type": "code",
      "metadata": {
        "id": "N3DDGW-RUBTL"
      },
      "source": [
        "# Turn a Unicode string to plain ASCII, thanks to\n",
        "# https://stackoverflow.com/a/518232/2809427\n",
        "def unicodeToAscii(s):\n",
        "    return ''.join(\n",
        "        c for c in unicodedata.normalize('NFD', s)\n",
        "        if unicodedata.category(c) != 'Mn'\n",
        "    )\n",
        "\n",
        "# Lowercase, trim, and remove non-letter characters\n",
        "\n",
        "\n",
        "def normalizeString(s):\n",
        "    s = unicodeToAscii(s.lower().strip())\n",
        "    s = re.sub(r\"([.!?])\", r\" \\1\", s)\n",
        "    s = re.sub(r\"[^a-zA-Z.!?]+\", r\" \", s)\n",
        "    return s"
      ],
      "execution_count": null,
      "outputs": []
    },
    {
      "cell_type": "markdown",
      "metadata": {
        "id": "6VjGjxMhUBTM"
      },
      "source": [
        "To read the data file we will split the file into lines, and then split\n",
        "lines into pairs. The files are all English → Other Language, so if we\n",
        "want to translate from Other Language → English I added the ``reverse``\n",
        "flag to reverse the pairs.\n",
        "\n",
        "\n"
      ]
    },
    {
      "cell_type": "code",
      "metadata": {
        "id": "kRKUrZi7UBTM"
      },
      "source": [
        "def readLangs(lang1, lang2, reverse=False):\n",
        "    print(\"Reading lines...\")\n",
        "\n",
        "    # Read the file and split into lines\n",
        "    lines = open('data/%s-%s.txt' % (lang1, lang2), encoding='utf-8').\\\n",
        "        read().strip().split('\\n')\n",
        "\n",
        "    # Split every line into pairs and normalize\n",
        "    pairs = [[normalizeString(s) for s in l.split('\\t')] for l in lines]\n",
        "\n",
        "    # Reverse pairs, make Lang instances\n",
        "    if reverse:\n",
        "        pairs = [list(reversed(p)) for p in pairs]\n",
        "        input_lang = Lang(lang2)\n",
        "        output_lang = Lang(lang1)\n",
        "    else:\n",
        "        input_lang = Lang(lang1)\n",
        "        output_lang = Lang(lang2)\n",
        "\n",
        "    return input_lang, output_lang, pairs"
      ],
      "execution_count": null,
      "outputs": []
    },
    {
      "cell_type": "markdown",
      "metadata": {
        "id": "rbi5SvMUUBTM"
      },
      "source": [
        "Since there are a *lot* of example sentences and we want to train\n",
        "something quickly, we'll trim the data set to only relatively short and\n",
        "simple sentences. Here the maximum length is 10 words (that includes\n",
        "ending punctuation) and we're filtering to sentences that translate to\n",
        "the form \"I am\" or \"He is\" etc. (accounting for apostrophes replaced\n",
        "earlier).\n",
        "\n",
        "\n"
      ]
    },
    {
      "cell_type": "code",
      "metadata": {
        "id": "CZfuwdp4UBTM"
      },
      "source": [
        "MAX_LENGTH = 10\n",
        "\n",
        "eng_prefixes = (\n",
        "    \"i am \", \"i m \",\n",
        "    \"he is\", \"he s \",\n",
        "    \"she is\", \"she s \",\n",
        "    \"you are\", \"you re \",\n",
        "    \"we are\", \"we re \",\n",
        "    \"they are\", \"they re \"\n",
        ")\n",
        "\n",
        "\n",
        "def filterPair(p):\n",
        "    return len(p[0].split(' ')) < MAX_LENGTH and \\\n",
        "        len(p[1].split(' ')) < MAX_LENGTH and \\\n",
        "        p[1].startswith(eng_prefixes)\n",
        "\n",
        "\n",
        "def filterPairs(pairs):\n",
        "    return [pair for pair in pairs if filterPair(pair)]"
      ],
      "execution_count": null,
      "outputs": []
    },
    {
      "cell_type": "markdown",
      "metadata": {
        "id": "OWKqAkQ0UBTN"
      },
      "source": [
        "The full process for preparing the data is:\n",
        "\n",
        "-  Read text file and split into lines, split lines into pairs\n",
        "-  Normalize text, filter by length and content\n",
        "-  Make word lists from sentences in pairs\n",
        "\n",
        "\n"
      ]
    },
    {
      "cell_type": "code",
      "metadata": {
        "id": "pMjC53hFUBTN",
        "colab": {
          "base_uri": "https://localhost:8080/"
        },
        "outputId": "2425678a-cbaf-4d6e-c900-731e20cbe636"
      },
      "source": [
        "def prepareData(lang1, lang2, reverse=False):\n",
        "    input_lang, output_lang, pairs = readLangs(lang1, lang2, reverse)\n",
        "    print(\"Read %s sentence pairs\" % len(pairs))\n",
        "    pairs = filterPairs(pairs)\n",
        "    print(\"Trimmed to %s sentence pairs\" % len(pairs))\n",
        "    print(\"Counting words...\")\n",
        "    for pair in pairs:\n",
        "        input_lang.addSentence(pair[0])\n",
        "        output_lang.addSentence(pair[1])\n",
        "    print(\"Counted words:\")\n",
        "    print(input_lang.name, input_lang.n_words)\n",
        "    print(output_lang.name, output_lang.n_words)\n",
        "    return input_lang, output_lang, pairs\n",
        "\n",
        "\n",
        "input_lang, output_lang, pairs = prepareData('eng', 'fra', True)\n",
        "print(random.choice(pairs))"
      ],
      "execution_count": null,
      "outputs": [
        {
          "output_type": "stream",
          "text": [
            "Reading lines...\n",
            "Read 135842 sentence pairs\n",
            "Trimmed to 10599 sentence pairs\n",
            "Counting words...\n",
            "Counted words:\n",
            "fra 4345\n",
            "eng 2803\n",
            "['vous etes egoistes .', 'you re selfish .']\n"
          ],
          "name": "stdout"
        }
      ]
    },
    {
      "cell_type": "markdown",
      "metadata": {
        "id": "Gjjdyw2EUBTN"
      },
      "source": [
        "The Seq2Seq Model\n",
        "=================\n",
        "\n",
        "\n",
        "A `Sequence to Sequence network <https://arxiv.org/abs/1409.3215>`__, or\n",
        "seq2seq network, or `Encoder Decoder\n",
        "network <https://arxiv.org/pdf/1406.1078v3.pdf>`__, is a model\n",
        "consisting of two RNNs called the encoder and decoder. The encoder reads\n",
        "an input sequence and outputs a single vector, and the decoder reads\n",
        "that vector to produce an output sequence.\n",
        "\n",
        "Unlike sequence prediction with a single RNN, where every input\n",
        "corresponds to an output, the seq2seq model frees us from sequence\n",
        "length and order, which makes it ideal for translation between two\n",
        "languages.\n",
        "\n",
        "With a seq2seq model the encoder creates a single vector which, in the\n",
        "ideal case, encodes the \"meaning\" of the input sequence into a single\n",
        "vector — a single point in some N dimensional space of sentences.\n",
        "\n",
        "\n"
      ]
    },
    {
      "cell_type": "markdown",
      "metadata": {
        "id": "OXDdx01BUBTO"
      },
      "source": [
        "The Encoder\n",
        "-----------\n",
        "\n",
        "The encoder of a seq2seq network is a RNN that outputs some value for\n",
        "every word from the input sentence. For every input word the encoder\n",
        "outputs a vector and a hidden state, and uses the hidden state for the\n",
        "next input word.\n",
        "\n",
        "![image.png](data:image/png;base64,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)\n",
        "\n",
        "\n"
      ]
    },
    {
      "cell_type": "code",
      "metadata": {
        "id": "Fs-6WOdsUBTO"
      },
      "source": [
        "class EncoderRNN(nn.Module):\n",
        "    def __init__(self, input_size, hidden_size):\n",
        "        super(EncoderRNN, self).__init__()\n",
        "        self.hidden_size = hidden_size\n",
        "\n",
        "        self.embedding = nn.Embedding(input_size, hidden_size)\n",
        "        self.gru = nn.GRU(hidden_size, hidden_size)\n",
        "\n",
        "    def forward(self, input, hidden):\n",
        "        embedded = self.embedding(input).view(1, 1, -1)\n",
        "        output = embedded\n",
        "        output, hidden = self.gru(output, hidden)\n",
        "        return output, hidden\n",
        "\n",
        "    def initHidden(self):\n",
        "        return torch.zeros(1, 1, self.hidden_size, device=device)"
      ],
      "execution_count": null,
      "outputs": []
    },
    {
      "cell_type": "markdown",
      "metadata": {
        "id": "VbeLc9icUBTO"
      },
      "source": [
        "The Decoder\n",
        "-----------\n",
        "\n",
        "The decoder is another RNN that takes the encoder output vector(s) and\n",
        "outputs a sequence of words to create the translation.\n",
        "\n",
        "\n"
      ]
    },
    {
      "cell_type": "markdown",
      "metadata": {
        "id": "Vhg1ked2UBTP"
      },
      "source": [
        "Simple Decoder\n",
        "\n",
        "In the simplest seq2seq decoder we use only last output of the encoder.\n",
        "This last output is sometimes called the *context vector* as it encodes\n",
        "context from the entire sequence. This context vector is used as the\n",
        "initial hidden state of the decoder.\n",
        "\n",
        "At every step of decoding, the decoder is given an input token and\n",
        "hidden state. The initial input token is the start-of-string ``<SOS>``\n",
        "token, and the first hidden state is the context vector (the encoder's\n",
        "last hidden state).\n",
        "\n",
        "![image.png](data:image/png;base64,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)\n",
        "\n",
        "\n",
        "\n"
      ]
    },
    {
      "cell_type": "code",
      "metadata": {
        "id": "M7Ww7COPUBTP"
      },
      "source": [
        "class DecoderRNN(nn.Module):\n",
        "    def __init__(self, hidden_size, output_size):\n",
        "        super(DecoderRNN, self).__init__()\n",
        "        self.hidden_size = hidden_size\n",
        "\n",
        "        self.embedding = nn.Embedding(output_size, hidden_size)\n",
        "        self.gru = nn.GRU(hidden_size, hidden_size)\n",
        "        self.out = nn.Linear(hidden_size, output_size)\n",
        "        self.softmax = nn.LogSoftmax(dim=1)\n",
        "\n",
        "    def forward(self, input, hidden):\n",
        "        output = self.embedding(input).view(1, 1, -1)\n",
        "        output = F.relu(output)\n",
        "        output, hidden = self.gru(output, hidden)\n",
        "        output = self.softmax(self.out(output[0]))\n",
        "        return output, hidden\n",
        "\n",
        "    def initHidden(self):\n",
        "        return torch.zeros(1, 1, self.hidden_size, device=device)"
      ],
      "execution_count": null,
      "outputs": []
    },
    {
      "cell_type": "markdown",
      "metadata": {
        "id": "poRvyVhYUBTQ"
      },
      "source": [
        "Training\n",
        "========\n",
        "\n",
        "Preparing Training Data\n",
        "-----------------------\n",
        "\n",
        "To train, for each pair we will need an input tensor (indexes of the\n",
        "words in the input sentence) and target tensor (indexes of the words in\n",
        "the target sentence). While creating these vectors we will append the\n",
        "EOS token to both sequences.\n",
        "\n",
        "\n"
      ]
    },
    {
      "cell_type": "code",
      "metadata": {
        "id": "eY7I8K8xUBTR"
      },
      "source": [
        "def indexesFromSentence(lang, sentence):\n",
        "    return [lang.word2index[word] for word in sentence.split(' ')]\n",
        "\n",
        "\n",
        "def tensorFromSentence(lang, sentence):\n",
        "    indexes = indexesFromSentence(lang, sentence)\n",
        "    indexes.append(EOS_token)\n",
        "    return torch.tensor(indexes, dtype=torch.long, device=device).view(-1, 1)\n",
        "\n",
        "\n",
        "def tensorsFromPair(pair):\n",
        "    input_tensor = tensorFromSentence(input_lang, pair[0])\n",
        "    target_tensor = tensorFromSentence(output_lang, pair[1])\n",
        "    return (input_tensor, target_tensor)"
      ],
      "execution_count": null,
      "outputs": []
    },
    {
      "cell_type": "markdown",
      "metadata": {
        "id": "HfRLc-33UBTR"
      },
      "source": [
        "Training the Model\n",
        "------------------\n",
        "\n",
        "To train we run the input sentence through the encoder, and keep track\n",
        "of every output and the latest hidden state. Then the decoder is given\n",
        "the ``<SOS>`` token as its first input, and the last hidden state of the\n",
        "encoder as its first hidden state.\n",
        "\n",
        "\"Teacher forcing\" is the concept of using the real target outputs as\n",
        "each next input, instead of using the decoder's guess as the next input.\n",
        "\n",
        "You can observe outputs of teacher-forced networks that read with\n",
        "coherent grammar but wander far from the correct translation -\n",
        "intuitively it has learned to represent the output grammar and can \"pick\n",
        "up\" the meaning once the teacher tells it the first few words, but it\n",
        "has not properly learned how to create the sentence from the translation\n",
        "in the first place."
      ]
    },
    {
      "cell_type": "markdown",
      "metadata": {
        "id": "TErfvqHtc8Oi"
      },
      "source": [
        "# Exercise 1\n",
        "\n",
        "Complete the training loop to implement teacher enforcing"
      ]
    },
    {
      "cell_type": "code",
      "metadata": {
        "id": "yPlU9Mi7UBTR"
      },
      "source": [
        "teacher_forcing_ratio = 0.5\n",
        "\n",
        "\n",
        "def train(input_tensor, target_tensor, encoder, decoder, encoder_optimizer, decoder_optimizer, criterion, max_length=MAX_LENGTH):\n",
        "    encoder_hidden = encoder.initHidden()\n",
        "\n",
        "    encoder_optimizer.zero_grad()\n",
        "    decoder_optimizer.zero_grad()\n",
        "\n",
        "    input_length = input_tensor.size(0)\n",
        "    target_length = target_tensor.size(0)\n",
        "\n",
        "    encoder_outputs = torch.zeros(max_length, encoder.hidden_size, device=device)\n",
        "\n",
        "    loss = 0\n",
        "\n",
        "    for ei in range(input_length):\n",
        "        encoder_output, encoder_hidden = encoder(\n",
        "            input_tensor[ei], encoder_hidden)\n",
        "\n",
        "    decoder_input = torch.tensor([[SOS_token]], device=device)\n",
        "\n",
        "    decoder_hidden = encoder_hidden\n",
        "\n",
        "    use_teacher_forcing = True if random.random() < teacher_forcing_ratio else False\n",
        "\n",
        "    if use_teacher_forcing:\n",
        "        # Teacher forcing: Feed the target as the next input\n",
        "        for di in range(target_length):\n",
        "            decoder_output, decoder_hidden = decoder(\n",
        "                decoder_input, decoder_hidden)\n",
        "            loss += criterion(decoder_output, target_tensor[di])\n",
        "            #YOUR CODE HERE\n",
        "            decoder_input = target_tensor[di] #teacher forcing\n",
        "\n",
        "\n",
        "    else:\n",
        "        # Without teacher forcing: use its own predictions as the next input\n",
        "        for di in range(target_length):\n",
        "            decoder_output, decoder_hidden = decoder(\n",
        "                decoder_input, decoder_hidden)\n",
        "            topv, topi = decoder_output.topk(1)\n",
        "            decoder_input = topi.squeeze().detach()  # detach from history as input\n",
        "\n",
        "            loss += criterion(decoder_output, target_tensor[di])\n",
        "            if decoder_input.item() == EOS_token:\n",
        "                break\n",
        "\n",
        "    loss.backward()\n",
        "\n",
        "    encoder_optimizer.step()\n",
        "    decoder_optimizer.step()\n",
        "\n",
        "    return loss.item() / target_length"
      ],
      "execution_count": null,
      "outputs": []
    },
    {
      "cell_type": "markdown",
      "metadata": {
        "id": "MaZ0u1hAUBTR"
      },
      "source": [
        "This is a helper function to print time elapsed and estimated time\n",
        "remaining given the current time and progress %.\n",
        "\n",
        "\n"
      ]
    },
    {
      "cell_type": "code",
      "metadata": {
        "id": "mcXOb1exUBTS"
      },
      "source": [
        "import time\n",
        "import math\n",
        "\n",
        "\n",
        "def asMinutes(s):\n",
        "    m = math.floor(s / 60)\n",
        "    s -= m * 60\n",
        "    return '%dm %ds' % (m, s)\n",
        "\n",
        "\n",
        "def timeSince(since, percent):\n",
        "    now = time.time()\n",
        "    s = now - since\n",
        "    es = s / (percent)\n",
        "    rs = es - s\n",
        "    return '%s (- %s)' % (asMinutes(s), asMinutes(rs))"
      ],
      "execution_count": null,
      "outputs": []
    },
    {
      "cell_type": "code",
      "metadata": {
        "id": "pnMBS76gUBTS"
      },
      "source": [
        "def trainIters(encoder, decoder, n_iters, print_every=1000, plot_every=100, learning_rate=0.01):\n",
        "    start = time.time()\n",
        "    plot_losses = []\n",
        "    print_loss_total = 0  # Reset every print_every\n",
        "    plot_loss_total = 0  # Reset every plot_every\n",
        "\n",
        "    encoder_optimizer = optim.SGD(encoder.parameters(), lr=learning_rate)\n",
        "    decoder_optimizer = optim.SGD(decoder.parameters(), lr=learning_rate)\n",
        "    training_pairs = [tensorsFromPair(random.choice(pairs))\n",
        "                      for i in range(n_iters)]\n",
        "    criterion = nn.NLLLoss()\n",
        "\n",
        "    for iter in range(1, n_iters + 1):\n",
        "        training_pair = training_pairs[iter - 1]\n",
        "        input_tensor = training_pair[0]\n",
        "        target_tensor = training_pair[1]\n",
        "\n",
        "        loss = train(input_tensor, target_tensor, encoder,\n",
        "                     decoder, encoder_optimizer, decoder_optimizer, criterion)\n",
        "        print_loss_total += loss\n",
        "        plot_loss_total += loss\n",
        "\n",
        "        if iter % print_every == 0:\n",
        "            print_loss_avg = print_loss_total / print_every\n",
        "            print_loss_total = 0\n",
        "            print('%s (%d %d%%) %.4f' % (timeSince(start, iter / n_iters),\n",
        "                                         iter, iter / n_iters * 100, print_loss_avg))\n",
        "\n",
        "        if iter % plot_every == 0:\n",
        "            plot_loss_avg = plot_loss_total / plot_every\n",
        "            plot_losses.append(plot_loss_avg)\n",
        "            plot_loss_total = 0\n",
        "\n",
        "    showPlot(plot_losses)"
      ],
      "execution_count": null,
      "outputs": []
    },
    {
      "cell_type": "code",
      "metadata": {
        "id": "XI2Ig2BSUBTT"
      },
      "source": [
        "import matplotlib.pyplot as plt\n",
        "plt.switch_backend('agg')\n",
        "import matplotlib.ticker as ticker\n",
        "import numpy as np\n",
        "\n",
        "\n",
        "def showPlot(points):\n",
        "    plt.figure()\n",
        "    fig, ax = plt.subplots()\n",
        "    # this locator puts ticks at regular intervals\n",
        "    loc = ticker.MultipleLocator(base=0.2)\n",
        "    ax.yaxis.set_major_locator(loc)\n",
        "    plt.plot(points)"
      ],
      "execution_count": null,
      "outputs": []
    },
    {
      "cell_type": "markdown",
      "metadata": {
        "id": "6XfqnwjCUBTT"
      },
      "source": [
        "Evaluation\n",
        "==========\n",
        "\n",
        "Evaluation is mostly the same as training, but there are no targets so\n",
        "we simply feed the decoder's predictions back to itself for each step.\n",
        "Every time it predicts a word we add it to the output string, and if it\n",
        "predicts the EOS token we stop there. We also store the decoder's\n",
        "attention outputs for display later.\n",
        "\n",
        "\n"
      ]
    },
    {
      "cell_type": "code",
      "metadata": {
        "id": "mwsvlJ-pUBTT"
      },
      "source": [
        "def evaluate(encoder, decoder, sentence, max_length=MAX_LENGTH):\n",
        "    with torch.no_grad():\n",
        "        input_tensor = tensorFromSentence(input_lang, sentence)\n",
        "        input_length = input_tensor.size()[0]\n",
        "        encoder_hidden = encoder.initHidden()\n",
        "\n",
        "        encoder_outputs = torch.zeros(max_length, encoder.hidden_size, device=device)\n",
        "\n",
        "        for ei in range(input_length):\n",
        "            encoder_output, encoder_hidden = encoder(input_tensor[ei],\n",
        "                                                     encoder_hidden)\n",
        "\n",
        "        decoder_input = torch.tensor([[SOS_token]], device=device)  # SOS\n",
        "\n",
        "        decoder_hidden = encoder_hidden\n",
        "\n",
        "        decoded_words = []\n",
        "\n",
        "        for di in range(max_length):\n",
        "            decoder_output, decoder_hidden = decoder(\n",
        "                decoder_input, decoder_hidden)\n",
        "            topv, topi = decoder_output.data.topk(1)\n",
        "            if topi.item() == EOS_token:\n",
        "                decoded_words.append('<EOS>')\n",
        "                break\n",
        "            else:\n",
        "                decoded_words.append(output_lang.index2word[topi.item()])\n",
        "\n",
        "            decoder_input = topi.squeeze().detach()\n",
        "\n",
        "        return decoded_words"
      ],
      "execution_count": null,
      "outputs": []
    },
    {
      "cell_type": "markdown",
      "metadata": {
        "id": "7RqrUdzDUBTT"
      },
      "source": [
        "We can evaluate random sentences from the training set and print out the\n",
        "input, target, and output to make some subjective quality judgements:\n",
        "\n",
        "\n"
      ]
    },
    {
      "cell_type": "code",
      "metadata": {
        "id": "NgDp0HXmUBTT"
      },
      "source": [
        "def evaluateRandomly(encoder, decoder, n=10):\n",
        "    for i in range(n):\n",
        "        pair = random.choice(pairs)\n",
        "        print('>', pair[0])\n",
        "        print('=', pair[1])\n",
        "        output_words = evaluate(encoder, decoder, pair[0])\n",
        "        output_sentence = ' '.join(output_words)\n",
        "        print('<', output_sentence)\n",
        "        print('')"
      ],
      "execution_count": null,
      "outputs": []
    },
    {
      "cell_type": "code",
      "metadata": {
        "id": "AyidUCBJUBTU",
        "colab": {
          "base_uri": "https://localhost:8080/"
        },
        "outputId": "549f1b48-83a7-47e9-fb73-ccab3a7468f4"
      },
      "source": [
        "# NO HACE FALTA EJECUTAR ESTA CELDA\n",
        "\n",
        "hidden_size = 128\n",
        "encoder1 = EncoderRNN(input_lang.n_words, hidden_size).to(device)\n",
        "decoder1 = DecoderRNN(hidden_size, output_lang.n_words).to(device)\n",
        "\n",
        "trainIters(encoder1, decoder1, 65000, print_every=5000)"
      ],
      "execution_count": null,
      "outputs": [
        {
          "output_type": "stream",
          "text": [
            "2m 6s (- 25m 19s) (5000 7%) 3.0603\n",
            "4m 19s (- 23m 46s) (10000 15%) 2.5710\n",
            "6m 33s (- 21m 52s) (15000 23%) 2.3366\n",
            "8m 48s (- 19m 49s) (20000 30%) 2.1414\n",
            "10m 59s (- 17m 34s) (25000 38%) 1.9801\n",
            "13m 9s (- 15m 21s) (30000 46%) 1.8437\n",
            "15m 23s (- 13m 11s) (35000 53%) 1.7037\n",
            "17m 36s (- 11m 0s) (40000 61%) 1.6336\n",
            "19m 47s (- 8m 47s) (45000 69%) 1.5383\n",
            "21m 55s (- 6m 34s) (50000 76%) 1.4218\n",
            "24m 3s (- 4m 22s) (55000 84%) 1.4002\n",
            "26m 14s (- 2m 11s) (60000 92%) 1.2964\n",
            "28m 28s (- 0m 0s) (65000 100%) 1.2168\n"
          ],
          "name": "stdout"
        }
      ]
    },
    {
      "cell_type": "code",
      "metadata": {
        "id": "rhbFAV8OUBTU",
        "colab": {
          "base_uri": "https://localhost:8080/"
        },
        "outputId": "6ff3d7af-1a16-4a39-e72d-7198d2ad5771"
      },
      "source": [
        "# NO HACE FALTA EJECUTAR ESTA CELDA\n",
        "\n",
        "evaluateRandomly(encoder1, decoder1)"
      ],
      "execution_count": null,
      "outputs": [
        {
          "output_type": "stream",
          "text": [
            "> tu n es plus mon amie .\n",
            "= you re not my friend anymore .\n",
            "< you re not my friend anymore . <EOS>\n",
            "\n",
            "> vous etes insupportable .\n",
            "= you are impossible .\n",
            "< you are naughty . <EOS>\n",
            "\n",
            "> je ne suis pas encore prete .\n",
            "= i m still not ready yet .\n",
            "< i m not ready yet . <EOS>\n",
            "\n",
            "> je suis fier de vous les mecs .\n",
            "= i m proud of you guys .\n",
            "< i m proud of you you . <EOS>\n",
            "\n",
            "> je suis ton ami .\n",
            "= i m your friend .\n",
            "< i m your friend . <EOS>\n",
            "\n",
            "> nous avons des prejuges .\n",
            "= we re prejudiced .\n",
            "< we re getting . <EOS>\n",
            "\n",
            "> je suis un professeur de japonais .\n",
            "= i m a japanese teacher .\n",
            "< i m a teacher teacher . <EOS>\n",
            "\n",
            "> nous ne sommes pas seules .\n",
            "= we are not alone .\n",
            "< we re not alone . <EOS>\n",
            "\n",
            "> on ne m invite pas aux fetes .\n",
            "= i m not invited to parties .\n",
            "< i m not invited to it . <EOS>\n",
            "\n",
            "> tu es toujours en train de me tarabuster .\n",
            "= you re always nagging me .\n",
            "< you re always complaining . <EOS>\n",
            "\n"
          ],
          "name": "stdout"
        }
      ]
    },
    {
      "cell_type": "markdown",
      "metadata": {
        "id": "qLdAUNv1UBTQ"
      },
      "source": [
        "Attention Decoder\n",
        "\n",
        "If only the context vector is passed between the encoder and decoder,\n",
        "that single vector carries the burden of encoding the entire sentence.\n",
        "\n",
        "Attention allows the decoder network to \"focus\" on a different part of\n",
        "the encoder's outputs for every step of the decoder's own outputs. First\n",
        "we calculate a set of *attention weights*. These will be multiplied by\n",
        "the encoder output vectors to create a weighted combination. The result\n",
        "(called ``attn_applied`` in the code) should contain information about\n",
        "that specific part of the input sequence, and thus help the decoder\n",
        "choose the right output words.\n",
        "\n",
        "![image.png](data:image/png;base64,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)\n",
        "\n",
        "Calculating the attention weights is done with another feed-forward\n",
        "layer ``attn``, using the decoder's input and hidden state as inputs.\n",
        "Because there are sentences of all sizes in the training data, to\n",
        "actually create and train this layer we have to choose a maximum\n",
        "sentence length (input length, for encoder outputs) that it can apply\n",
        "to. Sentences of the maximum length will use all the attention weights,\n",
        "while shorter sentences will only use the first few.\n",
        "\n",
        "![image.png](data:image/png;base64,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)\n",
        "\n",
        "\n"
      ]
    },
    {
      "cell_type": "markdown",
      "metadata": {
        "id": "KR-VLvQ92XOJ"
      },
      "source": [
        "# Homework\n",
        "\n",
        "A) Use the training loop  and the model defined below to train your own AttnDecoderRNN. Compare the results with the previous attention-less model.\n",
        "\n",
        "You need to define the attentin layers in the `__init__()` method and the behaviour of the `forward()` method"
      ]
    },
    {
      "cell_type": "code",
      "metadata": {
        "id": "p6VKQS8mUBTQ"
      },
      "source": [
        "# source = https://pytorch.org/tutorials/intermediate/seq2seq_translation_tutorial.html\n",
        "\n",
        "class AttnDecoderRNN(nn.Module):\n",
        "    def __init__(self, hidden_size, output_size, dropout_p=0.1, max_length=MAX_LENGTH):\n",
        "        super(AttnDecoderRNN, self).__init__()\n",
        "        self.hidden_size = hidden_size\n",
        "        self.output_size = output_size\n",
        "        self.dropout_p = dropout_p\n",
        "        self.max_length = max_length\n",
        "\n",
        "        self.embedding = nn.Embedding(self.output_size, self.hidden_size)\n",
        "\n",
        "        # YOUR CODE HERE\n",
        "        self.attn = nn.Linear(self.hidden_size * 2, self.max_length)\n",
        "        self.attn_combine = nn.Linear(self.hidden_size * 2, self.hidden_size)\n",
        "        # MY CODE FINISHES HERE\n",
        "    \n",
        "        self.dropout = nn.Dropout(self.dropout_p)\n",
        "        self.gru = nn.GRU(self.hidden_size, self.hidden_size)\n",
        "        self.out = nn.Linear(self.hidden_size, self.output_size)\n",
        "\n",
        "    def forward(self, input, hidden, encoder_outputs):\n",
        "        # YOUR CODE HERE\n",
        "        embedded = self.embedding(input).view(1, 1, -1)\n",
        "        embedded = self.dropout(embedded)\n",
        "\n",
        "        attn_weights = F.softmax(self.attn(torch.cat((embedded[0], hidden[0]), 1)), dim=1)\n",
        "        attn_applied = torch.bmm(attn_weights.unsqueeze(0), encoder_outputs.unsqueeze(0))\n",
        "\n",
        "        output = torch.cat((embedded[0], attn_applied[0]), 1)\n",
        "        output = self.attn_combine(output).unsqueeze(0)\n",
        "\n",
        "        output = F.relu(output)\n",
        "        output, hidden = self.gru(output, hidden)\n",
        "\n",
        "        output = F.log_softmax(self.out(output[0]), dim=1)\n",
        "        # MY CODE FINISHES HERE\n",
        "\n",
        "        return output, hidden, attn_weights\n",
        "\n",
        "    def initHidden(self):\n",
        "        return torch.zeros(1, 1, self.hidden_size, device=device)"
      ],
      "execution_count": null,
      "outputs": []
    },
    {
      "cell_type": "code",
      "metadata": {
        "id": "o8downp04W_E"
      },
      "source": [
        "teacher_forcing_ratio = 0.5\n",
        "\n",
        "\n",
        "def train(input_tensor, target_tensor, encoder, decoder, encoder_optimizer, decoder_optimizer, criterion, max_length=MAX_LENGTH):\n",
        "    encoder_hidden = encoder.initHidden()\n",
        "\n",
        "    encoder_optimizer.zero_grad()\n",
        "    decoder_optimizer.zero_grad()\n",
        "\n",
        "    input_length = input_tensor.size(0)\n",
        "    target_length = target_tensor.size(0)\n",
        "\n",
        "    encoder_outputs = torch.zeros(max_length, encoder.hidden_size, device=device)\n",
        "\n",
        "    loss = 0\n",
        "\n",
        "    for ei in range(input_length):\n",
        "        encoder_output, encoder_hidden = encoder(\n",
        "            input_tensor[ei], encoder_hidden)\n",
        "        encoder_outputs[ei] = encoder_output[0, 0]\n",
        "\n",
        "    decoder_input = torch.tensor([[SOS_token]], device=device)\n",
        "\n",
        "    decoder_hidden = encoder_hidden\n",
        "\n",
        "    use_teacher_forcing = True if random.random() < teacher_forcing_ratio else False\n",
        "\n",
        "    if use_teacher_forcing:\n",
        "        # Teacher forcing: Feed the target as the next input\n",
        "        for di in range(target_length):\n",
        "            decoder_output, decoder_hidden, decoder_attention = decoder(\n",
        "                decoder_input, decoder_hidden, encoder_outputs)\n",
        "            loss += criterion(decoder_output, target_tensor[di])\n",
        "            decoder_input = target_tensor[di]  # Teacher forcing\n",
        "\n",
        "    else:\n",
        "        # Without teacher forcing: use its own predictions as the next input\n",
        "        for di in range(target_length):\n",
        "            decoder_output, decoder_hidden, decoder_attention = decoder(\n",
        "                decoder_input, decoder_hidden, encoder_outputs)\n",
        "            topv, topi = decoder_output.topk(1)\n",
        "            decoder_input = topi.squeeze().detach()  # detach from history as input\n",
        "\n",
        "            loss += criterion(decoder_output, target_tensor[di])\n",
        "            if decoder_input.item() == EOS_token:\n",
        "                break\n",
        "\n",
        "    loss.backward()\n",
        "\n",
        "    encoder_optimizer.step()\n",
        "    decoder_optimizer.step()\n",
        "\n",
        "    return loss.item() / target_length"
      ],
      "execution_count": null,
      "outputs": []
    },
    {
      "cell_type": "code",
      "metadata": {
        "id": "lWZ1_t5H4Qlj"
      },
      "source": [
        "def evaluate(encoder, decoder, sentence, max_length=MAX_LENGTH):\n",
        "    with torch.no_grad():\n",
        "        input_tensor = tensorFromSentence(input_lang, sentence)\n",
        "        input_length = input_tensor.size()[0]\n",
        "        encoder_hidden = encoder.initHidden()\n",
        "\n",
        "        encoder_outputs = torch.zeros(max_length, encoder.hidden_size, device=device)\n",
        "\n",
        "        for ei in range(input_length):\n",
        "            encoder_output, encoder_hidden = encoder(input_tensor[ei],\n",
        "                                                     encoder_hidden)\n",
        "            encoder_outputs[ei] += encoder_output[0, 0]\n",
        "\n",
        "        decoder_input = torch.tensor([[SOS_token]], device=device)  # SOS\n",
        "\n",
        "        decoder_hidden = encoder_hidden\n",
        "\n",
        "        decoded_words = []\n",
        "        decoder_attentions = torch.zeros(max_length, max_length)\n",
        "\n",
        "        for di in range(max_length):\n",
        "            decoder_output, decoder_hidden, decoder_attention = decoder(\n",
        "                decoder_input, decoder_hidden, encoder_outputs)\n",
        "            decoder_attentions[di] = decoder_attention.data\n",
        "            topv, topi = decoder_output.data.topk(1)\n",
        "            if topi.item() == EOS_token:\n",
        "                decoded_words.append('<EOS>')\n",
        "                break\n",
        "            else:\n",
        "                decoded_words.append(output_lang.index2word[topi.item()])\n",
        "\n",
        "            decoder_input = topi.squeeze().detach()\n",
        "\n",
        "        return decoded_words, decoder_attentions[:di + 1]"
      ],
      "execution_count": null,
      "outputs": []
    },
    {
      "cell_type": "code",
      "metadata": {
        "id": "YaylqS1V5FqB",
        "colab": {
          "base_uri": "https://localhost:8080/"
        },
        "outputId": "42c062b7-e17d-4ee0-fc69-59a8202d3a00"
      },
      "source": [
        "hidden_size = 128\n",
        "encoder1 = EncoderRNN(input_lang.n_words, hidden_size).to(device)\n",
        "attn_decoder1 = AttnDecoderRNN(hidden_size, output_lang.n_words, dropout_p=0.1).to(device)\n",
        "\n",
        "trainIters(encoder1, attn_decoder1, 65000, print_every=5000)"
      ],
      "execution_count": null,
      "outputs": [
        {
          "output_type": "stream",
          "text": [
            "2m 46s (- 33m 14s) (5000 7%) 2.9478\n",
            "5m 33s (- 30m 34s) (10000 15%) 2.4289\n",
            "8m 16s (- 27m 36s) (15000 23%) 2.1888\n",
            "11m 5s (- 24m 58s) (20000 30%) 2.0032\n",
            "13m 51s (- 22m 10s) (25000 38%) 1.8736\n",
            "16m 37s (- 19m 24s) (30000 46%) 1.7316\n",
            "19m 23s (- 16m 37s) (35000 53%) 1.6098\n",
            "22m 16s (- 13m 55s) (40000 61%) 1.5387\n",
            "25m 6s (- 11m 9s) (45000 69%) 1.4545\n",
            "27m 59s (- 8m 23s) (50000 76%) 1.3828\n",
            "30m 47s (- 5m 35s) (55000 84%) 1.2990\n",
            "33m 33s (- 2m 47s) (60000 92%) 1.2535\n",
            "36m 23s (- 0m 0s) (65000 100%) 1.2132\n"
          ],
          "name": "stdout"
        }
      ]
    },
    {
      "cell_type": "code",
      "metadata": {
        "id": "Xq5DofsQZCh4"
      },
      "source": [
        "def evaluateRandomly(encoder, decoder, n=10):\n",
        "    for i in range(n):\n",
        "        pair = random.choice(pairs)\n",
        "        print('>', pair[0])\n",
        "        print('=', pair[1])\n",
        "        output_words, _ = evaluate(encoder, decoder, pair[0])\n",
        "        output_sentence = ' '.join(output_words)\n",
        "        print('<', output_sentence)\n",
        "        print('')"
      ],
      "execution_count": null,
      "outputs": []
    },
    {
      "cell_type": "code",
      "metadata": {
        "id": "MZBF55AEZE_x",
        "colab": {
          "base_uri": "https://localhost:8080/"
        },
        "outputId": "b4070ce6-100d-47fe-eaf4-c53ef4b3354d"
      },
      "source": [
        "evaluateRandomly(encoder1, attn_decoder1)"
      ],
      "execution_count": null,
      "outputs": [
        {
          "output_type": "stream",
          "text": [
            "> vous etes pleine de ressources .\n",
            "= you re resourceful .\n",
            "< you re resourceful . <EOS>\n",
            "\n",
            "> c est un homme honnete .\n",
            "= he is an honest man .\n",
            "< he s a man man . <EOS>\n",
            "\n",
            "> tu es sur mon chemin .\n",
            "= you are in my way .\n",
            "< you re my my way . <EOS>\n",
            "\n",
            "> je ne travaille pas pour tom .\n",
            "= i m not working for tom .\n",
            "< i m not going to tom tom . <EOS>\n",
            "\n",
            "> nous quittons le japon le mois prochain .\n",
            "= we are leaving japan next month .\n",
            "< we are leaving next next month . <EOS>\n",
            "\n",
            "> vous etes fous .\n",
            "= you re demented .\n",
            "< you re crafty . <EOS>\n",
            "\n",
            "> nous allons toutes chez nous .\n",
            "= we re all going home .\n",
            "< we re going to us . <EOS>\n",
            "\n",
            "> je me porte bien .\n",
            "= i m okay .\n",
            "< i m feeling all . <EOS>\n",
            "\n",
            "> je suis trop gros .\n",
            "= i m too fat .\n",
            "< i m too fat . <EOS>\n",
            "\n",
            "> vous etes celui qui m a forme .\n",
            "= you re the one who trained me .\n",
            "< you re the one who trained me . <EOS>\n",
            "\n"
          ],
          "name": "stdout"
        }
      ]
    },
    {
      "cell_type": "markdown",
      "metadata": {
        "id": "fOtyOQRhUP3V"
      },
      "source": [
        "Use the training loop and the model defined below to train your own AttnDecoderRNN. Compare the results with the previous attention-less model."
      ]
    },
    {
      "cell_type": "markdown",
      "metadata": {
        "id": "cNRPuM0euXwp"
      },
      "source": [
        "Para poder comparar los resultados, utilizo 1 color para calificar cada una de las 10 frases generadas:\n",
        "1.   🟢 = la frase está traducida correctamente al 100%.\n",
        "2.   🔵 = la frase traducida tiene sentido gramaticalmente, pero no está traducida correctamente al 100%.\n",
        "3.   🔴 = la frase traducida no tiene sentido gramaticalmente.\n",
        "\n"
      ]
    },
    {
      "cell_type": "markdown",
      "metadata": {
        "id": "HJBFDM-bUR3L"
      },
      "source": [
        "**Resultados del Attention-less**"
      ]
    },
    {
      "cell_type": "markdown",
      "metadata": {
        "id": "gqe8sGNVo2_b"
      },
      "source": [
        "you re not my friend anymore .\n",
        "---> you re not my friend anymore . 🟢\n",
        "\n",
        "you are impossible .\n",
        "---> you are naughty . 🔵\n",
        "\n",
        "i m still not ready yet .\n",
        "---> i m not ready yet . 🔵\n",
        "\n",
        "i m proud of you guys .\n",
        "---> i m proud of you you . 🔴\n",
        "\n",
        "i m your friend .\n",
        "---> i m your friend . 🟢\n",
        "\n",
        "we re prejudiced .\n",
        "---> we re getting . 🔴\n",
        "\n",
        "i m a japanese teacher .\n",
        "---> i m a teacher teacher . 🔴\n",
        "\n",
        "we are not alone .\n",
        "---> we re not alone . 🟢\n",
        "\n",
        "i m not invited to parties .\n",
        "---> i m not invited to it . 🔵\n",
        "\n",
        "you re always nagging me .\n",
        "---> you re always complaining . 🔵"
      ]
    },
    {
      "cell_type": "markdown",
      "metadata": {
        "id": "ZLF85sNpooWq"
      },
      "source": [
        "**Resultados del AttnDecoderRNN**"
      ]
    },
    {
      "cell_type": "markdown",
      "metadata": {
        "id": "DZlFhz7_tSJW"
      },
      "source": [
        "you re resourceful .\n",
        "---> you re resourceful . 🟢\n",
        "\n",
        "he is an honest man .\n",
        "---> he s a man man . 🔴\n",
        "\n",
        "you are in my way .\n",
        "---> you re my my way . 🔴\n",
        "\n",
        "i m not working for tom .\n",
        "---> i m not going to tom tom . 🔴\n",
        "\n",
        "we are leaving japan next month .\n",
        "---> we are leaving next next month . 🔴\n",
        "\n",
        "you re demented .\n",
        "---> you re crafty . 🔵\n",
        "\n",
        "we re all going home .\n",
        "---> we re going to us . 🔴\n",
        "\n",
        "i m okay .\n",
        "---> i m feeling all . 🔴\n",
        "\n",
        "i m too fat .\n",
        "---> i m too fat . 🟢\n",
        "\n",
        "you re the one who trained me .\n",
        "---> you re the one who trained me . 🟢"
      ]
    },
    {
      "cell_type": "markdown",
      "metadata": {
        "id": "xnz88v9f0RhZ"
      },
      "source": [
        "Vemos fácilmente (con el jueguecito de los colores) que el modelo Attention-less funciona un poco mejor que el AttnDecoderRNN. "
      ]
    },
    {
      "cell_type": "markdown",
      "metadata": {
        "id": "Bo4b31akDZoI"
      },
      "source": [
        "B) Visualize the attention matrix for the following input sentences\n",
        "\n",
        "- \"elle a cinq ans de moins que moi.\"\n",
        "\n",
        "- \"elle est trop petit .\"\n",
        "\n",
        "- \"je ne crains pas de mourir .\"\n",
        "\n",
        "- \"c est un jeune directeur plein de talent .\"\n",
        "\n",
        "When showing the matrix make sure to label the rows and columns properly  (setting x_ticklabels to each character in the input sentence and y_ticklabels to each character in the output sentece)"
      ]
    },
    {
      "cell_type": "code",
      "metadata": {
        "id": "muGVuGedM630"
      },
      "source": [
        "# source = https://pytorch.org/tutorials/intermediate/seq2seq_translation_tutorial.html\n",
        "\n",
        "def showAttention(input_sentence, output_words, attentions):\n",
        "    # Set up figure with colorbar\n",
        "    fig = plt.figure()\n",
        "    ax = fig.add_subplot(111)\n",
        "    cax = ax.matshow(attentions.numpy(), cmap='bone')\n",
        "    fig.colorbar(cax)\n",
        "\n",
        "    # Set up axes\n",
        "    ax.set_xticklabels([''] + input_sentence.split(' ') +\n",
        "                       ['<EOS>'], rotation=90)\n",
        "    ax.set_yticklabels([''] + output_words)\n",
        "\n",
        "    # Show label at every tick\n",
        "    ax.xaxis.set_major_locator(ticker.MultipleLocator(1))\n",
        "    ax.yaxis.set_major_locator(ticker.MultipleLocator(1))\n",
        "\n",
        "    plt.show()"
      ],
      "execution_count": null,
      "outputs": []
    },
    {
      "cell_type": "code",
      "metadata": {
        "id": "xMVS8xLZNKrF"
      },
      "source": [
        "def evaluateAndShowAttention(input_sentence):\n",
        "    output_words, attentions = evaluate(encoder1, attn_decoder1, input_sentence)\n",
        "    print('input =', input_sentence)\n",
        "    print('output =', ' '.join(output_words))\n",
        "    showAttention(input_sentence, output_words, attentions)"
      ],
      "execution_count": null,
      "outputs": []
    },
    {
      "cell_type": "code",
      "metadata": {
        "colab": {
          "base_uri": "https://localhost:8080/",
          "height": 1000
        },
        "id": "9AT6LlZxNO7A",
        "outputId": "50866273-c8fe-4645-9119-c6a5d342b801"
      },
      "source": [
        "%matplotlib inline\n",
        "\n",
        "fig1 = evaluateAndShowAttention(\"elle a cinq ans de moins que moi .\")\n",
        "\n",
        "fig2 = evaluateAndShowAttention(\"elle est trop petit .\")\n",
        "\n",
        "fig3 = evaluateAndShowAttention(\"je ne crains pas de mourir .\")\n",
        "\n",
        "fig4 = evaluateAndShowAttention(\"c est un jeune directeur plein de talent .\")"
      ],
      "execution_count": null,
      "outputs": [
        {
          "output_type": "stream",
          "text": [
            "input = elle a cinq ans de moins que moi .\n",
            "output = she s years years years than me . <EOS>\n"
          ],
          "name": "stdout"
        },
        {
          "output_type": "display_data",
          "data": {
            "image/png": "[encoded data removed]",
            "text/plain": [
              "<Figure size 432x288 with 2 Axes>"
            ]
          },
          "metadata": {
            "tags": [],
            "needs_background": "light"
          }
        },
        {
          "output_type": "stream",
          "text": [
            "input = elle est trop petit .\n",
            "output = she s too busy . <EOS>\n"
          ],
          "name": "stdout"
        },
        {
          "output_type": "display_data",
          "data": {
            "image/png": "[encoded data removed]",
            "text/plain": [
              "<Figure size 432x288 with 2 Axes>"
            ]
          },
          "metadata": {
            "tags": [],
            "needs_background": "light"
          }
        },
        {
          "output_type": "stream",
          "text": [
            "input = je ne crains pas de mourir .\n",
            "output = i m not scared to die . <EOS>\n"
          ],
          "name": "stdout"
        },
        {
          "output_type": "display_data",
          "data": {
            "image/png": "[encoded data removed]",
            "text/plain": [
              "<Figure size 432x288 with 2 Axes>"
            ]
          },
          "metadata": {
            "tags": [],
            "needs_background": "light"
          }
        },
        {
          "output_type": "stream",
          "text": [
            "input = c est un jeune directeur plein de talent .\n",
            "output = he s a kind man . . <EOS>\n"
          ],
          "name": "stdout"
        },
        {
          "output_type": "display_data",
          "data": {
            "image/png": "[encoded data removed]",
            "text/plain": [
              "<Figure size 432x288 with 2 Axes>"
            ]
          },
          "metadata": {
            "tags": [],
            "needs_background": "light"
          }
        }
      ]
    }
  ]
}