{
  "nbformat": 4,
  "nbformat_minor": 0,
  "metadata": {
    "kernelspec": {
      "display_name": "pytorch",
      "language": "python",
      "name": "pytorch"
    },
    "language_info": {
      "codemirror_mode": {
        "name": "ipython",
        "version": 3
      },
      "file_extension": ".py",
      "mimetype": "text/x-python",
      "name": "python",
      "nbconvert_exporter": "python",
      "pygments_lexer": "ipython3",
      "version": "3.7.9"
    },
    "colab": {
      "name": "second.ipynb",
      "provenance": [],
      "collapsed_sections": [
        "II7kOUeNf-0M",
        "LTtw-_zEf-0Q",
        "ykWiONnff-0X",
        "zYQeACcTf-0Z",
        "kEOL7S4Df-0b"
      ]
    }
  },
  "cells": [
    {
      "cell_type": "markdown",
      "metadata": {
        "id": "oJhnWAZSf-z-"
      },
      "source": [
        "# Creating our own Auto Differentiation (AutoGrad) framework\n",
        "\n",
        "In this practical exercise we will build our own, very simple, Auto-differentiation (or AutoGrad) framework."
      ]
    },
    {
      "cell_type": "markdown",
      "metadata": {
        "id": "II7kOUeNf-0M"
      },
      "source": [
        "## Coding the framework\n",
        "\n",
        "### Step 1: Define a class for our variables"
      ]
    },
    {
      "cell_type": "markdown",
      "metadata": {
        "id": "yV0iLOI_f-0N"
      },
      "source": [
        "The key idea is that we will define our own class of `Variable` which is basically the same as a scalar (a number). So our class is created by passing it a `value`, and it stores this value internally.\n",
        "\n",
        "But apart from being a placeholder for a number, we also want to keep track of the way every variable was created.\n",
        "\n",
        "For example, if a variable $c$ is the result of the addition of two variables $a$ and $b$: $c = a + b$, then we would say that $a$ and $b$ are \"parent\" variables of $c$, and $c$ is their \"child\". The way $c$ was created was by adding these two parent variables together.\n",
        "\n",
        "So apart from the value of the variable, we will also have to keep track of the parents, and on how each of them \"contributes\" to the creation of the variable - this is described by the local derivative associated with each of the parents, that tells us how a change in each of the parent variables translates into a change in the child variable.\n",
        "\n",
        "This is important in order to implement our backwards pass. Each parent defines a \"route\" through which the gradients coming into this variable will have to flow through. So we will define a list of `gradRoutes` that will contain the list of parent variables and their corresponding local derivatives. A variable created directly (not resulting by any operation over existing variables) will have an empty `gradRoutes`.\n",
        "\n",
        "Finally, we want each variable of ours to keep also the value of gradient of the quantity we are interested in with respect to that variable. We will create a placeholder for that as well, called `grad`. As seen before, this will accummulate the gradients that are backpropagated from the children of this variable when we implement the backpropagation algorithm. So we will initialise it to zero."
      ]
    },
    {
      "cell_type": "code",
      "metadata": {
        "id": "YRe2RXCMf-0O"
      },
      "source": [
        "import numpy as np"
      ],
      "execution_count": 2,
      "outputs": []
    },
    {
      "cell_type": "code",
      "metadata": {
        "id": "zeOVCFCBf-0O"
      },
      "source": [
        "class Variable: #Simple variable. These are the leafs of our tree, they can request to have a gradient calculated, or not\n",
        "    def __init__(self, value):\n",
        "        self.value = value\n",
        "        self.gradRoutes = [] # A variable by default has no grad Routes (was not created by anything, just defined)\n",
        "        self.grad = 0.0        \n",
        "        \n",
        "    def __str__(self):\n",
        "        return 'Value: {self.value}'.format(self=self)        "
      ],
      "execution_count": 3,
      "outputs": []
    },
    {
      "cell_type": "markdown",
      "metadata": {
        "id": "eJ2OdwwRf-0P"
      },
      "source": [
        "Apart from the `__init__()` function which stores the value passed to our class and initialises the `gradRoutes` and `grad` member variables, we have also overloaded the function that python uses to convert a class into a string representation: `__str__()`. This will allow us to print our class.\n",
        "\n",
        "We cannot do much yet with this class, apart from storing values into our variables and printing them out. Let's try this out. "
      ]
    },
    {
      "cell_type": "code",
      "metadata": {
        "colab": {
          "base_uri": "https://localhost:8080/"
        },
        "id": "19jERs3kf-0P",
        "outputId": "d5c286f9-035c-4fe9-9581-7af555cf9bfd"
      },
      "source": [
        "a = Variable(4.3)\n",
        "b = Variable(5.2)\n",
        "print(a)\n",
        "print(b)"
      ],
      "execution_count": 4,
      "outputs": [
        {
          "output_type": "stream",
          "text": [
            "Value: 4.3\n",
            "Value: 5.2\n"
          ],
          "name": "stdout"
        }
      ]
    },
    {
      "cell_type": "markdown",
      "metadata": {
        "id": "LTtw-_zEf-0Q"
      },
      "source": [
        "### Step 2: Define operations over our variables"
      ]
    },
    {
      "cell_type": "markdown",
      "metadata": {
        "id": "0_F5NPs-f-0R"
      },
      "source": [
        "The next step would be to implement operations on our variables. Let's first define the operations for addition and multiplication.\n",
        "\n",
        "These will be functions that take two variables as input and produce a new (child) variable with a value equal to the sum or the product of the two inputs. Apart from the forward pass though, we should keep track of how this new variable was created: the two parent variables, and their corresponding local derivatives."
      ]
    },
    {
      "cell_type": "code",
      "metadata": {
        "id": "O9RaLHBCf-0R"
      },
      "source": [
        "def vAdd(A: Variable, B: Variable): # Addition\n",
        "    result = Variable(A.value + B.value) # Create a new Variable to store the result, and pass it the value = a + b\n",
        "          \n",
        "    #keep track of the parent variables, and of the local derivative associated with each one\n",
        "    result.gradRoutes.append((A, 1)) # dresult / dA = 1\n",
        "    result.gradRoutes.append((B, 1)) # dresult / dB = 1\n",
        "    \n",
        "    return result\n",
        "    \n",
        "def vMul(A: Variable, B: Variable): # Addition\n",
        "    result = Variable(A.value * B.value) # Create a new Variable to store the result, and pass it the value = a + b\n",
        "          \n",
        "    #keep track of the parent variables, and of the local derivative associated with each one\n",
        "    result.gradRoutes.append((A, B.value)) # dresult / dA = B\n",
        "    result.gradRoutes.append((B, A.value)) # dresult / dB = A\n",
        "    \n",
        "    return result"
      ],
      "execution_count": 5,
      "outputs": []
    },
    {
      "cell_type": "markdown",
      "metadata": {
        "id": "ZO0adIJWf-0S"
      },
      "source": [
        "So for example to calculate $d = (a + b) * c$ we first need to calculate $(a + b)$ and then mutiply the result with $c$"
      ]
    },
    {
      "cell_type": "code",
      "metadata": {
        "colab": {
          "base_uri": "https://localhost:8080/"
        },
        "id": "zBf8OgVQf-0S",
        "outputId": "fb5209fa-c735-4857-a7f1-9de1b6ed2aff"
      },
      "source": [
        "a = Variable(2) # a = 2\n",
        "b = Variable(3) # b = 3\n",
        "c = Variable(4) # c = 4\n",
        "\n",
        "#d = (a + b) * c = 20\n",
        "d = vMul(vAdd(a, b), c)\n",
        "\n",
        "print(d)"
      ],
      "execution_count": 6,
      "outputs": [
        {
          "output_type": "stream",
          "text": [
            "Value: 20\n"
          ],
          "name": "stdout"
        }
      ]
    },
    {
      "cell_type": "markdown",
      "metadata": {
        "id": "45QSs5P-f-0T"
      },
      "source": [
        "### Step 3: Implement the backpropagation function"
      ]
    },
    {
      "cell_type": "markdown",
      "metadata": {
        "id": "vGC-Ut9Mf-0T"
      },
      "source": [
        "The final step is to implement the backpropagation function. This starts with a child variable, and backpropagates gradients through the routes defined recursively. It uses the two rules that we saw before:\n",
        "\n",
        "- Accumulate the incoming gradients from the different grad routes that lead to a node (a variable). Each of the incoming gradients describe a different way in which the node affects the quantity of interest, so this sum will be the final gradient for the node\n",
        "- Multiply every incoming gradient with each of the local derivatives corresponding to parent variables (this would be the application of the chain rule), and continue the backpropagation through the corresponding route (for each of the parent variables)\n",
        "\n",
        "We update the `Variable` class accordingly. We also update the `__str___()` function to include also gradient information."
      ]
    },
    {
      "cell_type": "code",
      "metadata": {
        "id": "7KzTVTrKf-0T"
      },
      "source": [
        "class Variable: #Simple variable. These are the leafs of our tree, they can request to have a gradient calculated, or not\n",
        "    def __init__(self, value):\n",
        "        self.value = value\n",
        "        self.gradRoutes = [] # A variable by default has no grad Routes (was not created by anything, just defined)\n",
        "        self.grad = 0.0\n",
        "    \n",
        "    def backProp(self, route_val=1.0):\n",
        "        # Add together the incoming gradients from the different routes that lead to a node - this will be the final gradient for the node\n",
        "        self.grad += route_val\n",
        "                \n",
        "        # For every parent variable and corresponding local derivative value that we have in the gradRoutes, continue with the gradient calculation\n",
        "        for variable, local_derivative_value in self.gradRoutes:\n",
        "            # Multiply the incoming gradient with the local derivatives corresponding the parent variable, and continue the backpropagation\n",
        "            variable.backProp(local_derivative_value * route_val)\n",
        "    \n",
        "    def __str__(self):\n",
        "        return 'Value: {self.value}, Gradient: {self.grad}'.format(self=self)"
      ],
      "execution_count": 7,
      "outputs": []
    },
    {
      "cell_type": "markdown",
      "metadata": {
        "id": "Gx4hfBYdf-0U"
      },
      "source": [
        "<font color=blue>**Question:** Why did we set the default value of route_val equal to 1.0?</font>"
      ]
    },
    {
      "cell_type": "markdown",
      "metadata": {
        "id": "dAmSVkZnf-0V"
      },
      "source": [
        "---\n",
        "\n",
        "*Answer*\n",
        "\n",
        "\n",
        "---\n"
      ]
    },
    {
      "cell_type": "markdown",
      "metadata": {
        "id": "kxlV1Ozpf-0V"
      },
      "source": [
        "This should be all. If we want to calculate the derivative of the result with respect to any of the variables that participated in the calculation, we just need to call backprop on the result, and then read the derivatives out."
      ]
    },
    {
      "cell_type": "code",
      "metadata": {
        "colab": {
          "base_uri": "https://localhost:8080/"
        },
        "id": "XWkjrzgRf-0V",
        "outputId": "8040defa-0708-48ab-e4a9-0863d53aa64d"
      },
      "source": [
        "a = Variable(2)           # a = 2\n",
        "b = Variable(3)           # b = 3\n",
        "c = Variable(4)           # c = 4\n",
        "res = vMul(vAdd(a, b), c) # res = (a + b) * c = 20\n",
        "\n",
        "print(\"Result =\", res.value)\n",
        "\n",
        "# Call backprop on the result\n",
        "res.backProp()\n",
        "\n",
        "# Now all variables should contain in their \"grad\" the derivative d(res) / d(variable)\n",
        "print(\"The derivative of the result with respect to a is:\", a.grad)\n",
        "print(\"The derivative of the result with respect to b is:\", b.grad)\n",
        "print(\"The derivative of the result with respect to c is:\", c.grad)"
      ],
      "execution_count": 8,
      "outputs": [
        {
          "output_type": "stream",
          "text": [
            "Result = 20\n",
            "The derivative of the result with respect to a is: 4.0\n",
            "The derivative of the result with respect to b is: 4.0\n",
            "The derivative of the result with respect to c is: 5.0\n"
          ],
          "name": "stdout"
        }
      ]
    },
    {
      "cell_type": "markdown",
      "metadata": {
        "id": "U-6HcW1ef-0W"
      },
      "source": [
        "In the following example, variable $a$ affects the result through two different routes"
      ]
    },
    {
      "cell_type": "code",
      "metadata": {
        "colab": {
          "base_uri": "https://localhost:8080/"
        },
        "id": "i56jJcYTf-0W",
        "outputId": "19c5f547-a6d3-4bed-9cb9-e30b72e0b875"
      },
      "source": [
        "a = Variable(4)  # a = 4\n",
        "b = Variable(3)  # b = 3\n",
        "c = vAdd(a, b)   # c = 4 + 3\n",
        "res = vMul(a, c) # res = a * c = 28\n",
        "\n",
        "print(\"Result =\", res.value)\n",
        "\n",
        "# Call backprop on the result\n",
        "res.backProp()\n",
        "\n",
        "# Now all variables should contain in their \"grad\" the derivative d(res) / d(variable)\n",
        "print(\"The derivative of the result with respect to a is:\", a.grad)\n",
        "print(\"The derivative of the result with respect to b is:\", b.grad)\n",
        "# Also for intermediate results\n",
        "print(\"The derivative of the result with respect to c is:\", c.grad)"
      ],
      "execution_count": 9,
      "outputs": [
        {
          "output_type": "stream",
          "text": [
            "Result = 28\n",
            "The derivative of the result with respect to a is: 11.0\n",
            "The derivative of the result with respect to b is: 4.0\n",
            "The derivative of the result with respect to c is: 4.0\n"
          ],
          "name": "stdout"
        }
      ]
    },
    {
      "cell_type": "markdown",
      "metadata": {
        "id": "5afOuzRdf-0X"
      },
      "source": [
        "<font color=blue>**Question:** Can you now use this setup to calculate the derivative of $c$ with respect to $a$ and $b$?</font>"
      ]
    },
    {
      "cell_type": "code",
      "metadata": {
        "id": "LL6V-biAf-0X"
      },
      "source": [
        "# Your Code Here\n"
      ],
      "execution_count": 10,
      "outputs": []
    },
    {
      "cell_type": "markdown",
      "metadata": {
        "id": "zQYh4IX6f-0X"
      },
      "source": [
        "## Final touches\n",
        "\n",
        "If you understood how this works up to here, then you should be already good to go. But since we want to use our auto grad to do some practical work, we will continue working on it a bit, to make it a bit more usable and complete it with more operations. Many of the subsequent steps are quite \"engineering\" in nature."
      ]
    },
    {
      "cell_type": "markdown",
      "metadata": {
        "id": "ykWiONnff-0X"
      },
      "source": [
        "### Improving usability: overloading operators"
      ]
    },
    {
      "cell_type": "markdown",
      "metadata": {
        "id": "_IohGQoDf-0Y"
      },
      "source": [
        "Of course this is still highly incomplete, very inefficient and not very usable. Lets first improve a usability issue. Instead of having to call different functions for the operations like `res = vMul(a, c)`, we would like to be able to directly write them down like `res = a * b`. To achieve this, we should overload [Python's special functions for operator overloading](https://docs.python.org/3/reference/datamodel.html#emulating-numeric-types).\n",
        "\n",
        "Here's how to do this for the addition and multiplication."
      ]
    },
    {
      "cell_type": "code",
      "metadata": {
        "id": "4LErLEhlf-0Y"
      },
      "source": [
        "class Variable: #Simple variable. These are the leafs of our tree, they can request to have a gradient calculated, or not\n",
        "    def __init__(self, value):\n",
        "        self.value = value\n",
        "        self.gradRoutes = [] # A variable by default has no grad Routes (was not created by anything, just defined)\n",
        "        self.grad = 0.0\n",
        "    \n",
        "    def backProp(self, route_val = 1.0):\n",
        "        # Add together the incoming gradients from the different routes that lead to a node - this will be the final gradient for the node\n",
        "        self.grad += route_val\n",
        "                \n",
        "        # For every parent variable and corresponding local derivative value that we have in the gradRoutes, continue with the gradient calculation\n",
        "        for variable, local_derivative_value in self.gradRoutes:\n",
        "            # Multiply the incoming gradient with the local derivatives corresponding the parent variable, and continue the backpropagation\n",
        "            variable.backProp(local_derivative_value * route_val)\n",
        "            \n",
        "    def __add__(self, b):\n",
        "        return vAdd(self, b)\n",
        "        \n",
        "    def __mul__(self, b):\n",
        "        return vMul(self, b)            \n",
        "    \n",
        "    def __str__(self):\n",
        "        return 'Value: {self.value}, Gradient: {self.grad}'.format(self=self)"
      ],
      "execution_count": 11,
      "outputs": []
    },
    {
      "cell_type": "code",
      "metadata": {
        "colab": {
          "base_uri": "https://localhost:8080/"
        },
        "id": "SWiCieKrf-0Z",
        "outputId": "4a772c7c-0c9e-473d-e6f4-5883981d85df"
      },
      "source": [
        "a = Variable(4)  # a = 4\n",
        "b = Variable(3)  # b = 3\n",
        "c = a + b        # c = 4 + 3\n",
        "res = a * c      # res = a * c = 28\n",
        "\n",
        "print(\"Result =\", res.value)\n",
        "\n",
        "# Call backprop on the result\n",
        "res.backProp()\n",
        "\n",
        "# Now all variables should contain in their \"grad\" the derivative d(res) / d(variable)\n",
        "print(\"The derivative of the result with respect to a is:\", a.grad)\n",
        "print(\"The derivative of the result with respect to b is:\", b.grad)\n",
        "# Also for intermediate results\n",
        "print(\"The derivative of the result with respect to c is:\", b.grad)"
      ],
      "execution_count": 12,
      "outputs": [
        {
          "output_type": "stream",
          "text": [
            "Result = 28\n",
            "The derivative of the result with respect to a is: 11.0\n",
            "The derivative of the result with respect to b is: 4.0\n",
            "The derivative of the result with respect to c is: 4.0\n"
          ],
          "name": "stdout"
        }
      ]
    },
    {
      "cell_type": "markdown",
      "metadata": {
        "id": "zYQeACcTf-0Z"
      },
      "source": [
        "### Zeroing gradients"
      ]
    },
    {
      "cell_type": "markdown",
      "metadata": {
        "id": "telZEo7kf-0Z"
      },
      "source": [
        "A last thing to note is that once we call `backProp`, our gradients are calculated and our variables are now \"dirty\" in the sense that if we call backprop again, the new result will be added to the previous one:"
      ]
    },
    {
      "cell_type": "code",
      "metadata": {
        "colab": {
          "base_uri": "https://localhost:8080/"
        },
        "id": "0W1BTDqMf-0a",
        "outputId": "3bd9fc35-ecb1-4a16-8758-9beae8b4506c"
      },
      "source": [
        "a = Variable(4)   # a = 4\n",
        "b = Variable(3)   # b = 3\n",
        "res = (a + b) * a # res = a * c = 28\n",
        "\n",
        "# Call backprop on the result\n",
        "res.backProp()\n",
        "print(\"The derivative of the result with respect to a is:\", a.grad)\n",
        "print(\"The derivative of the result with respect to b is:\", b.grad)\n",
        "\n",
        "# Call backprop on the result once more\n",
        "print(\"Second time\")\n",
        "res.backProp()\n",
        "print(\"The derivative of the result with respect to a is:\", a.grad)\n",
        "print(\"The derivative of the result with respect to b is:\", b.grad)"
      ],
      "execution_count": 13,
      "outputs": [
        {
          "output_type": "stream",
          "text": [
            "The derivative of the result with respect to a is: 11.0\n",
            "The derivative of the result with respect to b is: 4.0\n",
            "Second time\n",
            "The derivative of the result with respect to a is: 22.0\n",
            "The derivative of the result with respect to b is: 8.0\n"
          ],
          "name": "stdout"
        }
      ]
    },
    {
      "cell_type": "markdown",
      "metadata": {
        "id": "p8cx06OIf-0a"
      },
      "source": [
        "This will actually turn out to be quite useful, e.g. when we want to accumulate weight gradients over different samples in our learning loops (see next), but we need a way to control it.\n",
        "\n",
        "To avoid this, we should reset the gradients to zero before we call `backProp` again. We can do it one by one for every variable, but we will also implement a function that does this recursively from the child node we backProped from all the way to the parents."
      ]
    },
    {
      "cell_type": "code",
      "metadata": {
        "id": "f2IzPgtDf-0a"
      },
      "source": [
        "class Variable: #Simple variable. These are the leafs of our tree, they can request to have a gradient calculated, or not\n",
        "    def __init__(self, value):\n",
        "        self.value = value\n",
        "        self.gradRoutes = [] # A variable by default has no grad Routes (was not created by anything, just defined)\n",
        "        self.grad = 0.0\n",
        "    \n",
        "    def backProp(self, route_val = 1.0):\n",
        "        # Add together the incoming gradients from the different routes that lead to a node - this will be the final gradient for the node\n",
        "        self.grad += route_val\n",
        "        print('self.grad',self.grad)\n",
        "                \n",
        "        # For every parent variable and corresponding local derivative value that we have in the gradRoutes, continue with the gradient calculation\n",
        "        for variable, local_derivative_value in self.gradRoutes:\n",
        "            # Multiply the incoming gradient with the local derivatives corresponding the parent variable, and continue the backpropagation\n",
        "            print(local_derivative_value, route_val)\n",
        "            variable.backProp(local_derivative_value * route_val)\n",
        "\n",
        "    def zeroGrad(self):\n",
        "        self.grad = 0.0\n",
        "        \n",
        "    def zeroGradsRecursively(self):\n",
        "        self.zeroGrad()\n",
        "        for variable, _ in self.gradRoutes:\n",
        "            variable.zeroGradsRecursively()\n",
        "            \n",
        "    def __add__(self, b):\n",
        "        return vAdd(self, b)\n",
        "        \n",
        "    def __mul__(self, b):\n",
        "        return vMul(self, b)           \n",
        "    \n",
        "    def __str__(self):\n",
        "        return 'Value: {self.value}, Gradient: {self.grad}'.format(self=self)"
      ],
      "execution_count": 14,
      "outputs": []
    },
    {
      "cell_type": "code",
      "metadata": {
        "colab": {
          "base_uri": "https://localhost:8080/"
        },
        "id": "lPGnUBJ1f-0a",
        "outputId": "226dee23-da87-40a1-e9bb-8d247dc9d0c3"
      },
      "source": [
        "a = Variable(4)   # a = 4\n",
        "b = Variable(3)   # b = 3\n",
        "res = (a + b) * a # res = a * c = 28\n",
        "\n",
        "# Call backprop on the result\n",
        "res.backProp()\n",
        "print(\"The derivative of the result with respect to a is:\", a.grad)\n",
        "print(\"The derivative of the result with respect to b is:\", b.grad)\n",
        "\n",
        "# Zero gradients\n",
        "res.zeroGradsRecursively()\n",
        "\n",
        "# Call backprop on the result once more\n",
        "print(\"Second time\")\n",
        "res.backProp()\n",
        "print(\"The derivative of the result with respect to a is:\", a.grad)\n",
        "print(\"The derivative of the result with respect to b is:\", b.grad)"
      ],
      "execution_count": 15,
      "outputs": [
        {
          "output_type": "stream",
          "text": [
            "self.grad 1.0\n",
            "4 1.0\n",
            "self.grad 4.0\n",
            "1 4.0\n",
            "self.grad 4.0\n",
            "1 4.0\n",
            "self.grad 4.0\n",
            "7 1.0\n",
            "self.grad 11.0\n",
            "The derivative of the result with respect to a is: 11.0\n",
            "The derivative of the result with respect to b is: 4.0\n",
            "Second time\n",
            "self.grad 1.0\n",
            "4 1.0\n",
            "self.grad 4.0\n",
            "1 4.0\n",
            "self.grad 4.0\n",
            "1 4.0\n",
            "self.grad 4.0\n",
            "7 1.0\n",
            "self.grad 11.0\n",
            "The derivative of the result with respect to a is: 11.0\n",
            "The derivative of the result with respect to b is: 4.0\n"
          ],
          "name": "stdout"
        }
      ]
    },
    {
      "cell_type": "markdown",
      "metadata": {
        "id": "kEOL7S4Df-0b"
      },
      "source": [
        "## More Improvements - Homework"
      ]
    },
    {
      "cell_type": "markdown",
      "metadata": {
        "id": "kYf-tHHwf-0b"
      },
      "source": [
        "There are number of ways we can improve our simple network. The most important is probably being able to work with vectors and matrices - we will look into this in the next notebook. Before that, there are still a lot of things to do."
      ]
    },
    {
      "cell_type": "markdown",
      "metadata": {
        "id": "4PJj7Zhxf-0b"
      },
      "source": [
        "---\n",
        "### <font color=blue>Excercise 1:</font>\n",
        "    \n",
        "<font color=blue>We usually do not require gradients for all our variables. If we could indicate which variables require gradients, then we could only keep track of the routes that lead to these variables only and drop all the rest. This would be a huge improvement in resources and speed (number of calculations). Can you add this functionality?</font>"
      ]
    },
    {
      "cell_type": "code",
      "metadata": {
        "id": "L-3_LNuVf-0b"
      },
      "source": [
        "# Your Code Here\n",
        "class Variable: #Simple variable. These are the leafs of our tree, they can request to have a gradient calculated, or not\n",
        "    def __init__(self, value, requiresGrad=True):\n",
        "        self.value = value\n",
        "        self.gradRoutes = [] # A variable by default has no grad Routes (was not created by anything, just defined)\n",
        "        self.grad = 0.0\n",
        "        self.requiresGrad = requiresGrad\n",
        "    \n",
        "    def backProp(self, route_val = 1.0):\n",
        "        # Add together the incoming gradients from the different routes that lead to a node - this will be the final gradient for the node\n",
        "        self.grad += route_val\n",
        "                \n",
        "        # For every parent variable and corresponding local derivative value that we have in the gradRoutes, continue with the gradient calculation\n",
        "        for variable, local_derivative_value in self.gradRoutes:\n",
        "              if variable.requiresGrad == True:\n",
        "                # Multiply the incoming gradient with the local derivatives corresponding the parent variable, and continue the backpropagation\n",
        "                variable.backProp(local_derivative_value * route_val)\n",
        "\n",
        "    def zeroGrad(self):\n",
        "        self.grad = 0.0\n",
        "        \n",
        "    def zeroGradsRecursively(self):\n",
        "        self.zeroGrad()\n",
        "        for variable, _ in self.gradRoutes:\n",
        "            variable.zeroGradsRecursively()\n",
        "            \n",
        "    def __add__(self, b):\n",
        "        return vAdd(self, b)\n",
        "\n",
        "    def __sub__(self, b):\n",
        "        return vSub(self, b)\n",
        "        \n",
        "    def __mul__(self, b):\n",
        "        return vMul(self, b)    \n",
        "\n",
        "    def __div__(self, b):\n",
        "        return vDiv(self, b)       \n",
        "    \n",
        "    def __str__(self):\n",
        "        return 'Value: {self.value}, Gradient: {self.grad}'.format(self=self)"
      ],
      "execution_count": 16,
      "outputs": []
    },
    {
      "cell_type": "code",
      "metadata": {
        "colab": {
          "base_uri": "https://localhost:8080/"
        },
        "id": "liQzUts04BDF",
        "outputId": "067d7ece-cbab-45a8-bdb7-7740c578a7c3"
      },
      "source": [
        "a = Variable(4, requiresGrad = True)   # a = 4\r\n",
        "b = Variable(3, requiresGrad = False)   # b = 3\r\n",
        "res = (a + b) * a # res = a * c = 28\r\n",
        "\r\n",
        "# Call backprop on the result\r\n",
        "res.backProp()\r\n",
        "print(\"The derivative of the result with respect to a is:\", a.grad)\r\n",
        "print(\"The derivative of the result with respect to b is:\", b.grad)\r\n",
        "\r\n",
        "\r\n",
        "a.requiresGrad = False\r\n",
        "b.requiresGrad = True\r\n",
        "\r\n",
        "# Zero gradients\r\n",
        "res.zeroGradsRecursively()\r\n",
        "\r\n",
        "# Call backprop on the result once more\r\n",
        "print(\"Second time\")\r\n",
        "res.backProp()\r\n",
        "print(\"The derivative of the result with respect to a is:\", a.grad)\r\n",
        "print(\"The derivative of the result with respect to b is:\", b.grad)"
      ],
      "execution_count": 17,
      "outputs": [
        {
          "output_type": "stream",
          "text": [
            "The derivative of the result with respect to a is: 11.0\n",
            "The derivative of the result with respect to b is: 0.0\n",
            "Second time\n",
            "The derivative of the result with respect to a is: 0.0\n",
            "The derivative of the result with respect to b is: 4.0\n"
          ],
          "name": "stdout"
        }
      ]
    },
    {
      "cell_type": "markdown",
      "metadata": {
        "id": "aaPdtpJaiyGz"
      },
      "source": [
        "## Polynomial Regression"
      ]
    },
    {
      "cell_type": "markdown",
      "metadata": {
        "id": "pQNzQ4rWiyGz"
      },
      "source": [
        "We will use our AutoGrad framework to implement polynomial regression. First, let's create some noisy training data for the function $y = w_0 + w_1*x + w_2*x^2$ for some values of the weights $w$ ($w_0$ is the bias term). We will then try to estimate these values from the data."
      ]
    },
    {
      "cell_type": "code",
      "metadata": {
        "id": "otmE7_yRiyG0"
      },
      "source": [
        "m = 100 # number of training points\n",
        "w = [-1.0, 2.0, 1.0] # These are the true values for our weights that we will then try to estimate from the data\n",
        "\n",
        "XX = 4 * np.random.rand(m) - 2 # Randomly select m points in the range [-2, 2]\n",
        "YY = w[0] + w[1] * XX + w[2] * (XX**2) # calculate the true outputs\n",
        "YY += np.random.normal(scale = 0.3, size = YY.size) # add noise to simulate observation error"
      ],
      "execution_count": 18,
      "outputs": []
    },
    {
      "cell_type": "code",
      "metadata": {
        "id": "AuvePDNniyG0",
        "colab": {
          "base_uri": "https://localhost:8080/",
          "height": 281
        },
        "outputId": "9d90f814-e78c-40c7-f0de-a4723d2910a0"
      },
      "source": [
        "import matplotlib.pyplot as plt\n",
        "\n",
        "plt.title('Our noisy dataset')\n",
        "plt.plot(XX, YY, '.')\n",
        "plt.show()"
      ],
      "execution_count": 19,
      "outputs": [
        {
          "output_type": "display_data",
          "data": {
            "image/png": "[encoded data removed]",
            "text/plain": [
              "<Figure size 432x288 with 1 Axes>"
            ]
          },
          "metadata": {
            "tags": [],
            "needs_background": "light"
          }
        }
      ]
    },
    {
      "cell_type": "markdown",
      "metadata": {
        "id": "ybX4SKFYiyG2"
      },
      "source": [
        "Now we are ready to estimate the values of our parameters, using only the observed samples, and the knowledge that the model we are seeking is a 2 degree polynomial.\n",
        "\n",
        "First of all, we will define three variables for our weights that we will initialise to some value - you can try to change the initialisation value to check that it has no effect in the final result.\n",
        "\n",
        "We will eventually want to calculate the derivatives of the error with respect to each of these weights, so that we can apply gradient descent. Therefore, these variables require gradient calculation as well."
      ]
    },
    {
      "cell_type": "code",
      "metadata": {
        "id": "lwpbPm5OiyG2"
      },
      "source": [
        "# Create variables for our parameters (weights), and initialise them all to 1.0\n",
        "w0 = Variable(0.0, requiresGrad = True)\n",
        "w1 = Variable(0.0, requiresGrad = True)\n",
        "w2 = Variable(0.0, requiresGrad = True)"
      ],
      "execution_count": 25,
      "outputs": []
    },
    {
      "cell_type": "markdown",
      "metadata": {
        "id": "vTlSKWgxiyG2"
      },
      "source": [
        "Next, we do a bit of housekeeping. We define the learning rate that we will use (feel free to change it and see what happens), as well as an empty list in which we will be keeping track of the training loss as it evolves during our training.\n",
        "\n",
        "*Note that we use \"loss\" and \"cost\" quite interchangably in these notebooks - the correct way to use it would be to call loss just the individual error for a single sample, and cost the aggregated error over the whole batch. In practice you will see these names used quite interchangably by different authors, and you should be able to tell what they refer to every time you see them.*"
      ]
    },
    {
      "cell_type": "code",
      "metadata": {
        "id": "EExhPZJxiyG3"
      },
      "source": [
        "lr = 0.01 # Our learning rate\n",
        "training_loss = []"
      ],
      "execution_count": 21,
      "outputs": []
    },
    {
      "cell_type": "markdown",
      "metadata": {
        "id": "P9zHh75ViyG3"
      },
      "source": [
        "Now we will define our typical training loop to implement gradient descent.\n",
        "\n",
        "During each epoch we process the whole batch of data we have, and we will do 2000 epochs (feel free to change this and see what happens).\n",
        "\n",
        "Within each epoch, we will take each sample in our dataset and do a forward pass - calculate the polynomial, using our current values for the weights. The result `out` is our estimated output for the sample. We will then compare it with the true value for the sample (the noisy value we have observed). Here we will use a Mean Square Error cost, so our loss is just the square distance between the estimated and the true (observed) value.\n",
        "\n",
        "We will accumulate the loss for all samples into the `batch_loss` variable, and at the end of each epoch we will divide by the number of samples to get the average error.\n",
        "\n",
        "This is the value that we will backpropagate. This will update the gradient information of all our variables that require gradients, all the way back to the three weights. These gradients are then used to update the weights using simple gradient descent."
      ]
    },
    {
      "cell_type": "markdown",
      "metadata": {
        "id": "4CArsj8PlR9f"
      },
      "source": [
        "### <font color=blue>Excercise 2:</font>\n",
        "    \n",
        "<font color=blue> Notice that our autograd engine is missing some operations that are required in the forward pass for our regression problem.\n",
        "\n",
        "- Add these functionalities to our autograd engine\n",
        "- Allow our engine to work with both Variables and constants so that we dont have to create variables for everything. </font>"
      ]
    },
    {
      "cell_type": "code",
      "metadata": {
        "id": "466v0hdrLBi-"
      },
      "source": [
        "def vAdd(A: Variable, B: Variable):\r\n",
        "    if not isinstance(A, Variable):\r\n",
        "      A = Variable(A)\r\n",
        "    if not isinstance(B, Variable):\r\n",
        "      B = Variable(B)\r\n",
        "    result = Variable(A.value + B.value) # Create a new Variable to store the result, and pass it the value = a + b\r\n",
        "          \r\n",
        "    #keep track of the parent variables, and of the local derivative associated with each one\r\n",
        "    result.gradRoutes.append((A, 1)) # dresult / dA = 1\r\n",
        "    result.gradRoutes.append((B, 1)) # dresult / dB = 1\r\n",
        "    \r\n",
        "    return result\r\n",
        "\r\n",
        "def vSub(A: Variable, B: Variable):\r\n",
        "    if not isinstance(A, Variable):\r\n",
        "      A = Variable(A)\r\n",
        "    if not isinstance(B, Variable):\r\n",
        "      B = Variable(B)\r\n",
        "    result = Variable(A.value - B.value) # Create a new Variable to store the result, and pass it the value = a + b\r\n",
        "          \r\n",
        "    #keep track of the parent variables, and of the local derivative associated with each one\r\n",
        "    result.gradRoutes.append((A, 1)) # dresult / dA = 1\r\n",
        "    result.gradRoutes.append((B, -1)) # dresult / dB = 1\r\n",
        "    \r\n",
        "    return result\r\n",
        "    \r\n",
        "def vMul(A: Variable, B: Variable):\r\n",
        "    if not isinstance(A, Variable):\r\n",
        "      A = Variable(A)\r\n",
        "    if not isinstance(B, Variable):\r\n",
        "      B = Variable(B)\r\n",
        "    result = Variable(A.value * B.value) # Create a new Variable to store the result, and pass it the value = a + b\r\n",
        "          \r\n",
        "    #keep track of the parent variables, and of the local derivative associated with each one\r\n",
        "    result.gradRoutes.append((A, B.value)) # dresult / dA = B\r\n",
        "    result.gradRoutes.append((B, A.value)) # dresult / dB = A\r\n",
        "    \r\n",
        "    return result\r\n",
        "\r\n",
        "def vDiv(A: Variable, B: Variable):\r\n",
        "    if not isinstance(A, Variable):\r\n",
        "      A = Variable(A)\r\n",
        "    if not isinstance(B, Variable):\r\n",
        "      B = Variable(B)\r\n",
        "    result = Variable(A.value / B.value) # Create a new Variable to store the result, and pass it the value = a + b\r\n",
        "          \r\n",
        "    #keep track of the parent variables, and of the local derivative associated with each one\r\n",
        "    result.gradRoutes.append((A, 1/B.value)) # dresult / dA = B\r\n",
        "    result.gradRoutes.append((B, -1*A.value*B.value**(-1/B.value**2)))\r\n",
        "    \r\n",
        "    return result\r\n",
        "\r\n",
        "def vPow(A: Variable, B: Variable):\r\n",
        "    if not isinstance(A, Variable):\r\n",
        "      A = Variable(A)\r\n",
        "    if not isinstance(B, Variable):\r\n",
        "      B = Variable(B)\r\n",
        "    result = Variable(A.value ** B.value) # Create a new Variable to store the result, and pass it the value = a + b\r\n",
        "          \r\n",
        "    #keep track of the parent variables, and of the local derivative associated with each one\r\n",
        "    result.gradRoutes.append((A, B.value*A.value**(B.value-1)))\r\n",
        "    \r\n",
        "    return result"
      ],
      "execution_count": 22,
      "outputs": []
    },
    {
      "cell_type": "code",
      "metadata": {
        "id": "oO1Cy6FLKwmT"
      },
      "source": [
        "# Your Code Here\r\n",
        "class Variable: #Simple variable. These are the leafs of our tree, they can request to have a gradient calculated, or not\r\n",
        "    def __init__(self, value, requiresGrad=True):\r\n",
        "        self.value = value\r\n",
        "        self.gradRoutes = [] # A variable by default has no grad Routes (was not created by anything, just defined)\r\n",
        "        self.grad = 0.0\r\n",
        "        self.requiresGrad = requiresGrad\r\n",
        "    \r\n",
        "    def backProp(self, route_val = 1.0):\r\n",
        "        # Add together the incoming gradients from the different routes that lead to a node - this will be the final gradient for the node\r\n",
        "        self.grad += route_val\r\n",
        "                \r\n",
        "        # For every parent variable and corresponding local derivative value that we have in the gradRoutes, continue with the gradient calculation\r\n",
        "        for variable, local_derivative_value in self.gradRoutes:\r\n",
        "              if variable.requiresGrad == True:\r\n",
        "                # Multiply the incoming gradient with the local derivatives corresponding the parent variable, and continue the backpropagation\r\n",
        "                variable.backProp(local_derivative_value * route_val)\r\n",
        "\r\n",
        "    def zeroGrad(self):\r\n",
        "        self.grad = 0.0\r\n",
        "        \r\n",
        "    def zeroGradsRecursively(self):\r\n",
        "        self.zeroGrad()\r\n",
        "        for variable, _ in self.gradRoutes:\r\n",
        "            variable.zeroGradsRecursively()\r\n",
        "            \r\n",
        "    def __add__(self, b):\r\n",
        "        return vAdd(self, b)\r\n",
        "\r\n",
        "    def __sub__(self, b):\r\n",
        "        return vSub(self, b)\r\n",
        "        \r\n",
        "    def __mul__(self, b):\r\n",
        "        return vMul(self, b)    \r\n",
        "\r\n",
        "    def __truediv__(self, b):\r\n",
        "        return vDiv(self, b)  \r\n",
        "\r\n",
        "    def __pow__(self, b):\r\n",
        "        return vPow(self, b)     \r\n",
        "    \r\n",
        "    def __str__(self):\r\n",
        "        return 'Value: {self.value}, Gradient: {self.grad}'.format(self=self)"
      ],
      "execution_count": 23,
      "outputs": []
    },
    {
      "cell_type": "code",
      "metadata": {
        "id": "NUrCpwP9iyG3",
        "colab": {
          "base_uri": "https://localhost:8080/"
        },
        "outputId": "c2deadef-72cb-473d-b8d4-a0a36a2eca91"
      },
      "source": [
        "import time\n",
        "\n",
        "t = time.time() # Keep track of the time we started\n",
        "\n",
        "for epoch in range(2000):\n",
        "\n",
        "    #Zero gradients\n",
        "    w0.zeroGrad()\n",
        "    w1.zeroGrad()\n",
        "    w2.zeroGrad()\n",
        "    \n",
        "    batch_loss = Variable(0.0)\n",
        "    for x, y in zip(XX, YY):\n",
        "        #Forward pass\n",
        "        out = w0 + w1 * x + w2 * (x**2)\n",
        "        \n",
        "        # calculate loss for this training sample\n",
        "        loss = (out - y)**2\n",
        "        \n",
        "        # accumulate losses\n",
        "        batch_loss += loss\n",
        "        \n",
        "\n",
        "    # calculate cost (average of the individual losses)\n",
        "    batch_loss /= m\n",
        "    training_loss.append(batch_loss.value) # keep track of how our training loss evolves\n",
        "    \n",
        "    #backpropagate\n",
        "    batch_loss.backProp()\n",
        "\n",
        "    #Update parameters\n",
        "    w0.value = w0.value - lr * w0.grad\n",
        "    w1.value = w1.value - lr * w1.grad\n",
        "    w2.value = w2.value - lr * w2.grad    \n",
        "\n",
        "    del batch_loss # this should free some resources\n",
        "\n",
        "# Check how long it took\n",
        "print(\"Training took (secs):\", time.time() - t)"
      ],
      "execution_count": 26,
      "outputs": [
        {
          "output_type": "stream",
          "text": [
            "Training took (secs): 6.1133034229278564\n"
          ],
          "name": "stdout"
        }
      ]
    },
    {
      "cell_type": "markdown",
      "metadata": {
        "id": "undqn-IeiyG4"
      },
      "source": [
        "So, that took a while. Let's see what values we estimated."
      ]
    },
    {
      "cell_type": "code",
      "metadata": {
        "id": "v0-XodBNiyG4",
        "colab": {
          "base_uri": "https://localhost:8080/",
          "height": 312
        },
        "outputId": "cb777fdb-cd96-4201-8a90-11ba72d08814"
      },
      "source": [
        "# Print our our results\n",
        "print(\"Estimated weights:\", w0.value, w1.value, w2.value)\n",
        "\n",
        "#Make a plot of the evolution of the training loss\n",
        "plt.title('Evolution of the training loss')\n",
        "plt.xlabel(\"# Interation\")\n",
        "plt.ylabel(\"Training loss\")\n",
        "plt.plot(training_loss)\n",
        "plt.show()"
      ],
      "execution_count": 27,
      "outputs": [
        {
          "output_type": "stream",
          "text": [
            "Estimated weights: -1.1042269136150724 2.029129710839384 1.0336235467558479\n"
          ],
          "name": "stdout"
        },
        {
          "output_type": "display_data",
          "data": {
            "image/png": "[encoded data removed]",
            "text/plain": [
              "<Figure size 432x288 with 1 Axes>"
            ]
          },
          "metadata": {
            "tags": [],
            "needs_background": "light"
          }
        }
      ]
    },
    {
      "cell_type": "markdown",
      "metadata": {
        "id": "GXwXjbSmiyG5"
      },
      "source": [
        "The estimated values are not very far off the real values we used in the beginning. This is good news. Let's also plot the estimated polynomial to double check."
      ]
    },
    {
      "cell_type": "code",
      "metadata": {
        "id": "qr5NkigziyG5",
        "colab": {
          "base_uri": "https://localhost:8080/",
          "height": 298
        },
        "outputId": "18062f4a-45a5-45d3-da59-1759f55ba1b3"
      },
      "source": [
        "# Plot the result\n",
        "plt.title('Our estimated fit')\n",
        "plt.plot(XX, YY, '.')\n",
        "\n",
        "x = np.arange(-2, 2, 0.1)\n",
        "y = w0.value + w1.value * x + w2.value * x**2\n",
        "plt.plot(x, y, 'r')"
      ],
      "execution_count": 28,
      "outputs": [
        {
          "output_type": "execute_result",
          "data": {
            "text/plain": [
              "[<matplotlib.lines.Line2D at 0x7f81927c0f10>]"
            ]
          },
          "metadata": {
            "tags": []
          },
          "execution_count": 28
        },
        {
          "output_type": "display_data",
          "data": {
            "image/png": "[encoded data removed]",
            "text/plain": [
              "<Figure size 432x288 with 1 Axes>"
            ]
          },
          "metadata": {
            "tags": [],
            "needs_background": "light"
          }
        }
      ]
    },
    {
      "cell_type": "markdown",
      "metadata": {
        "id": "CmpxLCwviyG6"
      },
      "source": [
        "Note that the code above is VERY inefficient, but it should be readable.\n"
      ]
    },
    {
      "cell_type": "markdown",
      "metadata": {
        "id": "a7gBC5k6nFSS"
      },
      "source": [
        "\n",
        "### <font color=blue>Excercise 3:</font>\n",
        "\n",
        "\n",
        "<font color=blue> A) Can you draw the computation graph we have created here.</font>"
      ]
    },
    {
      "cell_type": "markdown",
      "metadata": {
        "id": "OE-8UxbaKNKh"
      },
      "source": [
        "![graf.png](data:image/png;base64,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)"
      ]
    },
    {
      "cell_type": "markdown",
      "metadata": {
        "id": "qLdGkKNFEgio"
      },
      "source": [
        "<font color=blue> B) Can we make this training loop more efficient in any way? How?</font>"
      ]
    },
    {
      "cell_type": "markdown",
      "metadata": {
        "id": "ptTueQyEN3xP"
      },
      "source": [
        "Para hacer el loop más eficiente debemos evitar el hecho de estar creando un grafo nuevo por cada x que tenemos, ya que esto es ineficiente en memoria. Aunque he probado de resolver este problema durante mucho rato, no he conseguido ninguna solución que funcione."
      ]
    },
    {
      "cell_type": "markdown",
      "metadata": {
        "id": "YP-XW-y2iyG7"
      },
      "source": [
        "## Classification"
      ]
    },
    {
      "cell_type": "markdown",
      "metadata": {
        "id": "2NhC_I8AiyG7"
      },
      "source": [
        "Now that we have seen how this works for regression, let's apply the same approach to a simple classification problem.\n",
        "\n",
        "First, we will create some random data for two concentric classes. The decision boundary between the two classes will be a circle."
      ]
    },
    {
      "cell_type": "code",
      "metadata": {
        "id": "xu81IqTAiyG7"
      },
      "source": [
        "m_per_class = 50\n",
        "m= 2 * m_per_class\n",
        "w = [2.0, 1.0, 3.0] # corresponding to radius and center of a circular decision boundary\n",
        "\n",
        "#Class 1 - random points inside the decision boundary\n",
        "angle = 2.0 * np.pi * np.random.rand(m_per_class)\n",
        "radius = w[0] * np.random.rand(m_per_class) #Radius in [0, w0]\n",
        "\n",
        "XX1 = w[1] + radius * np.cos(angle)\n",
        "XX2 = w[2] + radius * np.sin(angle)\n",
        "labels = np.zeros(m_per_class)\n",
        "\n",
        "#Class 2 - random points outside the decision boundary\n",
        "angle = 2.0 * np.pi * np.random.rand(m_per_class)\n",
        "radius = w[0] +  w[0] * np.random.rand(m_per_class) #Radius in [w0, 2 * w0]\n",
        "\n",
        "XX1 = np.concatenate( (XX1, w[1] + radius * np.cos(angle)) )\n",
        "XX2 = np.concatenate( (XX2, w[2] + radius * np.sin(angle)) )\n",
        "labels = np.concatenate( (labels, np.ones(m_per_class)) )"
      ],
      "execution_count": 31,
      "outputs": []
    },
    {
      "cell_type": "code",
      "metadata": {
        "id": "frMLggvDiyG7",
        "colab": {
          "base_uri": "https://localhost:8080/",
          "height": 338
        },
        "outputId": "f8f50085-cf9c-4289-95f2-94c657b4f4b8"
      },
      "source": [
        "import matplotlib.pyplot as plt\n",
        "\n",
        "plt.figure(figsize = (5, 5))\n",
        "plt.scatter(XX1, XX2, c = [('red' if cl == 0 else 'blue') for cl in labels])"
      ],
      "execution_count": 32,
      "outputs": [
        {
          "output_type": "execute_result",
          "data": {
            "text/plain": [
              "<matplotlib.collections.PathCollection at 0x7f819270fa90>"
            ]
          },
          "metadata": {
            "tags": []
          },
          "execution_count": 32
        },
        {
          "output_type": "display_data",
          "data": {
            "image/png": "[encoded data removed]",
            "text/plain": [
              "<Figure size 360x360 with 1 Axes>"
            ]
          },
          "metadata": {
            "tags": [],
            "needs_background": "light"
          }
        }
      ]
    },
    {
      "cell_type": "markdown",
      "metadata": {
        "id": "XQTGTZosiyG8"
      },
      "source": [
        "Since we have our own AutoGrad framework, instead of handcrafting features we will try to solve this directly, assuming the equation of a circle with unknown centre and radius. Our AutoGrad framework will figure out the gradients for whatever equation we give it."
      ]
    },
    {
      "cell_type": "markdown",
      "metadata": {
        "id": "nin2TDCNiyG8"
      },
      "source": [
        "### <font color=blue>Excercise 4:</font>\n",
        "\n",
        "\n",
        "<font color=blue> Adapt the solution for the regression problem we saw before to this scenario. This would imply changing the equation for the forward pass to the equation of a circle + sigmoid activation, and also changing the loss to a cross entropy one. Update the autograd framework as you see fit, in case you need to use operations you do not have.</font>"
      ]
    },
    {
      "cell_type": "code",
      "metadata": {
        "id": "0T5uixZXiyG8",
        "colab": {
          "base_uri": "https://localhost:8080/",
          "height": 320
        },
        "outputId": "70452557-fb52-4efe-ffbc-ace90cc428f3"
      },
      "source": [
        "# Your code here\n"
      ],
      "execution_count": null,
      "outputs": [
        {
          "output_type": "display_data",
          "data": {
            "image/png": "[encoded data removed]",
            "text/plain": [
              "<Figure size 360x360 with 1 Axes>"
            ]
          },
          "metadata": {
            "tags": [],
            "needs_background": "light"
          }
        }
      ]
    },
    {
      "cell_type": "code",
      "metadata": {
        "id": "LjH-KcvbDHnB"
      },
      "source": [
        "plt.figure(figsize = (5, 5))\n",
        "\n",
        "plt.scatter(XX1, XX2, c = [('red' if cl == 0 else 'blue') for cl in labels])\n",
        "\n",
        "x = y = np.arange(-4, 8, 0.1)\n",
        "xx, yy = np.meshgrid(x, y, sparse=True)\n",
        "z = ( ((xx-w1.value)**2) + ((yy-w2.value)**2) )**0.5 - w0.value\n",
        "h = plt.contour(x,y,z, levels = [0.5])"
      ],
      "execution_count": null,
      "outputs": []
    }
  ]
}